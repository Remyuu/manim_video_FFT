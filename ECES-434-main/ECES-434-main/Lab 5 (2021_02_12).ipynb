{
  "nbformat": 4,
  "nbformat_minor": 0,
  "metadata": {
    "colab": {
      "name": "Lab 5",
      "provenance": [],
      "collapsed_sections": []
    },
    "kernelspec": {
      "name": "python3",
      "display_name": "Python 3"
    }
  },
  "cells": [
    {
      "cell_type": "markdown",
      "metadata": {
        "id": "HN408Gx2Cq81"
      },
      "source": [
        "# Lab 5 - **Simple Audio Encoder**\n",
        "\n",
        "___\n",
        "\n",
        "**Lab Overview**\n",
        "\n",
        "In this lab you will compress a music file by saving only the frequencies with the highest magnitudes in the STFT. You will report the compression ratio and observe how it changes for different encoding parameters. In next week's lab, you will build the decoder which reconstructs the audio signal from the compressed format.\n",
        "___"
      ]
    },
    {
      "cell_type": "markdown",
      "metadata": {
        "id": "OdkjLu-kDScS"
      },
      "source": [
        "**1.** First, run this code to mount google drive so that you can access the class files."
      ]
    },
    {
      "cell_type": "code",
      "metadata": {
        "id": "qaKb0TJdClwu"
      },
      "source": [
        "from google.colab import drive\n",
        "drive.mount('/content/drive')"
      ],
      "execution_count": null,
      "outputs": []
    },
    {
      "cell_type": "markdown",
      "metadata": {
        "id": "nzTG_n9lDbF-"
      },
      "source": [
        "Next, run this code to import the libraries you'll be using."
      ]
    },
    {
      "cell_type": "code",
      "metadata": {
        "id": "AocR22QwDetd"
      },
      "source": [
        "import librosa\n",
        "import IPython.display as ipd\n",
        "import matplotlib.pyplot as plt\n",
        "import numpy as np\n",
        "import sys # to get the size of python objects\n",
        "import pickle # to serialize python objects"
      ],
      "execution_count": null,
      "outputs": []
    },
    {
      "cell_type": "markdown",
      "metadata": {
        "id": "RBVMLRp5DiCV"
      },
      "source": [
        "Run the code below which loads a song excerpt that you will be compressing."
      ]
    },
    {
      "cell_type": "code",
      "metadata": {
        "id": "QSLKR1v-Eeie"
      },
      "source": [
        "load_path = \"/content/drive/MyDrive/ECES-434 Sessions/Lab 5/audio/\"\n",
        "y_original, fs = librosa.load(load_path + \"help.wav\", sr=None)\n",
        "\n",
        "ipd.Audio(y_original, rate=fs)\n"
      ],
      "execution_count": null,
      "outputs": []
    },
    {
      "cell_type": "markdown",
      "metadata": {
        "id": "wQCyJHtQuYEe"
      },
      "source": [
        "**2.** To compress this music excerpt, you will save only the most prominent frequencies happening at a given time. This is an example of lossy compression––the song will certainly be losing some information. But the hope is that the most relevant info is getting saved.\n",
        "\n",
        "First, use librosa.stft to compute the Short-time Fourier Transform (STFT) of the song and store it in the variable S. For now, use the default STFT parameters."
      ]
    },
    {
      "cell_type": "code",
      "metadata": {
        "id": "E8-FxV4oukXy"
      },
      "source": [
        "# Your code here\n",
        "S = "
      ],
      "execution_count": null,
      "outputs": []
    },
    {
      "cell_type": "markdown",
      "metadata": {
        "id": "4wGNB9nXwaUq"
      },
      "source": [
        "What are the dimensions of S? Which dimension is for frequency, which for time bins? (You may want to look at the librosa.stft documentation.)"
      ]
    },
    {
      "cell_type": "markdown",
      "metadata": {
        "id": "egFWi8TGwvgX"
      },
      "source": [
        "*Your response here*"
      ]
    },
    {
      "cell_type": "markdown",
      "metadata": {
        "id": "XCg9NqEoxjNh"
      },
      "source": [
        "**3.** Let n be the number of frequencies you will save at each bin. For now, set n to equal 20.\n",
        "\n",
        "Set y_compressed to be an empty array of dimension: (# time bins in S, 2, n)\n",
        "\n",
        "(For each time bin, you will save n frequencies, and their magnitudes.)"
      ]
    },
    {
      "cell_type": "code",
      "metadata": {
        "id": "YRvLXg2MJvVd"
      },
      "source": [
        "# Your code here\n",
        "n = \n",
        "y_compressed = "
      ],
      "execution_count": null,
      "outputs": []
    },
    {
      "cell_type": "markdown",
      "metadata": {
        "id": "n0OFGAu4RW4-"
      },
      "source": [
        "**4.** Now, you will populate the y_compressed array. Some of the code is given to you––your task is to fill in the blanks."
      ]
    },
    {
      "cell_type": "code",
      "metadata": {
        "id": "XxpBoqA3wyh3"
      },
      "source": [
        "for i in range(S.shape[1]):\n",
        "  \n",
        "  # each column of the stft is a dft of a window of samples\n",
        "  dft = S[:,i]\n",
        "  \n",
        "  # TO DO: compute the magnitude spectrum from the dft\n",
        "  # Your code here\n",
        "  mag_spec = \n",
        "  \n",
        "  # TO DO: generate a frequency axis for the dft \n",
        "  # Your code here\n",
        "  freq = \n",
        "  \n",
        "  # this code sorts the magnitude spectrum and frequency vector together by descending magnitude\n",
        "  mag_spec, freq = (list(t) for t in zip(*sorted(zip(mag_spec, freq),reverse = True)))\n",
        "  \n",
        "  # TO DO: get the top n magnitudes and freqs and store then in the y_compressed array\n",
        "  # Your code here\n"
      ],
      "execution_count": null,
      "outputs": []
    },
    {
      "cell_type": "markdown",
      "metadata": {
        "id": "ViH9wUCJSqAP"
      },
      "source": [
        "At time index 100, which frequency bin had the highest magnitude? What was its magnitude?"
      ]
    },
    {
      "cell_type": "markdown",
      "metadata": {
        "id": "YphG6jPkiiHB"
      },
      "source": [
        "*Your response here*"
      ]
    },
    {
      "cell_type": "markdown",
      "metadata": {
        "id": "os0JKfd1T2XA"
      },
      "source": [
        "**5.** Now, compute the compression ratio of this encoder for the given song and report it below. \n",
        "\n",
        "Compression ratio is the original size over the compressed size. To find the size of a python object, we first serialize the object into a string of bytes using pickle.dumps() and then get its size using sys.getsizeof().\n",
        "\n",
        "For instance to get the size of an array x, do: sys.getsizeof(pickle.dumps(x))"
      ]
    },
    {
      "cell_type": "code",
      "metadata": {
        "id": "IKnWKRFqL4Q1"
      },
      "source": [
        "# Your code here"
      ],
      "execution_count": null,
      "outputs": []
    },
    {
      "cell_type": "markdown",
      "metadata": {
        "id": "nS5HVDP6VhjS"
      },
      "source": [
        "*Your response here*"
      ]
    },
    {
      "cell_type": "markdown",
      "metadata": {
        "id": "mFW2uWAfUynY"
      },
      "source": [
        "**6.** Answer the following questions. What is the compression ratio for the encoder if...\n",
        "\n",
        "**a.** You save 40 frequencies instead of 20? \n",
        "\n",
        "**b.** When computing the STFT, you use a hop length of 1024 instead of librosa's deafault 512? (Go back to using 20 frequencies.)\n",
        "\n",
        "**c.** You save 40 frequencies *and* use a hop length of 1024?"
      ]
    },
    {
      "cell_type": "markdown",
      "metadata": {
        "id": "ICaPYI_Alfrr"
      },
      "source": [
        "*Your responses here*\n",
        "\n",
        "a.\n",
        "\n",
        "b.\n",
        "\n",
        "c."
      ]
    },
    {
      "cell_type": "markdown",
      "metadata": {
        "id": "HOUkp18CHysR"
      },
      "source": [
        "**7. To Submit:** Use the file menu in Colab to locate this notebook file in \n",
        "your Google Drive. Right click the file name and click share. Share it with wiggins@excitecenter.org. Check with the TA to make sure the submission is received."
      ]
    },
    {
      "cell_type": "markdown",
      "metadata": {
        "id": "VbA7MhKcMXVD"
      },
      "source": [
        "___\n",
        "\n",
        "END OF LAB"
      ]
    }
  ]
}