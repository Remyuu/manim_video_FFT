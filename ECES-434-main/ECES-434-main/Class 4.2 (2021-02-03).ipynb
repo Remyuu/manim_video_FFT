{
  "nbformat": 4,
  "nbformat_minor": 0,
  "metadata": {
    "colab": {
      "name": "Class 4.2 (2021-02-03).ipynb",
      "provenance": [],
      "collapsed_sections": [
        "70YbUklCYuue",
        "4xLeOGxb-mOr"
      ],
      "toc_visible": true,
      "include_colab_link": true
    },
    "kernelspec": {
      "display_name": "Python 3",
      "name": "python3"
    }
  },
  "cells": [
    {
      "cell_type": "markdown",
      "metadata": {
        "id": "view-in-github",
        "colab_type": "text"
      },
      "source": [
        "<a href=\"https://colab.research.google.com/github/youngmoo/ECES-434/blob/main/Class%204.2%20(2021-02-03).ipynb\" target=\"_parent\"><img src=\"https://colab.research.google.com/assets/colab-badge.svg\" alt=\"Open In Colab\"/></a>"
      ]
    },
    {
      "cell_type": "markdown",
      "metadata": {
        "id": "qHxN8R_ItyXz"
      },
      "source": [
        "# **ECES-434: Class 4.2 (2021-02-03)**\n",
        "Week 4: Groundhog says 6 more weeks of Winter :-(\n",
        "\n",
        "As always, start by importing the \"usual\" modules we'll be using..."
      ]
    },
    {
      "cell_type": "code",
      "metadata": {
        "id": "eDaoDgqCs1mp"
      },
      "source": [
        "import numpy as np                      # NumPy, abbreviated as np\n",
        "import matplotlib.pyplot as plt         # MatplotLib PyPlot module, abbreviated as plt\n",
        "from matplotlib import animation, rc    # MatplotLib animation module\n",
        "%matplotlib inline\n",
        "from scipy import signal                # SciPy's signal module, for DSP functions\n",
        "import soundfile as sf                  # Switching to the soundfile module for reading and writing soundfiles\n",
        "\n",
        "import IPython.display as ipd           # Interactive Python display module, for playing sounds\n",
        "from IPython.display import HTML        # For displaying animations\n",
        "rc('animation', html='jshtml')          # Provides animation controls\n",
        "\n",
        "ClassPath = '/content/drive/My Drive/ECES-434 Sessions/Class 4-2/'"
      ],
      "execution_count": null,
      "outputs": []
    },
    {
      "cell_type": "code",
      "metadata": {
        "id": "QUiMfqMhOWCI"
      },
      "source": [
        "# CHANGE THIS to your Drexel username!!\n",
        "username = 'anonymous'"
      ],
      "execution_count": null,
      "outputs": []
    },
    {
      "cell_type": "code",
      "metadata": {
        "id": "7f-OzFc_mN4w"
      },
      "source": [
        "from google.colab import drive\n",
        "drive.mount('/content/drive')"
      ],
      "execution_count": null,
      "outputs": []
    },
    {
      "cell_type": "markdown",
      "metadata": {
        "id": "70YbUklCYuue"
      },
      "source": [
        "# Custom plotting functions\n",
        "Because we plot a lot... Minor tweaks since last class (4.1)"
      ]
    },
    {
      "cell_type": "markdown",
      "metadata": {
        "id": "oKE5IroW-PTp"
      },
      "source": [
        "## plotSpectrogram"
      ]
    },
    {
      "cell_type": "code",
      "metadata": {
        "id": "zZcRt6-mhtjY"
      },
      "source": [
        ""
      ],
      "execution_count": null,
      "outputs": []
    },
    {
      "cell_type": "code",
      "metadata": {
        "id": "mGnf6L4cq-UI"
      },
      "source": [
        "def plotSpectrogram(sig, fs, win='hann', nseg=512, olap=256, fft_len=512):\n",
        "  f1, t1, Sxx = signal.spectrogram(sig, fs, window=win, nperseg=nseg, noverlap=olap, nfft=fft_len)\n",
        "\n",
        "  fig = plt.figure(figsize=(16,6))\n",
        "\n",
        "  plt.pcolormesh(t1, f1, 20*np.log10(np.abs(Sxx)))\n",
        "  plt.ylabel('Frequency (Hz)')\n",
        "  plt.xlabel('Time (sec)')\n",
        "  return fig, plt"
      ],
      "execution_count": null,
      "outputs": []
    },
    {
      "cell_type": "markdown",
      "metadata": {
        "id": "cDBQiEc8-UFH"
      },
      "source": [
        "## myPlot(): properly formats time domain plot of a signal"
      ]
    },
    {
      "cell_type": "code",
      "metadata": {
        "id": "f8v2wTLmIlZd"
      },
      "source": [
        "def myPlot(sig, fs=44100):\n",
        "  fig = plt.figure(figsize=(16,4))\n",
        "  t = np.arange(len(sig)) / fs\n",
        "  plt.plot(t, sig)\n",
        "  plt.xlabel('Time (sec)')\n",
        "  return fig, plt"
      ],
      "execution_count": null,
      "outputs": []
    },
    {
      "cell_type": "markdown",
      "metadata": {
        "id": "mILGhvzF-hmU"
      },
      "source": [
        "## myPlotFFT(): properly formats frequency domain plot of a signal"
      ]
    },
    {
      "cell_type": "code",
      "metadata": {
        "id": "xTksRiMEIm3x"
      },
      "source": [
        "def myPlotFFT(sig, n_fft=0, x_lim=22050, fs=44100):\n",
        "  if n_fft==0:                 \n",
        "    n_fft = len(sig)                    # Default to length of input signal\n",
        "  S = np.fft.fft(sig, n_fft)\n",
        "  N = len(S)\n",
        "  f = np.arange(N) * fs / N\n",
        "  fig = plt.figure(figsize=(16,4))\n",
        "  plt.plot(f, 20*np.log10(np.abs(S)))\n",
        "  plt.xlim(0, x_lim)\n",
        "  return fig, plt  "
      ],
      "execution_count": null,
      "outputs": []
    },
    {
      "cell_type": "markdown",
      "metadata": {
        "id": "4xLeOGxb-mOr"
      },
      "source": [
        "## Custom FFT animation functions"
      ]
    },
    {
      "cell_type": "code",
      "metadata": {
        "id": "bCcL0uLp-N9T"
      },
      "source": [
        "n_o = 0\n",
        "f_size = 2048\n",
        "n_hop = f_size / 2\n",
        "N_fft = 4096\n",
        "fs = 44100\n",
        "f = np.arange(N_fft) * fs / N_fft\n",
        "\n",
        "# First set up the figure, the axis, and the plot element we want to animate\n",
        "def setupAnimFFT(x_lim=(0,20000), y_lim=(-120,100)):\n",
        "  fig = plt.figure(figsize=(14,6))\n",
        "  ax = plt.axes(xlim=x_lim,ylim=y_lim)\n",
        "  plt.close()   # Don't output the final figure separately\n",
        "  line, = ax.plot([], [])\n",
        "  return fig, line\n",
        "\n",
        "# initialization function: plot the background of each frame\n",
        "def initAnimFFT():\n",
        "    line.set_data([], [])\n",
        "    return (line,)\n",
        "\n",
        "# animation function. This is called sequentially  \n",
        "def animateFFT(i, sig):\n",
        "    n1 = int(n_o + n_hop*i)\n",
        "    n2 = int(n_o + n_hop*i + f_size)\n",
        "\n",
        "    x_i = sig[n1:n2]\n",
        "    X_i = np.fft.fft(x_i * np.hanning(len(x_i)), n=N_fft)\n",
        "    X_mag = 20*np.log(np.abs(X_i))\n",
        "\n",
        "    line.set_data(f, X_mag)\n",
        "    return (line,)  \n",
        "\n",
        "# Usage:\n",
        "# fig, line = setupAnimFFT()\n",
        "# anim = animation.FuncAnimation(fig, animateFFT, init_func=initAnimFFT, frames=120, fargs=(signal,), interval=1000/30, blit=True)\n",
        "# anim"
      ],
      "execution_count": null,
      "outputs": []
    },
    {
      "cell_type": "markdown",
      "metadata": {
        "id": "e7-jlroJMv4g"
      },
      "source": [
        "# Load today's sound files"
      ]
    },
    {
      "cell_type": "code",
      "metadata": {
        "id": "WsyA1Et0OWSm"
      },
      "source": [
        "a44s, fs44 = sf.read(ClassPath + 'sounds/Haydn-44kHz.wav')\n",
        "a44 = np.mean(a44s, axis=1)\n",
        "ipd.Audio(a44,rate=fs44)"
      ],
      "execution_count": null,
      "outputs": []
    },
    {
      "cell_type": "code",
      "metadata": {
        "id": "ixLydDz6Nb89"
      },
      "source": [
        "a11, fs11 = sf.read(ClassPath + 'sounds/Haydn-11kHz.wav')\n",
        "ipd.Audio(a11,rate=fs11)"
      ],
      "execution_count": null,
      "outputs": []
    },
    {
      "cell_type": "markdown",
      "metadata": {
        "id": "rll2YfJ9vTta"
      },
      "source": [
        "# Continuing (almost) arbitrary sample rate conversation\n",
        "We were changing the sampling rate of a signal by a rational number (a ratio of integers)"
      ]
    },
    {
      "cell_type": "markdown",
      "metadata": {
        "id": "pu-6PMyEvYR8"
      },
      "source": [
        "## Last class: Upsample and downsample by intgers, even large factors"
      ]
    },
    {
      "cell_type": "code",
      "metadata": {
        "id": "fAZg9ZOtEDKP"
      },
      "source": [
        "a11_up640 = np.zeros(len(a11)*640)\n",
        "a11_up640[::640] = a11\n",
        "myPlot(a11_up640[:10000])"
      ],
      "execution_count": null,
      "outputs": []
    },
    {
      "cell_type": "markdown",
      "metadata": {
        "id": "ivQNcpFbOMcy"
      },
      "source": [
        "## Let's scale back our ambitions, and upsample/downsample by smaller factors?\n",
        "We ran into computational issues with large factors, so let's start with 7/5\n",
        "* 11025 (7/5) = 15435\n",
        "\n",
        "First upsample by 7..."
      ]
    },
    {
      "cell_type": "code",
      "metadata": {
        "id": "GBtsCc4gEyZB"
      },
      "source": [
        "a11_up7 = np.zeros(len(a11)*7)\n",
        "a11_up7[::7] = a11\n",
        "myPlot(a11_up7[:500])"
      ],
      "execution_count": null,
      "outputs": []
    },
    {
      "cell_type": "markdown",
      "metadata": {
        "id": "RDxrtcsfRJvA"
      },
      "source": [
        "Take a look at the spectrum of the first part of the upsampled signal, say 16384 samples (remember, we're now at a sampling rate of:\n",
        "* 11025(7) = 77175"
      ]
    },
    {
      "cell_type": "code",
      "metadata": {
        "id": "UWZY4aPWQ2Jw"
      },
      "source": [
        "myPlotFFT                     # What are we looking at?"
      ],
      "execution_count": null,
      "outputs": []
    },
    {
      "cell_type": "markdown",
      "metadata": {
        "id": "Ten6KinKO9Vk"
      },
      "source": [
        "### And filter with a straight moving average..."
      ]
    },
    {
      "cell_type": "code",
      "metadata": {
        "id": "tWlVyqGJFFAI"
      },
      "source": [
        "L = 13                     # Length (order) of our moving average FIR filter\n",
        "h_ma = np.ones(L)/L\n",
        "a11_up7_ma =               # How do we convolve our signal with this FIR filter?\n",
        "\n",
        "myPlot(a11_up7_ma[:500])   # Plot the signal to take a look"
      ],
      "execution_count": null,
      "outputs": []
    },
    {
      "cell_type": "markdown",
      "metadata": {
        "id": "_5rQMlv6Pn26"
      },
      "source": [
        "### Take a look at the straight MA filter in the frequency domain..."
      ]
    },
    {
      "cell_type": "code",
      "metadata": {
        "id": "YoGlUKcMOZ-W"
      },
      "source": [
        "myPlotFFT"
      ],
      "execution_count": null,
      "outputs": []
    },
    {
      "cell_type": "markdown",
      "metadata": {
        "id": "IYHkQeSqSaT5"
      },
      "source": [
        "### Take a look at the beginning of our filtered signal in the frequency domain..."
      ]
    },
    {
      "cell_type": "code",
      "metadata": {
        "id": "eo85EnY4SlKP"
      },
      "source": [
        "myPlotFFT"
      ],
      "execution_count": null,
      "outputs": []
    },
    {
      "cell_type": "markdown",
      "metadata": {
        "id": "Gy_FdKBsRnXv"
      },
      "source": [
        "### Downsample the MA filtered signal and take a listen..."
      ]
    },
    {
      "cell_type": "code",
      "metadata": {
        "id": "_UUFvACDOrcU"
      },
      "source": [
        "ipd.Audio(a11_up7_ma[::5],rate = 15435)"
      ],
      "execution_count": null,
      "outputs": []
    },
    {
      "cell_type": "markdown",
      "metadata": {
        "id": "oITVofI4RvC8"
      },
      "source": [
        "## What if we try a weighted, moving average, like a Hann window?"
      ]
    },
    {
      "cell_type": "code",
      "metadata": {
        "id": "Ben0GphxFqID"
      },
      "source": [
        "M = 13                              # Length of our Hann-weighted FIR filter\n",
        "h_hann = np.hanning(M)              # Use the Hann(ing) function\n",
        "h_hann = h_hann / np.sum(h_hann)    # Normalize the filter\n",
        "myPlot(h_hann, fs=11025*7)          # Plot our filter"
      ],
      "execution_count": null,
      "outputs": []
    },
    {
      "cell_type": "code",
      "metadata": {
        "id": "06DBHBSuHGfv"
      },
      "source": [
        "a11_up7_hann =                         # Convolve our signal with the filter\n",
        "myPlot(a11_up7_hann[:1000])"
      ],
      "execution_count": null,
      "outputs": []
    },
    {
      "cell_type": "markdown",
      "metadata": {
        "id": "hGrHncJnjd5Q"
      },
      "source": [
        "### Plot the FFT of the Hann filter"
      ]
    },
    {
      "cell_type": "code",
      "metadata": {
        "id": "hDDA43L7F1PA"
      },
      "source": [
        "myPlotFFT"
      ],
      "execution_count": null,
      "outputs": []
    },
    {
      "cell_type": "markdown",
      "metadata": {
        "id": "blQumgDJjkJF"
      },
      "source": [
        "### Plot the FFT of the filtered signal\n",
        "Not the whole signal, just the beginning, maybe 16384 samples."
      ]
    },
    {
      "cell_type": "code",
      "metadata": {
        "id": "WHbK63nOTDAH"
      },
      "source": [
        "myPlotFFT"
      ],
      "execution_count": null,
      "outputs": []
    },
    {
      "cell_type": "markdown",
      "metadata": {
        "id": "LBNVCbOCjx8f"
      },
      "source": [
        "### Downsample by 5 and take a listen"
      ]
    },
    {
      "cell_type": "code",
      "metadata": {
        "id": "3CI1rW5AHbD9"
      },
      "source": [
        "a15435 = a11_up7_hann[::5]\n",
        "myPlot(a15435[:1000])\n",
        "ipd.Audio(a15435,rate=15435)"
      ],
      "execution_count": null,
      "outputs": []
    },
    {
      "cell_type": "markdown",
      "metadata": {
        "id": "RkirLO9lWnPG"
      },
      "source": [
        "## Try other windows?\n",
        "* Bartlet (triangle): Linear interpolation\n",
        "* Hamming\n",
        "* Blackman"
      ]
    },
    {
      "cell_type": "code",
      "metadata": {
        "id": "OuEEINtYXEwQ"
      },
      "source": [
        "M =                               # Set the filter order (length)\n",
        "h_mine =                          # define a window\n",
        "h_mine =                          # Normalize the window\n",
        "\n",
        "a11_up7_mine =                    # Convolve upsampled signal with your filter\n",
        "\n",
        "fig,plt = myPlotFFT               # Plot the FFT of your new filter\n",
        "\n",
        "# Uncomment next line to save your figure to Google Drive\n",
        "# fig.savefig(ClassPath + 'filters/' + username + '-filter.png')"
      ],
      "execution_count": null,
      "outputs": []
    },
    {
      "cell_type": "markdown",
      "metadata": {
        "id": "qGf6DCxTkLG5"
      },
      "source": [
        "### Plot the filtered signal"
      ]
    },
    {
      "cell_type": "code",
      "metadata": {
        "id": "afjof0PcZZd4"
      },
      "source": [
        "a11_up7_mine =   # Convolve upsampled signal with your filter\n",
        "\n",
        "fig,plt =        # Plot the filtered signal\n",
        "\n",
        "# Uncomment next line to save figure to Google Drive\n",
        "# fig.savefig(ClassPath + 'signals/' + username + '-signal.png')"
      ],
      "execution_count": null,
      "outputs": []
    },
    {
      "cell_type": "markdown",
      "metadata": {
        "id": "R9P9SH_ekPzG"
      },
      "source": [
        "### Plot the FFT of the filtered signal"
      ]
    },
    {
      "cell_type": "code",
      "metadata": {
        "id": "D2b_cXlnahEb"
      },
      "source": [
        "fig,plt = myPlotFFT\n",
        "\n",
        "# fig.savefig(ClassPath + 'signal_FFTs/' + username + '-signal_FFT.png')"
      ],
      "execution_count": null,
      "outputs": []
    },
    {
      "cell_type": "markdown",
      "metadata": {
        "id": "wG7QODECTi3F"
      },
      "source": [
        "# What about an IIR filter?\n"
      ]
    },
    {
      "cell_type": "code",
      "metadata": {
        "id": "rFQiQVJ_Tn4V"
      },
      "source": [
        "A = 0.5\n",
        "h_iir = (1-A) * A ** np.arange(2048)\n",
        "myPlot(h_iir)"
      ],
      "execution_count": null,
      "outputs": []
    },
    {
      "cell_type": "code",
      "metadata": {
        "id": "PHKT6_W7T7cH"
      },
      "source": [
        "myPlotFFT(h_iir, x_lim=40000, fs=fs11*7)"
      ],
      "execution_count": null,
      "outputs": []
    },
    {
      "cell_type": "code",
      "metadata": {
        "id": "1ySUI8CuVSSt"
      },
      "source": [
        "def myPlotFFTPhase(sig, n_fft=0, x_lim=22050, fs=44100):\n",
        "  if n_fft==0:                 \n",
        "    n_fft = len(sig)                    # Default to length of input signal\n",
        "  S = np.fft.fft(sig, n_fft)\n",
        "  N = len(S)\n",
        "  f = np.arange(N) * fs / N\n",
        "  fig = plt.figure(figsize=(16,4))\n",
        "  \n",
        "  plt.plot(f,                          # How do we get the phase of the FFT?\n",
        "           \n",
        "  plt.xlim(0, x_lim)\n",
        "  plt.xlabel('Frequency (Hz)')\n",
        "  plt.ylabel('Phase (radians)')\n",
        "  return plt"
      ],
      "execution_count": null,
      "outputs": []
    },
    {
      "cell_type": "code",
      "metadata": {
        "id": "fffBevlfVlHW"
      },
      "source": [
        "myPlotFFTPhase(h_iir, x_lim=40000, fs=fs11*7)"
      ],
      "execution_count": null,
      "outputs": []
    },
    {
      "cell_type": "code",
      "metadata": {
        "id": "dIHbQ-aYV-Em"
      },
      "source": [
        "myPlotFFTPhase(h_hann, n_fft=4096, x_lim=40000, fs=fs11*7)"
      ],
      "execution_count": null,
      "outputs": []
    },
    {
      "cell_type": "markdown",
      "metadata": {
        "id": "d4UozrUBW-tu"
      },
      "source": [
        "# Is there an optimal or ideal FIR low-pass filter?\n",
        "\n"
      ]
    },
    {
      "cell_type": "code",
      "metadata": {
        "id": "PihsUqm9vi2f"
      },
      "source": [
        "fs = fs11*7\n",
        "N = 1024\n",
        "L = 32\n",
        "H_ideal = np.zeros(N)\n",
        "H_ideal[:L] = np.ones(L)\n",
        "\n",
        "fig = plt.figure(figsize=(16,4))\n",
        "f = np.arange(N) * fs / N\n",
        "plt.plot(f, H_ideal)"
      ],
      "execution_count": null,
      "outputs": []
    },
    {
      "cell_type": "markdown",
      "metadata": {
        "id": "P0CH853BecUE"
      },
      "source": [
        "## Is there an *inverse* Fourier Transform?\n",
        "We haven't learned this yet, but let's try it..."
      ]
    },
    {
      "cell_type": "code",
      "metadata": {
        "id": "U382FkdDbzBz"
      },
      "source": [
        "h_ideal = np.fft.ifft(H_ideal)\n",
        "myPlot(np.real(h_ideal), fs=fs11*7)"
      ],
      "execution_count": null,
      "outputs": []
    },
    {
      "cell_type": "code",
      "metadata": {
        "id": "EP5QWpqscXjD"
      },
      "source": [
        "myPlot(np.imag(h_ideal), fs=fs11*7)"
      ],
      "execution_count": null,
      "outputs": []
    },
    {
      "cell_type": "code",
      "metadata": {
        "id": "ofbDYz51clsL"
      },
      "source": [
        "H_ideal_sym = np.append(H_ideal, np.flipud(H_ideal))\n",
        "\n",
        "fig = plt.figure(figsize=(16,4))\n",
        "f = np.arange(len(H_ideal_sym)) * fs / len(H_ideal_sym)\n",
        "plt.plot(f, H_ideal_sym)"
      ],
      "execution_count": null,
      "outputs": []
    },
    {
      "cell_type": "code",
      "metadata": {
        "id": "NnmT9qUBcyR8"
      },
      "source": [
        "h_ideal_sym = np.fft.ifft(H_ideal_sym)\n",
        "myPlot(np.real(h_ideal_sym))"
      ],
      "execution_count": null,
      "outputs": []
    },
    {
      "cell_type": "code",
      "metadata": {
        "id": "P-nHnClVdl0q"
      },
      "source": [
        "h_ideal_shift = np.fft.fftshift(h_ideal_sym)\n",
        "myPlot(np.real(h_ideal_shift))"
      ],
      "execution_count": null,
      "outputs": []
    }
  ]
}