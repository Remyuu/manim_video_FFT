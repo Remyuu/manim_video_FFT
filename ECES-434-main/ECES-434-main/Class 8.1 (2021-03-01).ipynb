{
  "nbformat": 4,
  "nbformat_minor": 0,
  "metadata": {
    "colab": {
      "name": "Class 8.1 (2021-03-01).ipynb",
      "provenance": [],
      "collapsed_sections": [
        "70YbUklCYuue",
        "oKE5IroW-PTp"
      ],
      "toc_visible": true,
      "include_colab_link": true
    },
    "kernelspec": {
      "display_name": "Python 3",
      "name": "python3"
    }
  },
  "cells": [
    {
      "cell_type": "markdown",
      "metadata": {
        "id": "view-in-github",
        "colab_type": "text"
      },
      "source": [
        "<a href=\"https://colab.research.google.com/github/youngmoo/ECES-434/blob/main/Class%208.1%20(2021-03-01).ipynb\" target=\"_parent\"><img src=\"https://colab.research.google.com/assets/colab-badge.svg\" alt=\"Open In Colab\"/></a>"
      ]
    },
    {
      "cell_type": "markdown",
      "metadata": {
        "id": "qHxN8R_ItyXz"
      },
      "source": [
        "# **ECES-434: Class 8.1 (2021-03-01)**\n",
        "Week 8: It's already March!"
      ]
    },
    {
      "cell_type": "code",
      "metadata": {
        "id": "eDaoDgqCs1mp"
      },
      "source": [
        "import numpy as np                      # NumPy, abbreviated as np\n",
        "import matplotlib.pyplot as plt         # MatplotLib PyPlot module, abbreviated as plt\n",
        "from matplotlib import animation, rc    # MatplotLib animation module\n",
        "%matplotlib inline\n",
        "from scipy import signal                # SciPy's signal module, for DSP functions\n",
        "import soundfile as sf                  # Switching to the soundfile module for reading and writing soundfiles\n",
        "import librosa\n",
        "\n",
        "import IPython.display as ipd           # Interactive Python display module, for playing sounds\n",
        "from IPython.display import HTML        # For displaying animations\n",
        "rc('animation', html='jshtml')          # Provides animation controls\n",
        "\n",
        "ClassPath = '/content/drive/My Drive/ECES-434 Sessions/Class 8-1/'"
      ],
      "execution_count": null,
      "outputs": []
    },
    {
      "cell_type": "code",
      "metadata": {
        "id": "c7sMYwOh7lrE"
      },
      "source": [
        "rc('figure', figsize=(16,4))"
      ],
      "execution_count": null,
      "outputs": []
    },
    {
      "cell_type": "code",
      "metadata": {
        "id": "QUiMfqMhOWCI"
      },
      "source": [
        "# CHANGE THIS to your Drexel username!!\n",
        "username = 'anonymous'"
      ],
      "execution_count": null,
      "outputs": []
    },
    {
      "cell_type": "code",
      "metadata": {
        "id": "7f-OzFc_mN4w"
      },
      "source": [
        "from google.colab import drive\n",
        "drive.mount('/content/drive')"
      ],
      "execution_count": null,
      "outputs": []
    },
    {
      "cell_type": "markdown",
      "metadata": {
        "id": "70YbUklCYuue"
      },
      "source": [
        "# Custom plotting functions\n",
        "Because we're always plotting..."
      ]
    },
    {
      "cell_type": "markdown",
      "metadata": {
        "id": "oKE5IroW-PTp"
      },
      "source": [
        "## plotSpectrogram"
      ]
    },
    {
      "cell_type": "code",
      "metadata": {
        "id": "mGnf6L4cq-UI"
      },
      "source": [
        "def plotSpectrogram(sig, fs, win='hann', nseg=512, olap=256, fft_len=512):\n",
        "  \n",
        "  f1, t1, Sxx = signal.spectrogram(sig, fs, window=win, nperseg=nseg, noverlap=olap, nfft=fft_len)\n",
        "  fig = plt.figure(figsize=(16,6))\n",
        "  \n",
        "  plt.pcolormesh(t1, f1, 20*np.log10(np.abs(Sxx)))\n",
        "  plt.ylabel('Frequency (Hz)')\n",
        "  plt.xlabel('Time (sec)')\n",
        "  return plt"
      ],
      "execution_count": null,
      "outputs": []
    },
    {
      "cell_type": "markdown",
      "metadata": {
        "id": "cDBQiEc8-UFH"
      },
      "source": [
        "## myPlot(): properly formats time domain plot of a signal"
      ]
    },
    {
      "cell_type": "code",
      "metadata": {
        "id": "f8v2wTLmIlZd"
      },
      "source": [
        "def myPlot(sig, fs=44100):\n",
        "  fig = plt.figure(figsize=(16,4))\n",
        "  t = np.arange(len(sig)) / fs\n",
        "  plt.plot(t, sig)\n",
        "  plt.xlabel('Time (sec)')\n",
        "  return fig, plt"
      ],
      "execution_count": null,
      "outputs": []
    },
    {
      "cell_type": "markdown",
      "metadata": {
        "id": "mILGhvzF-hmU"
      },
      "source": [
        "## myPlotFFT(): properly formats frequency domain plot of a signal"
      ]
    },
    {
      "cell_type": "code",
      "metadata": {
        "id": "xTksRiMEIm3x"
      },
      "source": [
        "def myPlotFFT(sig, n_fft=0, x_lim=22050, fs=44100):\n",
        "  if n_fft==0:                 \n",
        "    n_fft = len(sig)                    # Default to length of input signal\n",
        "  S = np.fft.fft(sig, n_fft)\n",
        "  N = len(S)\n",
        "  f = np.arange(N) * fs / N\n",
        "  fig = plt.figure(figsize=(16,6))\n",
        "  plt.plot(f, 20*np.log10(np.abs(S)))\n",
        "  plt.xlim(0, x_lim)\n",
        "  plt.xlabel('Frequency (Hz)')\n",
        "  plt.ylabel('Magnitude (dB)')\n",
        "  return fig, plt  "
      ],
      "execution_count": null,
      "outputs": []
    },
    {
      "cell_type": "markdown",
      "metadata": {
        "id": "H_C088pI1RLO"
      },
      "source": [
        "## myPlotFFTPhase"
      ]
    },
    {
      "cell_type": "code",
      "metadata": {
        "id": "utnJOZbi1YQW"
      },
      "source": [
        "def myPlotFFTPhase(sig, n_fft=0, x_lim=22050, fs=44100):\n",
        "  if n_fft==0:                 \n",
        "    n_fft = len(sig)                    # Default to length of input signal\n",
        "  S = np.fft.fft(sig, n_fft)\n",
        "  N = len(S)\n",
        "  f = np.arange(N) * fs / N\n",
        "  fig = plt.figure(figsize=(16,4))\n",
        "  plt.plot(f, np.unwrap(np.angle(S)))\n",
        "  plt.xlim(0, x_lim)\n",
        "  plt.xlabel('Frequency (Hz)')\n",
        "  plt.ylabel('Phase (radians)')\n",
        "  return fig, plt"
      ],
      "execution_count": null,
      "outputs": []
    },
    {
      "cell_type": "markdown",
      "metadata": {
        "id": "4xLeOGxb-mOr"
      },
      "source": [
        "## Custom FFT animation functions"
      ]
    },
    {
      "cell_type": "code",
      "metadata": {
        "id": "bCcL0uLp-N9T"
      },
      "source": [
        "n_o = 0\n",
        "f_size = 2048\n",
        "n_hop = f_size / 2\n",
        "N_fft = 4096\n",
        "fs = 44100\n",
        "this_f = np.arange(N_fft) * fs / N_fft\n",
        "\n",
        "# First set up the figure, the axis, and the plot element we want to animate\n",
        "def setupAnimFFT(x_lim=(0,20000), y_lim=(-120,100)):\n",
        "  fig = plt.figure(figsize=(14,6))\n",
        "  ax = plt.axes(xlim=x_lim,ylim=y_lim)\n",
        "  plt.close()   # Don't output the final figure separately\n",
        "  line, = ax.plot([], [])\n",
        "  fig.tight_layout()\n",
        "  return fig, line\n",
        "\n",
        "# initialization function: plot the background of each frame\n",
        "def initAnimFFT():\n",
        "    line.set_data([], [])\n",
        "    return (line,)\n",
        "\n",
        "# animation function. This is called sequentially  \n",
        "def animateFFT(i, sig):\n",
        "    n1 = int(n_o + n_hop*i)\n",
        "    n2 = int(n_o + n_hop*i + f_size)\n",
        "\n",
        "    x_i = sig[n1:n2]\n",
        "    X_i = np.fft.fft(x_i * np.hanning(len(x_i)), n=N_fft)\n",
        "    X_mag = 20*np.log(np.abs(X_i))\n",
        "\n",
        "    line.set_data(this_f, X_mag)\n",
        "    return (line,)  \n",
        "\n",
        "# Usage:\n",
        "# fig, line = setupAnimFFT()\n",
        "# anim = animation.FuncAnimation(fig, animateFFT, init_func=initAnimFFT, frames=120, fargs=(signal,), interval=1000/30, blit=True)\n",
        "# anim"
      ],
      "execution_count": null,
      "outputs": []
    },
    {
      "cell_type": "markdown",
      "metadata": {
        "id": "e7-jlroJMv4g"
      },
      "source": [
        "# Load sound file...\n",
        "*Chariots of Fire* by Vangelis (1981)"
      ]
    },
    {
      "cell_type": "code",
      "metadata": {
        "id": "ixLydDz6Nb89"
      },
      "source": [
        "cof_s, fs = sf.read(ClassPath + 'Chariots-44kHz.wav')\n",
        "cof = np.mean(cof_s,axis=1)\n",
        "ipd.Audio(cof,rate=fs)"
      ],
      "execution_count": null,
      "outputs": []
    },
    {
      "cell_type": "markdown",
      "metadata": {
        "id": "FHhqEWZldJnF"
      },
      "source": [
        "# Beware of time-domain aliasing"
      ]
    },
    {
      "cell_type": "code",
      "metadata": {
        "id": "gQzGVvf3RSgT"
      },
      "source": [
        "nFFT = 1024\n",
        "nHop = 512\n",
        "\n",
        "COF = librosa.stft(cof,n_fft=nFFT, hop_length=nHop, win_length=1024, window='rect')\n",
        "\n",
        "nBins, nFrames = np.shape(COF)\n",
        "f1 = np.arange(nBins)/(nFFT/2) * (fs/2)\n",
        "t1 = np.arange(nFrames) * nHop / fs\n",
        "\n",
        "(nBins, nFrames)"
      ],
      "execution_count": null,
      "outputs": []
    },
    {
      "cell_type": "code",
      "metadata": {
        "id": "YjFEZrjzaJq8"
      },
      "source": [
        "bp_f = np.zeros(nBins)\n",
        "bp_f[:int(nBins/5)] = 1\n",
        "\n",
        "# Need this in order to tile it for the full STFT matrix\n",
        "bp_f.shape = (nBins,1)\n",
        "\n",
        "H = np.tile(bp_f, (1,nFrames)) \n",
        "\n",
        "#plt.pcolormesh(t1, f1, H)"
      ],
      "execution_count": null,
      "outputs": []
    },
    {
      "cell_type": "code",
      "metadata": {
        "id": "s5KuFTU7a1sn"
      },
      "source": [
        "COF_F = COF * H\n",
        "#plt.pcolormesh(t1, f1, 20*np.log10(np.abs(COF_F)))"
      ],
      "execution_count": null,
      "outputs": []
    },
    {
      "cell_type": "code",
      "metadata": {
        "id": "4mxdGPo_bE5A"
      },
      "source": [
        "cof_f = librosa.istft(COF_F, hop_length=nHop)\n",
        "ipd.Audio(cof_f, rate=fs)"
      ],
      "execution_count": null,
      "outputs": []
    },
    {
      "cell_type": "markdown",
      "metadata": {
        "id": "Fz_2WDcqdNLV"
      },
      "source": [
        "# What kind of quality can you expect?"
      ]
    },
    {
      "cell_type": "code",
      "metadata": {
        "id": "HNalSJERROW5"
      },
      "source": [
        "COF_P = np.complex64( np.zeros((nBins,nFrames) ) )\n",
        "\n",
        "nPeaks = 64\n",
        "\n",
        "for n in range(nFrames):\n",
        "  sort_idx = np.argsort( np.abs(COF[:,n]) )\n",
        "  peak_idxs = sort_idx[-nPeaks:len(sort_idx)]\n",
        "  COF_P[peak_idxs, n] = COF[peak_idxs, n]\n",
        "\n",
        "plt.pcolormesh(t1, f1, 20*np.log10(np.abs(COF_P)))\n",
        "plt.ylabel('Frequency (Hz)')\n",
        "plt.xlabel('Time (sec)')\n",
        "#plt.ylim(0,2500)"
      ],
      "execution_count": null,
      "outputs": []
    },
    {
      "cell_type": "code",
      "metadata": {
        "id": "btDSWvaqRzMf"
      },
      "source": [
        "cof_p = librosa.istft(COF_P, hop_length=nHop)\n",
        "ipd.Audio(cof_p, rate=fs)"
      ],
      "execution_count": null,
      "outputs": []
    },
    {
      "cell_type": "markdown",
      "metadata": {
        "id": "nvaLbBJbUORl"
      },
      "source": [
        "# Computing Compression"
      ]
    },
    {
      "cell_type": "code",
      "metadata": {
        "id": "jE0O9A2FUVpE"
      },
      "source": [
        "fs = 44100\n",
        "bits = 16\n",
        "channels = 1\n",
        "samples = len(cof)\n",
        "\n",
        "bitrate = fs * bits * channels\n",
        "samples * bits * channels"
      ],
      "execution_count": null,
      "outputs": []
    },
    {
      "cell_type": "code",
      "metadata": {
        "id": "-B85LlbVdUKd"
      },
      "source": [
        "import pickle"
      ],
      "execution_count": null,
      "outputs": []
    },
    {
      "cell_type": "code",
      "metadata": {
        "id": "IgEi_c4Bdgar"
      },
      "source": [
        "P = pickle.dumps(np.int16(cof))\n",
        "len(P)"
      ],
      "execution_count": null,
      "outputs": []
    },
    {
      "cell_type": "code",
      "metadata": {
        "id": "ES772DdXae9s"
      },
      "source": [
        "COF_64 = np.complex64(COF)\n",
        "P64 = pickle.dumps(COF_64)\n",
        "len(P64)"
      ],
      "execution_count": null,
      "outputs": []
    }
  ]
}