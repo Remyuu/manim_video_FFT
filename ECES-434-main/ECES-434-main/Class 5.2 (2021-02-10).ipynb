{
  "nbformat": 4,
  "nbformat_minor": 0,
  "metadata": {
    "colab": {
      "name": "Class 5.2 (2021-02-10).ipynb",
      "provenance": [],
      "collapsed_sections": [
        "70YbUklCYuue",
        "oKE5IroW-PTp",
        "cDBQiEc8-UFH",
        "mILGhvzF-hmU"
      ],
      "toc_visible": true,
      "include_colab_link": true
    },
    "kernelspec": {
      "display_name": "Python 3",
      "name": "python3"
    }
  },
  "cells": [
    {
      "cell_type": "markdown",
      "metadata": {
        "id": "view-in-github",
        "colab_type": "text"
      },
      "source": [
        "<a href=\"https://colab.research.google.com/github/youngmoo/ECES-434/blob/main/Class%205.2%20(2021-02-10).ipynb\" target=\"_parent\"><img src=\"https://colab.research.google.com/assets/colab-badge.svg\" alt=\"Open In Colab\"/></a>"
      ]
    },
    {
      "cell_type": "markdown",
      "metadata": {
        "id": "qHxN8R_ItyXz"
      },
      "source": [
        "# **ECES-434: Class 5.2 (2021-02-10)**\n",
        "Week 5 continues...\n",
        "*Reminder, Lab 4 due Friday!*\n"
      ]
    },
    {
      "cell_type": "code",
      "metadata": {
        "id": "eDaoDgqCs1mp"
      },
      "source": [
        "import numpy as np                      # NumPy, abbreviated as np\n",
        "import matplotlib.pyplot as plt         # MatplotLib PyPlot module, abbreviated as plt\n",
        "from matplotlib import animation, rc    # MatplotLib animation module\n",
        "%matplotlib inline\n",
        "from scipy import signal                # SciPy's signal module, for DSP functions\n",
        "import soundfile as sf                  # Switching to the soundfile module for reading and writing soundfiles\n",
        "\n",
        "import IPython.display as ipd           # Interactive Python display module, for playing sounds\n",
        "from IPython.display import HTML        # For displaying animations\n",
        "rc('animation', html='jshtml')          # Provides animation controls\n",
        "\n",
        "ClassPath = '/content/drive/My Drive/ECES-434 Sessions/Class 5-1/'"
      ],
      "execution_count": null,
      "outputs": []
    },
    {
      "cell_type": "code",
      "metadata": {
        "id": "QUiMfqMhOWCI"
      },
      "source": [
        "# CHANGE THIS to your Drexel username!!\n",
        "username = 'anonymous'"
      ],
      "execution_count": null,
      "outputs": []
    },
    {
      "cell_type": "code",
      "metadata": {
        "id": "7f-OzFc_mN4w"
      },
      "source": [
        "from google.colab import drive\n",
        "drive.mount('/content/drive')"
      ],
      "execution_count": null,
      "outputs": []
    },
    {
      "cell_type": "markdown",
      "metadata": {
        "id": "70YbUklCYuue"
      },
      "source": [
        "# Custom plotting functions\n",
        "Because we're always plotting..."
      ]
    },
    {
      "cell_type": "markdown",
      "metadata": {
        "id": "oKE5IroW-PTp"
      },
      "source": [
        "## plotSpectrogram"
      ]
    },
    {
      "cell_type": "code",
      "metadata": {
        "id": "mGnf6L4cq-UI"
      },
      "source": [
        "def plotSpectrogram(sig, fs, win='hann', nseg=512, olap=256, fft_len=512):\n",
        "  f1, t1, Sxx = signal.spectrogram(sig, fs, window=win, nperseg=nseg, noverlap=olap, nfft=fft_len)\n",
        "\n",
        "  fig = plt.figure(figsize=(16,6))\n",
        "\n",
        "  plt.pcolormesh(t1, f1, 20*np.log10(np.abs(Sxx)))\n",
        "  plt.ylabel('Frequency (Hz)')\n",
        "  plt.xlabel('Time (sec)')\n",
        "  return fig, plt"
      ],
      "execution_count": null,
      "outputs": []
    },
    {
      "cell_type": "markdown",
      "metadata": {
        "id": "cDBQiEc8-UFH"
      },
      "source": [
        "## myPlot(): properly formats time domain plot of a signal"
      ]
    },
    {
      "cell_type": "code",
      "metadata": {
        "id": "f8v2wTLmIlZd"
      },
      "source": [
        "def myPlot(sig, fs=44100):\n",
        "  fig = plt.figure(figsize=(16,4))\n",
        "  t = np.arange(len(sig)) / fs\n",
        "  plt.plot(t, sig)\n",
        "  plt.xlabel('Time (sec)')\n",
        "  return fig, plt"
      ],
      "execution_count": null,
      "outputs": []
    },
    {
      "cell_type": "markdown",
      "metadata": {
        "id": "mILGhvzF-hmU"
      },
      "source": [
        "## myPlotFFT(): properly formats frequency domain plot of a signal"
      ]
    },
    {
      "cell_type": "code",
      "metadata": {
        "id": "xTksRiMEIm3x"
      },
      "source": [
        "def myPlotFFT(sig, n_fft=0, x_lim=22050, fs=44100):\n",
        "  if n_fft==0:                 \n",
        "    n_fft = len(sig)                    # Default to length of input signal\n",
        "  S = np.fft.fft(sig, n_fft)\n",
        "  N = len(S)\n",
        "  f = np.arange(N) * fs / N\n",
        "  fig = plt.figure(figsize=(16,4))\n",
        "  plt.plot(f, 20*np.log10(np.abs(S)))\n",
        "  plt.xlim(0, x_lim)\n",
        "  plt.xlabel('Frequency (Hz)')\n",
        "  plt.ylabel('Magnitude (dB)')\n",
        "  return fig, plt  "
      ],
      "execution_count": null,
      "outputs": []
    },
    {
      "cell_type": "markdown",
      "metadata": {
        "id": "H_C088pI1RLO"
      },
      "source": [
        "## myPlotFFTPhase"
      ]
    },
    {
      "cell_type": "code",
      "metadata": {
        "id": "utnJOZbi1YQW"
      },
      "source": [
        "def myPlotFFTPhase(sig, n_fft=0, x_lim=22050, fs=44100):\n",
        "  if n_fft==0:                 \n",
        "    n_fft = len(sig)                    # Default to length of input signal\n",
        "  S = np.fft.fft(sig, n_fft)\n",
        "  N = len(S)\n",
        "  f = np.arange(N) * fs / N\n",
        "  fig = plt.figure(figsize=(16,4))\n",
        "  plt.plot(f, np.unwrap(np.angle(S)))\n",
        "  plt.xlim(0, x_lim)\n",
        "  plt.xlabel('Frequency (Hz)')\n",
        "  plt.ylabel('Phase (radians)')\n",
        "  return fig, plt"
      ],
      "execution_count": null,
      "outputs": []
    },
    {
      "cell_type": "markdown",
      "metadata": {
        "id": "4xLeOGxb-mOr"
      },
      "source": [
        "## Custom FFT animation functions"
      ]
    },
    {
      "cell_type": "code",
      "metadata": {
        "id": "bCcL0uLp-N9T"
      },
      "source": [
        "n_o = 0\n",
        "f_size = 2048\n",
        "n_hop = f_size / 2\n",
        "N_fft = 4096\n",
        "fs = 44100\n",
        "f = np.arange(N_fft) * fs / N_fft\n",
        "\n",
        "# First set up the figure, the axis, and the plot element we want to animate\n",
        "def setupAnimFFT(x_lim=(0,20000), y_lim=(-120,100)):\n",
        "  fig = plt.figure(figsize=(14,6))\n",
        "  ax = plt.axes(xlim=x_lim,ylim=y_lim)\n",
        "  plt.close()   # Don't output the final figure separately\n",
        "  line, = ax.plot([], [])\n",
        "  return fig, line\n",
        "\n",
        "# initialization function: plot the background of each frame\n",
        "def initAnimFFT():\n",
        "    line.set_data([], [])\n",
        "    return (line,)\n",
        "\n",
        "# animation function. This is called sequentially  \n",
        "def animateFFT(i, sig):\n",
        "    n1 = int(n_o + n_hop*i)\n",
        "    n2 = int(n_o + n_hop*i + f_size)\n",
        "\n",
        "    x_i = sig[n1:n2]\n",
        "    X_i = np.fft.fft(x_i * np.hanning(len(x_i)), n=N_fft)\n",
        "    X_mag = 20*np.log(np.abs(X_i))\n",
        "\n",
        "    line.set_data(f, X_mag)\n",
        "    return (line,)  \n",
        "\n",
        "# Usage:\n",
        "# fig, line = setupAnimFFT()\n",
        "# anim = animation.FuncAnimation(fig, animateFFT, init_func=initAnimFFT, frames=120, fargs=(signal,), interval=1000/30, blit=True)\n",
        "# anim"
      ],
      "execution_count": null,
      "outputs": []
    },
    {
      "cell_type": "markdown",
      "metadata": {
        "id": "Uf3lUcETjxRv"
      },
      "source": [
        "#SNR clarifications\n"
      ]
    },
    {
      "cell_type": "code",
      "metadata": {
        "id": "X1dhEe36jzWA"
      },
      "source": [
        "s11, fs11 = sf.read(ClassPath + 'sounds/Sinatra-11kHz-mono.wav')\n",
        "s77 = np.zeros(len(s11)*7)\n",
        "s77[::7] = s11\n",
        "h_fir = np.hanning(28)\n",
        "h_fir = h_fir / np.sum(h_fir)\n",
        "s77f = signal.lfilter(h_fir,1,s77)\n",
        "s15 = s77f[::5]\n",
        "\n",
        "s15_target, fs15 = sf.read(ClassPath + 'sounds/Sinatra-15435Hz.wav')"
      ],
      "execution_count": null,
      "outputs": []
    },
    {
      "cell_type": "code",
      "metadata": {
        "id": "uBuS2h-vkHiu"
      },
      "source": [
        "t = np.arange(len(s15)) / fs15\n",
        "fig = plt.figure(figsize=(16,4))\n",
        "plt.plot(t[:100], s15_target[:100], t[:100], s15[2:102])"
      ],
      "execution_count": null,
      "outputs": []
    },
    {
      "cell_type": "code",
      "metadata": {
        "id": "opkEmYLOkLfg"
      },
      "source": [
        "sig_pow = s15_target**2\n",
        "sq_err = (s15_target[:425221] - s15[2:425223])**2\n",
        "\n",
        "snr1 = np.sum(sig_pow)/np.sum(sq_err)\n",
        "snr1_dB = 10*np.log10(snr1)\n",
        "snr1_dB"
      ],
      "execution_count": null,
      "outputs": []
    },
    {
      "cell_type": "code",
      "metadata": {
        "id": "GcTaQOepkUpO"
      },
      "source": [
        "eps = np.finfo(float).eps\n",
        "eps"
      ],
      "execution_count": null,
      "outputs": []
    },
    {
      "cell_type": "code",
      "metadata": {
        "id": "rlHZJfEokWU9"
      },
      "source": [
        "snr2 = 10*np.log10(sig_pow + eps) - 10*np.log10(sq_err + eps)\n",
        "np.mean(snr2)"
      ],
      "execution_count": null,
      "outputs": []
    },
    {
      "cell_type": "markdown",
      "metadata": {
        "id": "e7-jlroJMv4g"
      },
      "source": [
        "# Load today's sound files"
      ]
    },
    {
      "cell_type": "code",
      "metadata": {
        "id": "ixLydDz6Nb89"
      },
      "source": [
        "s44s, fs44 = sf.read(ClassPath + 'sounds/Sinatra-44kHz.wav')\n",
        "s44 = np.mean(s44s,axis=1)\n",
        "ipd.Audio(s44,rate=fs44)"
      ],
      "execution_count": null,
      "outputs": []
    },
    {
      "cell_type": "markdown",
      "metadata": {
        "id": "d4UozrUBW-tu"
      },
      "source": [
        "# Ideal low-pass filter (LPF)\n",
        "\n"
      ]
    },
    {
      "cell_type": "code",
      "metadata": {
        "id": "PihsUqm9vi2f"
      },
      "source": [
        "fs = 44100\n",
        "N = 1024\n",
        "L = 64\n",
        "H_ideal = np.append(np.ones(L),np.zeros(N-L))\n",
        "\n",
        "# Filter needs to be symmetric\n",
        "H_ideal_sym = np.append(H_ideal, np.flipud(H_ideal))\n",
        "\n",
        "fig = plt.figure(figsize=(16,4))\n",
        "f = np.arange(len(H_ideal_sym)) * fs / len(H_ideal_sym)\n",
        "plt.plot(f, H_ideal_sym)"
      ],
      "execution_count": null,
      "outputs": []
    },
    {
      "cell_type": "code",
      "metadata": {
        "id": "HCnW69QrnX9T"
      },
      "source": [
        "f_Hz = np.arange(-N,N)*(fs/2) / N\n",
        "#f_norm = np.arange(-N,N) / N\n",
        "#f_rad = np.arange(-N,N)*np.pi / N\n",
        "\n",
        "fig = plt.figure(figsize=(16,4))\n",
        "plt.plot(f_Hz, np.fft.fftshift(H_ideal_sym))\n",
        "\n",
        "plt.xlabel('Frequency (Hz)')\n",
        "#plt.xlabel('Frequency (normalized)')\n",
        "#plt.xlabel('Frequency (radians)')"
      ],
      "execution_count": null,
      "outputs": []
    },
    {
      "cell_type": "markdown",
      "metadata": {
        "id": "P0CH853BecUE"
      },
      "source": [
        "## Take the inverse Fourier Transform"
      ]
    },
    {
      "cell_type": "code",
      "metadata": {
        "id": "NnmT9qUBcyR8"
      },
      "source": [
        "h_ideal_sym = ...\n",
        "myPlot( ... )"
      ],
      "execution_count": null,
      "outputs": []
    },
    {
      "cell_type": "code",
      "metadata": {
        "id": "P-nHnClVdl0q"
      },
      "source": [
        "h_ideal_shift = ...\n",
        "\n",
        "n = np.arange(-N,N)\n",
        "fig = plt.figure(figsize=(16,4))\n",
        "plt.plot(n, h_ideal_shift)\n",
        "plt.xlabel('Samples')"
      ],
      "execution_count": null,
      "outputs": []
    },
    {
      "cell_type": "markdown",
      "metadata": {
        "id": "vvazcOE4ej2K"
      },
      "source": [
        "# Time limit (window) the infinite ideal function"
      ]
    },
    {
      "cell_type": "code",
      "metadata": {
        "id": "aoELanZVcQcI"
      },
      "source": [
        "M = 128\n",
        "h_ideal_win = h_ideal_shift[1024-M:1024+M]\n",
        "plt.plot(h_ideal_win)"
      ],
      "execution_count": null,
      "outputs": []
    },
    {
      "cell_type": "code",
      "metadata": {
        "id": "4Fgt9oSieGUY"
      },
      "source": [
        "myPlotFFT(h_ideal_win, 4096)"
      ],
      "execution_count": null,
      "outputs": []
    },
    {
      "cell_type": "code",
      "metadata": {
        "id": "XoyWFUEMdnCZ"
      },
      "source": [
        "s44_filt = signal.lfilter(h_ideal_win, 1, s44)\n",
        "plotSpectrogram(s44, fs)"
      ],
      "execution_count": null,
      "outputs": []
    },
    {
      "cell_type": "code",
      "metadata": {
        "id": "Ti_Hj5e3eCt8"
      },
      "source": [
        "plotSpectrogram(s44_filt,fs)"
      ],
      "execution_count": null,
      "outputs": []
    },
    {
      "cell_type": "code",
      "metadata": {
        "id": "63JGeC3De1UO"
      },
      "source": [
        "ipd.Audio(s44_filt,rate=fs)"
      ],
      "execution_count": null,
      "outputs": []
    },
    {
      "cell_type": "markdown",
      "metadata": {
        "id": "mR_5-8wwgSUu"
      },
      "source": [
        "# Attempting to filter in the frequency domain\n"
      ]
    },
    {
      "cell_type": "code",
      "metadata": {
        "id": "LtKJxDI5gVXk"
      },
      "source": [
        "s = s44[1:2048]\n",
        "S = np.fft.fft(s)\n",
        "s_inv = np.fft.ifft(S)\n",
        "fig = plt.figure(figsize=(16,4))\n",
        "plt.subplot(211)\n",
        "plt.plot(s)\n",
        "plt.subplot(212)\n",
        "plt.plot(s_inv)"
      ],
      "execution_count": null,
      "outputs": []
    },
    {
      "cell_type": "code",
      "metadata": {
        "id": "AbCGLlcQlG4q"
      },
      "source": [
        "f_size = 2048\n",
        "n_hop = f_size / 2\n",
        "N_fft = f_size\n",
        "fs = 44100\n",
        "L = 512\n",
        "H_id = np.append(np.ones(L), np.zeros(f_size-L))\n",
        "\n",
        "def fftFilter(sig, n_frames=0):\n",
        "  out = np.zeros(len(sig))\n",
        "\n",
        "  if n_frames == 0:\n",
        "    n_frames = int(len(sig)/n_hop) - 1\n",
        "    print(n_frames)\n",
        "\n",
        "  for i in range(n_frames):\n",
        "    n1 = int(n_hop*i)\n",
        "    n2 = int(n_hop*i + f_size)\n",
        "\n",
        "    x_i = sig[n1:n2]\n",
        "    X_i = np.fft.fft(x_i * np.hanning(len(x_i)), n=N_fft)\n",
        "    X_f = X_i * H_id\n",
        "    x_f = np.fft.ifft(X_f)\n",
        "\n",
        "    out[n1:n2] = np.real(x_f)\n",
        "\n",
        "  return out"
      ],
      "execution_count": null,
      "outputs": []
    },
    {
      "cell_type": "code",
      "metadata": {
        "id": "qM1k9unhmjQH"
      },
      "source": [
        "s44_f2 = fftFilter(s44)\n",
        "plt.plot(s44_f2)\n",
        "ipd.Audio(s44_f2,rate=fs)"
      ],
      "execution_count": null,
      "outputs": []
    }
  ]
}