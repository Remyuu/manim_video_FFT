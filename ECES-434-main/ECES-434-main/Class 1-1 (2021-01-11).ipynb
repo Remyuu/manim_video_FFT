{
  "nbformat": 4,
  "nbformat_minor": 0,
  "metadata": {
    "colab": {
      "name": "Class 1.1, 2021-01-11.ipynb",
      "provenance": [],
      "collapsed_sections": [],
      "toc_visible": true,
      "include_colab_link": true
    },
    "kernelspec": {
      "display_name": "Python 3",
      "name": "python3"
    }
  },
  "cells": [
    {
      "cell_type": "markdown",
      "metadata": {
        "id": "view-in-github",
        "colab_type": "text"
      },
      "source": [
        "<a href=\"https://colab.research.google.com/github/youngmoo/ECES-434/blob/main/Class%201-1%20(2021-01-11).ipynb\" target=\"_parent\"><img src=\"https://colab.research.google.com/assets/colab-badge.svg\" alt=\"Open In Colab\"/></a>"
      ]
    },
    {
      "cell_type": "markdown",
      "metadata": {
        "id": "FcIDjLieV1uc"
      },
      "source": [
        "# **Welcome to ECES-434: Applied DSP!**\n",
        "I believe the best way to learn to apply Digital Signal Processing (DSP) is to actually implement it in code. That's why this class is entirely project-based, and every class & lab session we'll be live-coding signal processing methods and concepts in Python in the Google Colab environment. \n",
        "\n",
        "You will need a (free) Google account with at least a few GB of free Google Drive space. Let's get started!"
      ]
    },
    {
      "cell_type": "markdown",
      "metadata": {
        "id": "uj7-Ld1WXQKb"
      },
      "source": [
        "## Sign in to Google\n",
        "\n",
        "You won't be able to execute any code in a Colab Notebook until you sign in with a Google account. Check the top-right corner of your browser window. If it says \"Sign in\", click it and log into your account.\n",
        "\n",
        "*   If you don't have a Google account, you can create one (it's free, and it comes with 15 GB of Google Drive space).\n",
        "*   If you don't have much free Google Drive space (or just want to keep this class work separate), you can also create a new account. Yes, you can have multiple Google accounts (though this can get confusing)."
      ]
    },
    {
      "cell_type": "markdown",
      "metadata": {
        "id": "Zh7h4m_lZAzY"
      },
      "source": [
        "## Really basic computation\n",
        "You don't have to do anything else before doing really basic computation. Feel free to alter and run the equation in the code block below until you're satisfied it works as a calculator (nothing fancy, but it does come in handy)."
      ]
    },
    {
      "cell_type": "code",
      "metadata": {
        "id": "UoJArB8QZCS8"
      },
      "source": [
        "# Change the numbers, the arithmetic operator, add anything or whatever, and see what happens.\n",
        "(2+2) * 2     # Also, notice how everything after the hashtag is a comment, and ignored as code."
      ],
      "execution_count": null,
      "outputs": []
    },
    {
      "cell_type": "markdown",
      "metadata": {
        "id": "I--7VTlKahW7"
      },
      "source": [
        "## About these text blocks\n",
        "One of the great things about Colab is that you can save both your Python code *and* descriptions, explanations, or any text (e.g., what you're reading right now). These are captured together in a Colab *Notebook* (e.g., this document). This is an implementation of the popular [Jupyter Notebooks](https://jupyter.org) platform, which has quickly become the standard for work in signal processing and machine learning.\n",
        "\n",
        "*   Text can be formatted using Markdown syntax. *Sidenote:* Markdown was created by Drexel alum, John Gruber, also the creator of [Daring Fireball](https://daringfireball.net), one of the most popular tech blogs.\n"
      ]
    },
    {
      "cell_type": "markdown",
      "metadata": {
        "id": "upyWxd9tZpLI"
      },
      "source": [
        "## Something (barely) more useful\n",
        "Let's do something a little more complex/useful. We're going to need to use the Numerical Python (NumPy) module (like a library) that provides MATLAB-style arrays and much more."
      ]
    },
    {
      "cell_type": "code",
      "metadata": {
        "id": "ppuJLe5PZrlZ"
      },
      "source": [
        "import numpy as np              # Load the NumPy module, which we'll access via the abbreviation 'np'.\n",
        "\n",
        "t = 0                           # Set a time value, t = 0\n",
        "T = 10                          # Set the period T = 10 samples\n",
        "x = np.sin(2 * np.pi * t / T )  # Compute sin(2πt/T); notice how sin() and π are part of the 'np' module\n",
        "x                               # Output the value of x"
      ],
      "execution_count": null,
      "outputs": []
    },
    {
      "cell_type": "markdown",
      "metadata": {
        "id": "JHnGW5w-fifZ"
      },
      "source": [
        "## A bit more useful...\n",
        "OK, that's still pretty boring, but notice how we can have multiple lines of code in a code block. That's kind of useful as a way to organize code into separate, more readable sections.\n",
        "\n",
        "But what we'd like is to compute sin(t) not just for one time value, but many time values. Sure, we can do that..."
      ]
    },
    {
      "cell_type": "code",
      "metadata": {
        "id": "k6tCgRBggJxb"
      },
      "source": [
        "for t in range(T+1):              # Let's create a loop for all integers from 0 up to and including, T (10)\n",
        "  x = np.sin(2 * np.pi * t / T)   # Compute sin() using the current value of t. Note that 'np' (and T)\n",
        "                                  #   are still valid, since they were defined in a previous code block.\n",
        "  print(x)                        # Each code block allows one output, so we use print() \n",
        "                                  #   to output x each time through the loop."
      ],
      "execution_count": null,
      "outputs": []
    },
    {
      "cell_type": "markdown",
      "metadata": {
        "id": "2J9SBhn6ihXC"
      },
      "source": [
        "## Actually useful: Let's do this\n",
        "What we need is to compute a function, like sin() or perhaps something much more complicated, for a lot of different time (or input) values, and group them into a single output variable (as an array). This is how NumPy provides something more like MATLAB, by allowing functions to work not only on single (scalar) input values, but on input arrays. "
      ]
    },
    {
      "cell_type": "code",
      "metadata": {
        "id": "jWDwXot9kISb"
      },
      "source": [
        "t = np.arange(3*T+1)            # Create an input array of integers from 0 to 3T (30)\n",
        "x = np.sin(2 * np.pi * t / T)   # x is now an array of outputs\n",
        "x                               # See?"
      ],
      "execution_count": null,
      "outputs": []
    },
    {
      "cell_type": "markdown",
      "metadata": {
        "id": "0qnqwEtnlZ21"
      },
      "source": [
        "## Meh. Can we *visualize* the result?\n",
        "Lists of numbers are tedious (and can obscure what's going on in the data). Fortunately, we can easily plot these outputs using another Python module, Matplotlib, which enables MATLAB-like plotting."
      ]
    },
    {
      "cell_type": "code",
      "metadata": {
        "id": "Q1ipcwFLmEUF"
      },
      "source": [
        "import matplotlib.pyplot as plt   # Load the Matplotlib module, which we'll access via the abbreviation 'plt'\n",
        "\n",
        "plt.plot(t,x)                     # Plot x vs. t\n",
        "\n",
        "# Uncomment the following lines to see what they do\n",
        "#plt.title('x(t) = Sin(2$\\pi$t/T)')\n",
        "#plt.xlabel('t')\n",
        "#plt.ylabel('x(t)')\n",
        "plt.show()                        # Display the plot"
      ],
      "execution_count": null,
      "outputs": []
    },
    {
      "cell_type": "markdown",
      "metadata": {
        "id": "JInw42tSd3YQ"
      },
      "source": [
        "## Google Drive setup\n",
        "\n",
        "One of the great features of Colab is access to Google Drive, to store and share both notebooks and data files. We'll use a *shared* Google Drive folder to load and save sound files.\n",
        "\n",
        "1.   Open the link to [this Google Drive folder](https://drive.google.com/drive/folders/1ISrTDmD2pEKp6uqgdt6ercRr6mB73SE-?usp=sharing).\n",
        "2.   Within Google Drive, for this shared folder select \"Add shortcut to Drive\" and add it to the top-level directory, \"My Drive\". (This is so we can all use the same directory path for loading and saving files.)\n",
        "\n",
        "\n"
      ]
    },
    {
      "cell_type": "markdown",
      "metadata": {
        "id": "p0rCNu3Br7tA"
      },
      "source": [
        "## Add the shared Google Drive folder to Colab\n",
        "Next, we mount the Google Drive folder you just added within colab. Run the next code block, which will:\n",
        "\n",
        "*   Ask  you for permission to access your Google Drive.\n",
        "*   Once you give permission, Drive will provide an authorization code to enter (copy and paste it into the field in the next cell)."
      ]
    },
    {
      "cell_type": "code",
      "metadata": {
        "id": "7f-OzFc_mN4w"
      },
      "source": [
        "from google.colab import drive\n",
        "drive.mount('/content/GDrive')"
      ],
      "execution_count": null,
      "outputs": []
    },
    {
      "cell_type": "markdown",
      "metadata": {
        "id": "8fWaQVMcLsyM"
      },
      "source": [
        "## Let's make some noise(s)\n",
        "Run the next cell to set up some initial parameters:\n",
        "\n",
        "*   Sampling rate: $f_s = 44100$ Hz\n",
        "*   Initial frequency of sinusoid: $f = 440$ Hz (the musical note 'A3')\n",
        "*   Duration of sound: 1.0 seconds\n",
        "\n",
        "Create a new vector $t$, which is the time of each sample of our sound signal.\n"
      ]
    },
    {
      "cell_type": "code",
      "metadata": {
        "id": "WDnR2z5cLtG1"
      },
      "source": [
        "f = 440                             # Frequency (in Hz)\n",
        "A = 1.0                             # Amplitude of your sinusoid (try varying this between 0 and 1.0)\n",
        "duration = 1.0                      # Duration of sound (in seconds)\n",
        "f_s = 44100                         # Sampling rate (in Hz)\n",
        "t = np.arange(duration * f_s) / f_s # Vector of time samples"
      ],
      "execution_count": null,
      "outputs": []
    },
    {
      "cell_type": "markdown",
      "metadata": {
        "id": "DYviZwMSjnJX"
      },
      "source": [
        "The next cell generates your sinusoid. It will also plot the resulting wave."
      ]
    },
    {
      "cell_type": "code",
      "metadata": {
        "id": "1Ehb7HkdMF9_"
      },
      "source": [
        "x = A * np.sin(2 * np.pi * f * t)\n",
        "\n",
        "# Plot just the first 100 milliseconds of your signal\n",
        "#plt.figure(figsize = (12, 4))       # Set the size of our figure (in \"inches\")\n",
        "#plt.xlim(0,0.1)\n",
        "plt.xlabel(\"Time (sec)\")\n",
        "\n",
        "plt.plot(t, x)\n",
        "plt.show()"
      ],
      "execution_count": null,
      "outputs": []
    },
    {
      "cell_type": "markdown",
      "metadata": {
        "id": "nwS8Vnf1jxQe"
      },
      "source": [
        "## Can you hear me...?\n",
        "It would be nice to be able to listen to the sine wave you just created. The Interactive Python (IPython) module 'display' makes this really easy. After we import the module as 'ipd' we can output any signal as an audio file to listen to!"
      ]
    },
    {
      "cell_type": "code",
      "metadata": {
        "id": "AaZ-zRzP6rnh"
      },
      "source": [
        "import IPython.display as ipd\n",
        "\n",
        "ipd.Audio(x, rate=f_s)"
      ],
      "execution_count": null,
      "outputs": []
    },
    {
      "cell_type": "markdown",
      "metadata": {
        "id": "0HfbAghYkKu2"
      },
      "source": [
        "# Save your sound to a WAV file\n",
        "This sound file is only temporary (it will disappear once you quit or lose your connection to Colab). Once you are happy with your frequency and amplitude choices, let's save the sound as a .wav file to the shared Google Drive folder.\n",
        "\n",
        "For this, we need another module, 'librosa', which was developed by my friends at the Columbia Laboratory for the Recognition Of Sound and Audio (LabROSA). It's a collection of very useful functions for working with sound. In this case, we'll use librose to write our signal to a .wav file (an uncompressed audio format that saves each sample)."
      ]
    },
    {
      "cell_type": "code",
      "metadata": {
        "id": "4BCd2XzdnuCD"
      },
      "source": [
        "import librosa        # Import the librosa module\n",
        "\n",
        "# Enter your Drexel username ('xyz123') between the quotes:\n",
        "username = 'anonymous'\n",
        "\n",
        "ClassPath = '/content/GDrive/MyDrive/ECES-434 Sessions/Class 1-1/'\n",
        "path = ClassPath + 'OurSong/' + username + '.wav'\n",
        "librosa.output.write_wav(path, x, f_s)\n",
        "path"
      ],
      "execution_count": null,
      "outputs": []
    },
    {
      "cell_type": "markdown",
      "metadata": {
        "id": "iyuBgffLkZMJ"
      },
      "source": [
        "# *Pause here while everyone is generating and saving their files.*"
      ]
    },
    {
      "cell_type": "markdown",
      "metadata": {
        "id": "xuXRpqs1z1vv"
      },
      "source": [
        "## Disconnect and Reconnect\n",
        "This is a bit of a hack to refresh the files from Google Drive. We have to disconnect (terminate) the Colab runtime and reconnect.\n",
        "* Before we disconnect, you probably want to save your notebook (Cmd/Ctrl-S).\n",
        "* Click on the RAM / Disk status bar (near the upper-right), select the current session and click 'Terminate'.\n",
        "* Then, click 'Reconnect' button (where the RAM/Disk status used to be).\n",
        "\n",
        "Since we disconnected, our previously run code is gone, so we need to re-import modules from earier code cells and re-mount Google Drive."
      ]
    },
    {
      "cell_type": "code",
      "metadata": {
        "id": "xFksPpPVzzoC"
      },
      "source": [
        "import numpy as np                # Load the NumPy module, which we'll access via the abbreviation 'np'.\n",
        "import matplotlib.pyplot as plt   # Load the Matplotlib module, which we'll access via the abbreviation 'plt'\n",
        "import IPython.display as ipd     # Load the IPython display module, with the abbreviation 'ipd'\n",
        "import librosa\n",
        "\n",
        "# Remount Google Drive\n",
        "from google.colab import drive\n",
        "drive.mount('/content/GDrive')"
      ],
      "execution_count": null,
      "outputs": []
    },
    {
      "cell_type": "markdown",
      "metadata": {
        "id": "NlwosT5JEzLK"
      },
      "source": [
        "## Let's make a song!\n",
        "Now, let's combine all of you files into one signal to create 'Our Song'. We'll use the Operating System (os) module to access the shared directory in Google Drive."
      ]
    },
    {
      "cell_type": "code",
      "metadata": {
        "id": "1WPxqCJB2kCN"
      },
      "source": [
        "import os\n",
        "\n",
        "# Open a file\n",
        "OurSong_path = '/content/GDrive/MyDrive/ECES-434 Sessions/Class 1-1/OurSong/'\n",
        "filelist = os.listdir( OurSong_path )\n",
        "filelist"
      ],
      "execution_count": null,
      "outputs": []
    },
    {
      "cell_type": "markdown",
      "metadata": {
        "id": "lJxtoLw6HICg"
      },
      "source": [
        "Next we use the *librosa* module to concatenate all your sound files into one signal."
      ]
    },
    {
      "cell_type": "code",
      "metadata": {
        "id": "vx8udhnV31mp"
      },
      "source": [
        "y = []  # The array for our song\n",
        "\n",
        "for filename in filelist:\n",
        "    if filename.endswith('.wav'):\n",
        "        filepath = OurSong_path + filename\n",
        "        print(filepath)\n",
        "        this_y, this_f_s = librosa.load(filepath,sr=None)\n",
        "        y = np.append(y, this_y)\n",
        "\n",
        "np.shape(y)"
      ],
      "execution_count": null,
      "outputs": []
    },
    {
      "cell_type": "markdown",
      "metadata": {
        "id": "BG_fPd4qFynw"
      },
      "source": [
        "## What does Our Song look like?"
      ]
    },
    {
      "cell_type": "code",
      "metadata": {
        "id": "X2zqp9T8_QN4"
      },
      "source": [
        "f_s = 44100\n",
        "long_t = np.arange(0, np.size(y)) / f_s\n",
        "\n",
        "plt.figure(figsize = (12, 4))       # Set the size of our figure (in \"inches\")\n",
        "# plt.xlim(0.9,1.1)\n",
        "plt.xlabel(\"Time (sec)\")\n",
        "plt.plot(long_t,y)\n",
        "plt.show()"
      ],
      "execution_count": null,
      "outputs": []
    },
    {
      "cell_type": "markdown",
      "metadata": {
        "id": "uoAeg41AF6N-"
      },
      "source": [
        "## OK, how does it *sound*?"
      ]
    },
    {
      "cell_type": "code",
      "metadata": {
        "id": "ldxVUwqt-b8q"
      },
      "source": [
        "ipd.Audio(y, rate=f_s)"
      ],
      "execution_count": null,
      "outputs": []
    },
    {
      "cell_type": "markdown",
      "metadata": {
        "id": "pvG34IVUGJpu"
      },
      "source": [
        "Congratulations, we just wrote a song! 🤪"
      ]
    },
    {
      "cell_type": "markdown",
      "metadata": {
        "id": "CWmF-OPvGF7K"
      },
      "source": [
        "# Working with actual music files\n",
        "*Librosa* can load audio signals from nearly any soundfile format. Let's load some music from an mp3 file in our shared GDrive folder. Note that librosa will try to load the *sample rate* of the file automatically (it's generally stored within the soundfile)."
      ]
    },
    {
      "cell_type": "code",
      "metadata": {
        "id": "dIsCemfqAL_w"
      },
      "source": [
        "ClassPath = '/content/GDrive/MyDrive/ECES-434 Sessions/Class 1-1/'\n",
        "music_file = ClassPath + 'MusicExample.mp3'\n",
        "[pg, fs_pg] = librosa.load(music_file,sr=None)\n",
        "fs_pg"
      ],
      "execution_count": null,
      "outputs": []
    },
    {
      "cell_type": "markdown",
      "metadata": {
        "id": "TS03BwOeIb3H"
      },
      "source": [
        "## Let's plot it"
      ]
    },
    {
      "cell_type": "code",
      "metadata": {
        "id": "G-d-J_MnAjeh"
      },
      "source": [
        "t_pg = np.arange(np.size(pg)) / fs_pg\n",
        "plt.figure(figsize=(16,4))\n",
        "plt.plot(t_pg, pg)\n",
        "#plt.xlim(10,11)           # Uncomment to show a smaller range of time\n",
        "plt.show()"
      ],
      "execution_count": null,
      "outputs": []
    },
    {
      "cell_type": "markdown",
      "metadata": {
        "id": "r86FThMOIgZu"
      },
      "source": [
        "## Sample Rates\n",
        "What happens if we play an audio signal back at a different sampling rate from the one it was recorded using?"
      ]
    },
    {
      "cell_type": "code",
      "metadata": {
        "id": "RW_ndARRAykf"
      },
      "source": [
        "fs_new = fs_pg * 1\n",
        "# fs_new = 48000\n",
        "# fs_new = 44100\n",
        "# fs_new = 32000\n",
        "# fs_new = 16000\n",
        "# fs_new = 11025\n",
        "\n",
        "ipd.Audio(pg,rate=fs_new)"
      ],
      "execution_count": null,
      "outputs": []
    }
  ]
}