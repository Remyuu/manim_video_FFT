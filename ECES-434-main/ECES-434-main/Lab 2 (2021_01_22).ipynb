{
  "nbformat": 4,
  "nbformat_minor": 0,
  "metadata": {
    "colab": {
      "name": "Lab 2",
      "provenance": [],
      "collapsed_sections": []
    },
    "kernelspec": {
      "name": "python3",
      "display_name": "Python 3"
    }
  },
  "cells": [
    {
      "cell_type": "markdown",
      "metadata": {
        "id": "HN408Gx2Cq81"
      },
      "source": [
        "# Lab 2 - **Music Note Analysis/Synthesis** Part 1\n",
        "\n",
        "___\n",
        "\n",
        "**Lab Overview**\n",
        "\n",
        "In this lab, you will plot and analyze the freqeuncy spectrum of a single music note. You will synthesis an approximate reconstruction of the note by summing sinusoids.\n",
        "___"
      ]
    },
    {
      "cell_type": "markdown",
      "metadata": {
        "id": "OdkjLu-kDScS"
      },
      "source": [
        "**1.** First, run this code to mount google drive so that you can access the class files."
      ]
    },
    {
      "cell_type": "code",
      "metadata": {
        "id": "qaKb0TJdClwu"
      },
      "source": [
        "from google.colab import drive\n",
        "drive.mount('/content/drive')"
      ],
      "execution_count": null,
      "outputs": []
    },
    {
      "cell_type": "markdown",
      "metadata": {
        "id": "nzTG_n9lDbF-"
      },
      "source": [
        "**2.** Next, run this code to import the libraries you'll be using"
      ]
    },
    {
      "cell_type": "code",
      "metadata": {
        "id": "AocR22QwDetd"
      },
      "source": [
        "import librosa\n",
        "import IPython.display as ipd\n",
        "import matplotlib.pyplot as plt\n",
        "import numpy as np"
      ],
      "execution_count": null,
      "outputs": []
    },
    {
      "cell_type": "markdown",
      "metadata": {
        "id": "RBVMLRp5DiCV"
      },
      "source": [
        "**3.** Run the code below which loads audio and its sampling rate. Listen to the audio."
      ]
    },
    {
      "cell_type": "code",
      "metadata": {
        "id": "QSLKR1v-Eeie"
      },
      "source": [
        "load_path = \"/content/drive/MyDrive/ECES-434 Sessions/Lab 2/audio/guitar_note.wav\"\n",
        "y, fs = librosa.load(load_path, sr=None)\n",
        "ipd.Audio(y, rate=fs)"
      ],
      "execution_count": null,
      "outputs": []
    },
    {
      "cell_type": "markdown",
      "metadata": {
        "id": "fyrgscgSF_1H"
      },
      "source": [
        "**4.** It's just a single guitar note. Let's look at its frequency spectrum. Use the function np.fft.fft to compute the Discrete Fourier Transform (DFT). The DFT is complex-valued, but today we won't worry about phase. Take the magnitude (absolute value with np.abs) of the DFT and store it in the given variable X."
      ]
    },
    {
      "cell_type": "code",
      "metadata": {
        "id": "YomACTz12qdm"
      },
      "source": [
        "# your code here\n",
        "X = "
      ],
      "execution_count": null,
      "outputs": []
    },
    {
      "cell_type": "markdown",
      "metadata": {
        "id": "dSDv08zk3uEs"
      },
      "source": [
        "**5.** In order to plot the DFT, we need a frequency vector to serve as our x-axis. Use np.arange to generate a vector the same length as X containing values ramping from 0 to the sampling rate. Store this vector in the variable f given below."
      ]
    },
    {
      "cell_type": "code",
      "metadata": {
        "id": "kxA2SBEC4Vno"
      },
      "source": [
        "# your code here\n",
        "f = "
      ],
      "execution_count": null,
      "outputs": []
    },
    {
      "cell_type": "markdown",
      "metadata": {
        "id": "-sWQcD2V4pyO"
      },
      "source": [
        "**6.** Run the code below to generate a decibel-scaled figure of the DFT."
      ]
    },
    {
      "cell_type": "code",
      "metadata": {
        "id": "INXbbb0g41_T"
      },
      "source": [
        "fig = plt.figure(figsize=(20,4))\n",
        "plt.plot(f, 20*np.log10(np.abs(X)))\n",
        "plt.xlabel('Frequency (Hz)')\n",
        "plt.xlim(0,5000)\n",
        "plt.ylim(-80,80)\n",
        "\n",
        "# Uncomment the code below when you are working on question 7.\n",
        "# f0 = 100\n",
        "# freqs = [f0 * k for k in range(1,15)]      # creates a list of harmonic frequences, integer multiples of f0\n",
        "# plt.vlines(freqs, ymin=-80, ymax=80, colors=\"r\", linestyles=\"dashed\")"
      ],
      "execution_count": null,
      "outputs": []
    },
    {
      "cell_type": "markdown",
      "metadata": {
        "id": "AjdL27AS5T5g"
      },
      "source": [
        "**7.** You are looking at the Discrete Fourier Transform of the guitar note. Along the x-axis we have frequency, and the y-axis shows the strength of that frequency in the signal.\n",
        "\n",
        "Music notes largely consist of frequencies that are integer multiples of some fundamental frequency. You should hopefully see evenly-spaced spikes in the signal. We are going to use these spikes to determine the fundamental frequency of the note. \n",
        "\n",
        "In the previous code box, uncomment the commented-out code and run the box again. This code creates evenly spaced vertical lines based on a given fundamental frequency, f0. **Your task is to change the value of f0 so that these lines align with the spikes in the DFT as closely as possible. Only continue when you think you have approximately determined f0.**"
      ]
    },
    {
      "cell_type": "markdown",
      "metadata": {
        "id": "QHkOURax9pup"
      },
      "source": [
        "**8.** By analyzing the DFT, you were hopefully able to get a pretty good guess about the the value of f0, the fundamental frequnecy of the guitar note. You can check out [this table](https://pages.mtu.edu/~suits/notefreqs.html) to see which music note this corresponds to. Answer the following questions:\n",
        "\n",
        "**a.** What is the fundamental frequency of the guitar note?\n",
        "\n",
        "\n",
        "**b.** Which music note do you think it is?"
      ]
    },
    {
      "cell_type": "markdown",
      "metadata": {
        "id": "vrbyEHCRC1FY"
      },
      "source": [
        "*Your response here*"
      ]
    },
    {
      "cell_type": "markdown",
      "metadata": {
        "id": "uSctM4bgCq8M"
      },
      "source": [
        "**9.** Now, let's use this information from analyzing the signal to resynthesize an approximation of the orignal guitar note. Run the code below which will plug the fundmental frequency and each of its harmonics into the DFT to determine their magnitudes. This is simply retrieving the height of each of those spikes."
      ]
    },
    {
      "cell_type": "code",
      "metadata": {
        "id": "fUmzrsUC_y2g"
      },
      "source": [
        "harmonics = []\n",
        "mags = []\n",
        "print(\"frequency\",\"magnitude\",sep=\"\\t\")\n",
        "for fn in freqs:                      # for each harmonic frequency\n",
        "  index = int(round((fn / fs) * len(X)))   # get the index of the closest frequency in our f vector\n",
        "  print(f[index],X[index],sep=\"\\t\\t\") # print and store the frequency/magnitude pairs\n",
        "  harmonics.append(f[index])\n",
        "  mags.append(X[index])"
      ],
      "execution_count": null,
      "outputs": []
    },
    {
      "cell_type": "markdown",
      "metadata": {
        "id": "EKsGAR5XCC5e"
      },
      "source": [
        "**10.** Now we will create a sinusoid for each harmonic, and add them together, scaling by the magnitudes we just found.\n",
        "\n",
        "The following code is incomplete. Your task is to fill in the missing line. **The line of code you add should create a cosine with frequency h, scale its amplitude by a factor of m, and add it to the y_synth vector.**\n",
        "\n",
        "*Hint: you should use the given vector t, as well as np.pi*"
      ]
    },
    {
      "cell_type": "code",
      "metadata": {
        "id": "NftmbNILybjj"
      },
      "source": [
        "y_synth = np.zeros(fs * 2)        # create an empty array to accumulate our synthesized note (2 seconds of audio)\n",
        "t = np.arange(fs * 2) / (fs)      # create a vector of time values from 0 to 2 seconds at the sampling rate\n",
        "for i in range(14):               # for each harmonic/mag pair\n",
        "  h = harmonics[i]\n",
        "  m = mags[i]\n",
        "  # your code here\n",
        "  y_synth +="
      ],
      "execution_count": null,
      "outputs": []
    },
    {
      "cell_type": "markdown",
      "metadata": {
        "id": "gSTc1CmNKj9B"
      },
      "source": [
        "**11.** By adding these scaled sinusoids together, we have synthesized a rough reconstruction of the original signal. Let's see how it compares to the original. Run the following code which concatenates the original guitar note and the synthesized version. Do they sound similar? What's missing in the reconstruction?"
      ]
    },
    {
      "cell_type": "markdown",
      "metadata": {
        "id": "Smb-y17ILJIU"
      },
      "source": [
        "*Your response here*"
      ]
    },
    {
      "cell_type": "code",
      "metadata": {
        "id": "3cI_09VjJILN"
      },
      "source": [
        "comparison = np.concatenate((librosa.util.normalize(y),librosa.util.normalize(y_synth)))\n",
        "ipd.Audio(comparison, rate = fs)"
      ],
      "execution_count": null,
      "outputs": []
    },
    {
      "cell_type": "markdown",
      "metadata": {
        "id": "LNacBCmdV18e"
      },
      "source": [
        "**12.** Finally, enter your username below and run the code which will save your audio to a .wav file in the shared class folder."
      ]
    },
    {
      "cell_type": "code",
      "metadata": {
        "id": "iMDCzdmpM-Kb"
      },
      "source": [
        "# replace with your username\n",
        "username = \"anonymous\"\n",
        "save_path = \"/content/drive/MyDrive/ECES-434 Sessions/Lab 2/\" + username + \".wav\"\n",
        "librosa.output.write_wav(save_path, comparison, fs)"
      ],
      "execution_count": null,
      "outputs": []
    },
    {
      "cell_type": "markdown",
      "metadata": {
        "id": "nbaAZ4lIR9rB"
      },
      "source": [
        "**Use the File menu to save a copy of this notebook to the shared folder for this lab. The filename should be your username:** \n",
        "\n",
        "/ECES-434 Sessions/Lab 2/[username]"
      ]
    },
    {
      "cell_type": "markdown",
      "metadata": {
        "id": "VbA7MhKcMXVD"
      },
      "source": [
        "___\n",
        "\n",
        "END OF LAB"
      ]
    }
  ]
}