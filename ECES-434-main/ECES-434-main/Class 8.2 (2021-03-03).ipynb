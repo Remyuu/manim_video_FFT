{
  "nbformat": 4,
  "nbformat_minor": 0,
  "metadata": {
    "colab": {
      "name": "Class 8.2 (2021-03-03).ipynb",
      "provenance": [],
      "collapsed_sections": [
        "70YbUklCYuue",
        "oKE5IroW-PTp"
      ],
      "toc_visible": true,
      "include_colab_link": true
    },
    "kernelspec": {
      "display_name": "Python 3",
      "name": "python3"
    }
  },
  "cells": [
    {
      "cell_type": "markdown",
      "metadata": {
        "id": "view-in-github",
        "colab_type": "text"
      },
      "source": [
        "<a href=\"https://colab.research.google.com/github/youngmoo/ECES-434/blob/main/Class%208.2%20(2021-03-03).ipynb\" target=\"_parent\"><img src=\"https://colab.research.google.com/assets/colab-badge.svg\" alt=\"Open In Colab\"/></a>"
      ]
    },
    {
      "cell_type": "markdown",
      "metadata": {
        "id": "qHxN8R_ItyXz"
      },
      "source": [
        "# **ECES-434: Class 8.2 (2021-03-03)**\n",
        "Week 8: It's already March!"
      ]
    },
    {
      "cell_type": "code",
      "metadata": {
        "id": "eDaoDgqCs1mp"
      },
      "source": [
        "import numpy as np                      # NumPy, abbreviated as np\n",
        "import matplotlib.pyplot as plt         # MatplotLib PyPlot module, abbreviated as plt\n",
        "from matplotlib import animation, rc    # MatplotLib animation module\n",
        "%matplotlib inline\n",
        "from scipy import signal                # SciPy's signal module, for DSP functions\n",
        "import soundfile as sf                  # Switching to the soundfile module for reading and writing soundfiles\n",
        "import librosa\n",
        "\n",
        "import IPython.display as ipd           # Interactive Python display module, for playing sounds\n",
        "from IPython.display import HTML        # For displaying animations\n",
        "rc('animation', html='jshtml')          # Provides animation controls\n",
        "\n",
        "ClassPath = '/content/drive/My Drive/ECES-434 Sessions/Class 8-1/'"
      ],
      "execution_count": null,
      "outputs": []
    },
    {
      "cell_type": "code",
      "metadata": {
        "id": "c7sMYwOh7lrE"
      },
      "source": [
        "rc('figure', figsize=(16,4))"
      ],
      "execution_count": null,
      "outputs": []
    },
    {
      "cell_type": "code",
      "metadata": {
        "id": "QUiMfqMhOWCI"
      },
      "source": [
        "# CHANGE THIS to your Drexel username!!\n",
        "username = 'anonymous'"
      ],
      "execution_count": null,
      "outputs": []
    },
    {
      "cell_type": "code",
      "metadata": {
        "id": "7f-OzFc_mN4w"
      },
      "source": [
        "from google.colab import drive\n",
        "drive.mount('/content/drive')"
      ],
      "execution_count": null,
      "outputs": []
    },
    {
      "cell_type": "markdown",
      "metadata": {
        "id": "70YbUklCYuue"
      },
      "source": [
        "# Custom plotting functions\n",
        "Because we're always plotting..."
      ]
    },
    {
      "cell_type": "markdown",
      "metadata": {
        "id": "oKE5IroW-PTp"
      },
      "source": [
        "## plotSpectrogram"
      ]
    },
    {
      "cell_type": "code",
      "metadata": {
        "id": "mGnf6L4cq-UI"
      },
      "source": [
        "def plotSpectrogram(sig, fs, win='hann', nseg=512, olap=256, fft_len=512):\n",
        "  \n",
        "  f1, t1, Sxx = signal.spectrogram(sig, fs, window=win, nperseg=nseg, noverlap=olap, nfft=fft_len)\n",
        "  fig = plt.figure(figsize=(16,6))\n",
        "  \n",
        "  plt.pcolormesh(t1, f1, 20*np.log10(np.abs(Sxx)))\n",
        "  plt.ylabel('Frequency (Hz)')\n",
        "  plt.xlabel('Time (sec)')\n",
        "  return plt"
      ],
      "execution_count": null,
      "outputs": []
    },
    {
      "cell_type": "markdown",
      "metadata": {
        "id": "cDBQiEc8-UFH"
      },
      "source": [
        "## myPlot(): properly formats time domain plot of a signal"
      ]
    },
    {
      "cell_type": "code",
      "metadata": {
        "id": "f8v2wTLmIlZd"
      },
      "source": [
        "def myPlot(sig, fs=44100):\n",
        "  fig = plt.figure(figsize=(16,4))\n",
        "  t = np.arange(len(sig)) / fs\n",
        "  plt.plot(t, sig)\n",
        "  plt.xlabel('Time (sec)')\n",
        "  return fig, plt"
      ],
      "execution_count": null,
      "outputs": []
    },
    {
      "cell_type": "markdown",
      "metadata": {
        "id": "mILGhvzF-hmU"
      },
      "source": [
        "## myPlotFFT(): properly formats frequency domain plot of a signal"
      ]
    },
    {
      "cell_type": "code",
      "metadata": {
        "id": "xTksRiMEIm3x"
      },
      "source": [
        "def myPlotFFT(sig, n_fft=0, x_lim=22050, fs=44100):\n",
        "  if n_fft==0:                 \n",
        "    n_fft = len(sig)                    # Default to length of input signal\n",
        "  S = np.fft.fft(sig, n_fft)\n",
        "  N = len(S)\n",
        "  f = np.arange(N) * fs / N\n",
        "  fig = plt.figure(figsize=(16,6))\n",
        "  plt.plot(f, 20*np.log10(np.abs(S)))\n",
        "  plt.xlim(0, x_lim)\n",
        "  plt.xlabel('Frequency (Hz)')\n",
        "  plt.ylabel('Magnitude (dB)')\n",
        "  return fig, plt  "
      ],
      "execution_count": null,
      "outputs": []
    },
    {
      "cell_type": "markdown",
      "metadata": {
        "id": "H_C088pI1RLO"
      },
      "source": [
        "## myPlotFFTPhase"
      ]
    },
    {
      "cell_type": "code",
      "metadata": {
        "id": "utnJOZbi1YQW"
      },
      "source": [
        "def myPlotFFTPhase(sig, n_fft=0, x_lim=22050, fs=44100):\n",
        "  if n_fft==0:                 \n",
        "    n_fft = len(sig)                    # Default to length of input signal\n",
        "  S = np.fft.fft(sig, n_fft)\n",
        "  N = len(S)\n",
        "  f = np.arange(N) * fs / N\n",
        "  fig = plt.figure(figsize=(16,4))\n",
        "  plt.plot(f, np.unwrap(np.angle(S)))\n",
        "  plt.xlim(0, x_lim)\n",
        "  plt.xlabel('Frequency (Hz)')\n",
        "  plt.ylabel('Phase (radians)')\n",
        "  return fig, plt"
      ],
      "execution_count": null,
      "outputs": []
    },
    {
      "cell_type": "markdown",
      "metadata": {
        "id": "4xLeOGxb-mOr"
      },
      "source": [
        "## Custom FFT animation functions"
      ]
    },
    {
      "cell_type": "code",
      "metadata": {
        "id": "bCcL0uLp-N9T"
      },
      "source": [
        "n_o = 0\n",
        "f_size = 2048\n",
        "n_hop = f_size / 2\n",
        "N_fft = 4096\n",
        "fs = 44100\n",
        "this_f = np.arange(N_fft) * fs / N_fft\n",
        "\n",
        "# First set up the figure, the axis, and the plot element we want to animate\n",
        "def setupAnimFFT(x_lim=(0,20000), y_lim=(-120,100)):\n",
        "  fig = plt.figure(figsize=(14,6))\n",
        "  ax = plt.axes(xlim=x_lim,ylim=y_lim)\n",
        "  plt.close()   # Don't output the final figure separately\n",
        "  line, = ax.plot([], [])\n",
        "  fig.tight_layout()\n",
        "  return fig, line\n",
        "\n",
        "# initialization function: plot the background of each frame\n",
        "def initAnimFFT():\n",
        "    line.set_data([], [])\n",
        "    return (line,)\n",
        "\n",
        "# animation function. This is called sequentially  \n",
        "def animateFFT(i, sig):\n",
        "    n1 = int(n_o + n_hop*i)\n",
        "    n2 = int(n_o + n_hop*i + f_size)\n",
        "\n",
        "    x_i = sig[n1:n2]\n",
        "    X_i = np.fft.fft(x_i * np.hanning(len(x_i)), n=N_fft)\n",
        "    X_mag = 20*np.log(np.abs(X_i))\n",
        "\n",
        "    line.set_data(this_f, X_mag)\n",
        "    return (line,)  \n",
        "\n",
        "# Usage:\n",
        "# fig, line = setupAnimFFT()\n",
        "# anim = animation.FuncAnimation(fig, animateFFT, init_func=initAnimFFT, frames=120, fargs=(signal,), interval=1000/30, blit=True)\n",
        "# anim"
      ],
      "execution_count": null,
      "outputs": []
    },
    {
      "cell_type": "markdown",
      "metadata": {
        "id": "e7-jlroJMv4g"
      },
      "source": [
        "# Load sound file...\n",
        "*Chariots of Fire* by Vangelis (1981)"
      ]
    },
    {
      "cell_type": "code",
      "metadata": {
        "id": "ixLydDz6Nb89"
      },
      "source": [
        "cof_s, fs = sf.read(ClassPath + 'Chariots-44kHz.wav')\n",
        "cof = np.mean(cof_s,axis=1)\n",
        "ipd.Audio(cof,rate=fs)"
      ],
      "execution_count": null,
      "outputs": []
    },
    {
      "cell_type": "code",
      "metadata": {
        "id": "gQzGVvf3RSgT"
      },
      "source": [
        "nFFT = 2048\n",
        "nHop = 512\n",
        "\n",
        "COF = librosa.stft(cof,n_fft=nFFT, hop_length=nHop, win_length=1024, window='hann')\n",
        "\n",
        "nBins, nFrames = np.shape(COF)\n",
        "f1 = np.arange(nBins)/(nFFT/2) * (fs/2)\n",
        "t1 = np.arange(nFrames) * nHop / fs\n",
        "\n",
        "(nBins, nFrames)"
      ],
      "execution_count": null,
      "outputs": []
    },
    {
      "cell_type": "code",
      "metadata": {
        "id": "T8V1CsEegAeN"
      },
      "source": [
        "plt.plot(f1)\n",
        "plt.ylim(4000,8000)\n",
        "plt.xlim(186,371)\n",
        "f1[371]"
      ],
      "execution_count": null,
      "outputs": []
    },
    {
      "cell_type": "code",
      "metadata": {
        "id": "Uw5yhVV2g3tY"
      },
      "source": [
        "plt.plot(f1)\n",
        "plt.ylim(8000,16000)\n",
        "plt.xlim(372,744)\n",
        "f1[744]"
      ],
      "execution_count": null,
      "outputs": []
    },
    {
      "cell_type": "code",
      "metadata": {
        "id": "euVEaReXghJ2"
      },
      "source": [
        "f_c1 = 4000\n",
        "f_c2 = 8000\n",
        "\n",
        "tri_f1 = np.zeros(nBins)\n",
        "tri_f1[:186] = f1[:186] /(f_c1)\n",
        "tri_f1[186:372] = 1 - (f1[186:372]- f_c1)/f_c1\n",
        "\n",
        "\n",
        "tri_f2 = np.zeros(nBins)\n",
        "tri_f2[186:372] = (f1[186:372] - f_c1)/(f_c1)\n",
        "tri_f2[372:744] = 1 - (f1[372:744]- f_c2)/f_c2\n",
        "\n",
        "plt.plot(f1, tri_f1, f1, tri_f2)\n",
        "#plt.xlim(0,4000)"
      ],
      "execution_count": null,
      "outputs": []
    },
    {
      "cell_type": "code",
      "metadata": {
        "id": "eOqc01oQhi4A"
      },
      "source": [
        "# Need this in order to tile it for the full STFT matrix\n",
        "tri_f1.shape = (nBins,1)\n",
        "tri_f2.shape = (nBins,1)\n",
        "\n",
        "H1 = np.tile(tri_f1, (1,nFrames)) \n",
        "H2 = np.tile(tri_f2, (1,nFrames)) \n",
        "plt.pcolormesh(t1,f1, H1)"
      ],
      "execution_count": null,
      "outputs": []
    },
    {
      "cell_type": "code",
      "metadata": {
        "id": "EJX1OXD1hsL5"
      },
      "source": [
        "COF_H1 = COF * H1\n",
        "COF_H2 = COF * H2\n",
        "\n",
        "plt.pcolormesh(t1, f1, 20*np.log10(np.abs(COF_H2)))\n",
        "plt.ylabel('Frequency (Hz)')\n",
        "plt.xlabel('Time (sec)')"
      ],
      "execution_count": null,
      "outputs": []
    },
    {
      "cell_type": "code",
      "metadata": {
        "id": "yYP87A3Bh18o"
      },
      "source": [
        "cof_h1 = librosa.istft(COF_H1, hop_length=nHop, win_length=1024)\n",
        "ipd.Audio(cof_h1, rate=fs)"
      ],
      "execution_count": null,
      "outputs": []
    },
    {
      "cell_type": "code",
      "metadata": {
        "id": "ZeJeV60MjOZk"
      },
      "source": [
        "cof_h2 = librosa.istft(COF_H2, hop_length=nHop, win_length=1024)\n",
        "ipd.Audio(cof_h2, rate=fs)"
      ],
      "execution_count": null,
      "outputs": []
    },
    {
      "cell_type": "code",
      "metadata": {
        "id": "dmqrkJ2tjbpM"
      },
      "source": [
        "ipd.Audio(cof_h1 + cof_h2, rate=fs)"
      ],
      "execution_count": null,
      "outputs": []
    },
    {
      "cell_type": "code",
      "metadata": {
        "id": "uwWsJvn2jyal"
      },
      "source": [
        "COF_H2p = np.zeros((nBins,nFrames) )\n",
        "\n",
        "nPeaks = 5\n",
        "\n",
        "for n in range(nFrames):\n",
        "  sort_idx = np.argsort( np.abs(COF_H2[:,n]) )\n",
        "  peak_idxs = sort_idx[-nPeaks:len(sort_idx)]\n",
        "  COF_H2p[peak_idxs, n] = COF_H[peak_idxs, n]\n",
        "\n",
        "plt.pcolormesh(t1, f1, 20*np.log10(np.abs(COF_H2p)))\n",
        "plt.ylabel('Frequency (Hz)')\n",
        "plt.xlabel('Time (sec)')"
      ],
      "execution_count": null,
      "outputs": []
    },
    {
      "cell_type": "code",
      "metadata": {
        "id": "NpSnEWJhoZIY"
      },
      "source": [
        "cof_h2p = librosa.istft(COF_H2p, hop_length=nHop, win_length=1024)\n",
        "ipd.Audio(cof_h2p, rate=fs)"
      ],
      "execution_count": null,
      "outputs": []
    },
    {
      "cell_type": "code",
      "metadata": {
        "id": "7ItoQnZ2ovi8"
      },
      "source": [
        "h2n = np.sum(np.abs(COF_H2 - COF_H2p), axis=0) / 6000\n",
        "np.shape(h2n)\n",
        "plt.plot(h2n)"
      ],
      "execution_count": null,
      "outputs": []
    },
    {
      "cell_type": "code",
      "metadata": {
        "id": "0gffY8gio746"
      },
      "source": [
        "noiz = 2*np.random.rand(len(cof_h2)) - 1\n",
        "NOIZ = librosa.stft(noiz)\n",
        "\n",
        "h2n.shape = (1,nFrames)\n",
        "H2N = np.tile(h2n, (1025,1))\n",
        "\n",
        "H2_env = H2 * H2N\n",
        "\n",
        "COF_H2N_env = NOIZ * H2_env\n",
        "plt.pcolormesh(t1, f1, 20*np.log10(np.abs(COF_H2N_env)))\n",
        "plt.ylabel('Frequency (Hz)')\n",
        "plt.xlabel('Time (sec)')"
      ],
      "execution_count": null,
      "outputs": []
    },
    {
      "cell_type": "code",
      "metadata": {
        "id": "Ed8ydMevpvZ7"
      },
      "source": [
        "cof_h2_env = librosa.istft(COF_H2N_env, hop_length=nHop, win_length=1024)\n",
        "ipd.Audio(cof_h2_env, rate=fs)"
      ],
      "execution_count": null,
      "outputs": []
    },
    {
      "cell_type": "code",
      "metadata": {
        "id": "PbWWobV3p7lA"
      },
      "source": [
        "ipd.Audio(cof_h2_env + cof_h2p + cof_h1, rate=fs)"
      ],
      "execution_count": null,
      "outputs": []
    },
    {
      "cell_type": "code",
      "metadata": {
        "id": "btDSWvaqRzMf"
      },
      "source": [
        "cof_p = librosa.istft(COF_P, hop_length=nHop, win_length=1024)\n",
        "ipd.Audio(cof_p, rate=fs)"
      ],
      "execution_count": null,
      "outputs": []
    },
    {
      "cell_type": "code",
      "metadata": {
        "id": "ST8Zw6vXuyQy"
      },
      "source": [
        "COF_H1p = np.zeros((nBins,nFrames) )\n",
        "\n",
        "nPeaks = 128\n",
        "\n",
        "for n in range(nFrames):\n",
        "  sort_idx = np.argsort( np.abs(COF_H1[:,n]) )\n",
        "  peak_idxs = sort_idx[-nPeaks:len(sort_idx)]\n",
        "  COF_H1p[peak_idxs, n] = COF_H[peak_idxs, n]\n",
        "\n",
        "plt.pcolormesh(t1, f1, 20*np.log10(np.abs(COF_H1p)))\n",
        "plt.ylabel('Frequency (Hz)')\n",
        "plt.xlabel('Time (sec)')"
      ],
      "execution_count": null,
      "outputs": []
    },
    {
      "cell_type": "code",
      "metadata": {
        "id": "QOPWYoOpu7nV"
      },
      "source": [
        "cof_h1p = librosa.istft(COF_H1p, hop_length=nHop)\n",
        "ipd.Audio(cof_h1p, rate=fs)"
      ],
      "execution_count": null,
      "outputs": []
    },
    {
      "cell_type": "code",
      "metadata": {
        "id": "aXlxbAMgwjTY"
      },
      "source": [
        "h1n = np.sum(np.abs(COF_H1), axis=0) / 4000\n",
        "np.shape(h1n)\n",
        "plt.plot(h1n)"
      ],
      "execution_count": null,
      "outputs": []
    },
    {
      "cell_type": "code",
      "metadata": {
        "id": "7ITHo6xnwXlf"
      },
      "source": [
        "h1n.shape = (1,nFrames)\n",
        "H1N = np.tile(h1n, (1025,1))\n",
        "\n",
        "H1_env = H1 * H1N\n",
        "\n",
        "COF_H1N_env = NOIZ * H1_env\n",
        "plt.pcolormesh(t1, f1, 20*np.log10(np.abs(COF_H1N_env)))\n",
        "plt.ylabel('Frequency (Hz)')\n",
        "plt.xlabel('Time (sec)')"
      ],
      "execution_count": null,
      "outputs": []
    },
    {
      "cell_type": "code",
      "metadata": {
        "id": "GRapFRVewrck"
      },
      "source": [
        "cof_h1_env = librosa.istft(COF_H1N_env)\n",
        "ipd.Audio(cof_h1_env, rate=fs)"
      ],
      "execution_count": null,
      "outputs": []
    }
  ]
}