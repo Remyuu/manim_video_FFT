{
  "nbformat": 4,
  "nbformat_minor": 0,
  "metadata": {
    "colab": {
      "name": "Lab 4 - Project",
      "provenance": [],
      "collapsed_sections": []
    },
    "kernelspec": {
      "name": "python3",
      "display_name": "Python 3"
    }
  },
  "cells": [
    {
      "cell_type": "markdown",
      "metadata": {
        "id": "HN408Gx2Cq81"
      },
      "source": [
        "# Lab 4 - **Resampling Project**\n",
        "\n",
        "___\n",
        "\n",
        "**Due: Friday, Feb 12th at 11am**\n",
        "\n",
        "You are given an audio file with a sampling rate of 44.1 kHz, and your task is to create a resampling system to convert it to a sampling rate of 16 kHz. You will then evaluate your resampling system in three areas: perception, runtime, and SNR (signal-to-noise ratio).\n",
        "___"
      ]
    },
    {
      "cell_type": "markdown",
      "metadata": {
        "id": "OdkjLu-kDScS"
      },
      "source": [
        "**1.  Load libraries, audio** \n",
        "\n",
        "First, run this code to mount google drive so that you can access the class files."
      ]
    },
    {
      "cell_type": "code",
      "metadata": {
        "id": "qaKb0TJdClwu"
      },
      "source": [
        "from google.colab import drive\n",
        "drive.mount('/content/drive')"
      ],
      "execution_count": null,
      "outputs": []
    },
    {
      "cell_type": "markdown",
      "metadata": {
        "id": "nzTG_n9lDbF-"
      },
      "source": [
        "Next, run this code to import the libraries you'll be using."
      ]
    },
    {
      "cell_type": "code",
      "metadata": {
        "id": "AocR22QwDetd"
      },
      "source": [
        "import soundfile as sf\n",
        "import IPython.display as ipd\n",
        "import matplotlib.pyplot as plt\n",
        "import numpy as np\n",
        "import scipy.signal\n",
        "import time"
      ],
      "execution_count": null,
      "outputs": []
    },
    {
      "cell_type": "markdown",
      "metadata": {
        "id": "RBVMLRp5DiCV"
      },
      "source": [
        "Run the code below which loads the 44.1 kHz audio you are tasked with resampling. Take a listen."
      ]
    },
    {
      "cell_type": "code",
      "metadata": {
        "id": "QSLKR1v-Eeie"
      },
      "source": [
        "load_path = \"/content/drive/MyDrive/ECES-434 Sessions/Lab 4/audio/\"\n",
        "original_441, fs = sf.read(load_path + \"original_441.wav\")\n",
        "\n",
        "ipd.Audio(original_441, rate=fs)"
      ],
      "execution_count": null,
      "outputs": []
    },
    {
      "cell_type": "markdown",
      "metadata": {
        "id": "wQ1F2DA2hN0r"
      },
      "source": [
        "**2. Resampling**\n",
        "\n",
        "Your task is to take the provided 44.1 kHz audio signal and convert it to a sampling rate of 16 kHz. Hopefully you remember from class that to resample a signal by a factor of L/M (where L and M are both integers) you can do the following:\n",
        "1. upsample the signal by a factor of L.\n",
        "2. apply a lowpass (smoothing) filter.\n",
        "3. downsample by a factor of M.\n",
        "\n",
        "As you work on your resampling system, make sure to listen to the quality of the output signal. Try to make the resampled version sound as good as possible. In addition to preserving audio quality, you should also design with efficiency in mind. Try to minimize the runtime of your code. \n",
        "\n",
        "For any filter(s) you create, make sure to generate a plot of the filter's magnitude frequency response.\n",
        "In addition to your code and figures, provide a written explanation of your process. Explain how you designed your filter(s) and what steps you took toward the goals of perserving audio quality and minimizing runtime. \n",
        "\n",
        "**You are not permitted to use scipy.signal.resample, scipy.signal.upfirdn, librosa.resample, or any other library functions that perform this resampling process for you.**"
      ]
    },
    {
      "cell_type": "code",
      "metadata": {
        "id": "3OyboBKnr4dE"
      },
      "source": [
        "# Your code here"
      ],
      "execution_count": null,
      "outputs": []
    },
    {
      "cell_type": "markdown",
      "metadata": {
        "id": "HgG2R2u5jXcF"
      },
      "source": [
        "*Your response here*"
      ]
    },
    {
      "cell_type": "markdown",
      "metadata": {
        "id": "WS94l4YfslcW"
      },
      "source": [
        "**3. Evaluate your system** \n",
        "\n",
        "Now, you'll evaluate your system. For a point of comparison, run the following code which loads a 16 kHz resampled version of the signal made using librosa's built-in resample function."
      ]
    },
    {
      "cell_type": "code",
      "metadata": {
        "id": "5YPaSRzgoiLI"
      },
      "source": [
        "librosa_16, fs_16 = sf.read(load_path + \"librosa_16.wav\")\n",
        "\n",
        "ipd.Audio(librosa_16, rate=fs_16)"
      ],
      "execution_count": null,
      "outputs": []
    },
    {
      "cell_type": "markdown",
      "metadata": {
        "id": "8feOclNJopgw"
      },
      "source": [
        "**a. Perception** \n",
        "\n",
        "First, you will perform a perceptual evaluation. Listen to your system's 16 kHz output audio and compare it to the 16 kHz version from librosa. Explain any differences you hear.\n",
        "\n",
        "Now listen to the original 44.1 kHz version again and comment on how the 16 kHz versions differ."
      ]
    },
    {
      "cell_type": "markdown",
      "metadata": {
        "id": "SJ-LHfp8tMi6"
      },
      "source": [
        "*Your response here*"
      ]
    },
    {
      "cell_type": "markdown",
      "metadata": {
        "id": "Hn00VkSdtqKd"
      },
      "source": [
        "**b. Runtime** \n",
        "\n",
        "You can time how long your resampling code takes to run by sandwiching your code within the following two lines:"
      ]
    },
    {
      "cell_type": "code",
      "metadata": {
        "id": "yPy8pjcpqziZ"
      },
      "source": [
        "startTime = time.time() # paste this line right before your resampling system\n",
        "\n",
        "# The code you want to time goes in between\n",
        "\n",
        "print(time.time() - startTime, \"seconds elapsed\") # paste this line right after your resampling system"
      ],
      "execution_count": null,
      "outputs": []
    },
    {
      "cell_type": "markdown",
      "metadata": {
        "id": "FWFkrp2Yx1Q_"
      },
      "source": [
        "Report your code's runtime below."
      ]
    },
    {
      "cell_type": "markdown",
      "metadata": {
        "id": "5I-ID7jfrRyM"
      },
      "source": [
        "*Your response here*"
      ]
    },
    {
      "cell_type": "markdown",
      "metadata": {
        "id": "kaQceZ-mrXzT"
      },
      "source": [
        "**c. SNR**\n",
        "\n",
        "Signal-to-noise ratio provides a way to measure the similarity between two signals. You will compare your 16 kHz signal to the librosa 16 kHz version.\n",
        "\n",
        "Follow these steps to compute SNR and report your value in dB below:\n",
        "1. Create a variable \"signal\" and set it equal to the librosa 16 kHz signal\n",
        "2. Create a variable \"noise\" and set it equal to the difference (subtraction) between the librosa 16 kHz signal and your 16 kHz signal. (If they are slightly different lengths, pad the shorter one with zeros.)\n",
        "3. Compute the power for the \"signal\" and \"noise\". To calculate power, square all the values and sum them.\n",
        "4. Find the signal-to-noise ratio by dividing the signal power over the noise power.\n",
        "5. Finally, compute 10 * np.log10 (ratio) to get the SNR in decibels.\n",
        "\n",
        "Report your SNR below.\n",
        "\n",
        "**Note:** SNR is *very* sensitive to time shifted signals. If your filter(s) introduced a time delay, this could result in a bad SNR. **To fix this, you should manually shift the start time of your 16 kHz audio (by padding the start with zeros) so that it lines up with the librosa version as closely as possible. (You will want to zoom in a lot when making sure the signals line up.)**"
      ]
    },
    {
      "cell_type": "code",
      "metadata": {
        "id": "efMKA0217uc1"
      },
      "source": [
        "# Your code here"
      ],
      "execution_count": null,
      "outputs": []
    },
    {
      "cell_type": "markdown",
      "metadata": {
        "id": "NOVTOnn57wcV"
      },
      "source": [
        "*Your response here*"
      ]
    },
    {
      "cell_type": "markdown",
      "metadata": {
        "id": "HOUkp18CHysR"
      },
      "source": [
        "**4. Submit your work** \n",
        "\n",
        "Use the file menu in Colab to locate this notebook file in your Google Drive. Right click the file name and click share. Share it with wiggins@excitecenter.org."
      ]
    },
    {
      "cell_type": "markdown",
      "metadata": {
        "id": "VbA7MhKcMXVD"
      },
      "source": [
        "___\n",
        "\n",
        "END OF PROJECT"
      ]
    }
  ]
}