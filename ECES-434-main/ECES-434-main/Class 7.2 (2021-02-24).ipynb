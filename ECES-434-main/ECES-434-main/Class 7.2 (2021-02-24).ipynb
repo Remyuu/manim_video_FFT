{
  "nbformat": 4,
  "nbformat_minor": 0,
  "metadata": {
    "colab": {
      "name": "Class 7.2 (2021-02-24).ipynb",
      "provenance": [],
      "collapsed_sections": [
        "70YbUklCYuue",
        "oKE5IroW-PTp"
      ],
      "toc_visible": true,
      "include_colab_link": true
    },
    "kernelspec": {
      "display_name": "Python 3",
      "name": "python3"
    }
  },
  "cells": [
    {
      "cell_type": "markdown",
      "metadata": {
        "id": "view-in-github",
        "colab_type": "text"
      },
      "source": [
        "<a href=\"https://colab.research.google.com/github/youngmoo/ECES-434/blob/main/Class%207.2%20(2021-02-24).ipynb\" target=\"_parent\"><img src=\"https://colab.research.google.com/assets/colab-badge.svg\" alt=\"Open In Colab\"/></a>"
      ]
    },
    {
      "cell_type": "markdown",
      "metadata": {
        "id": "qHxN8R_ItyXz"
      },
      "source": [
        "# **ECES-434: Class 7.2 (2021-02-24)**\n",
        "Week 7: Project, project, project...!"
      ]
    },
    {
      "cell_type": "code",
      "metadata": {
        "id": "eDaoDgqCs1mp"
      },
      "source": [
        "import numpy as np                      # NumPy, abbreviated as np\n",
        "import matplotlib.pyplot as plt         # MatplotLib PyPlot module, abbreviated as plt\n",
        "from matplotlib import animation, rc    # MatplotLib animation module\n",
        "%matplotlib inline\n",
        "from scipy import signal                # SciPy's signal module, for DSP functions\n",
        "import soundfile as sf                  # Switching to the soundfile module for reading and writing soundfiles\n",
        "import librosa\n",
        "\n",
        "import IPython.display as ipd           # Interactive Python display module, for playing sounds\n",
        "from IPython.display import HTML        # For displaying animations\n",
        "rc('animation', html='jshtml')          # Provides animation controls\n",
        "\n",
        "ClassPath = '/content/drive/My Drive/ECES-434 Sessions/Class 7-2/'"
      ],
      "execution_count": 172,
      "outputs": []
    },
    {
      "cell_type": "code",
      "metadata": {
        "id": "c7sMYwOh7lrE"
      },
      "source": [
        "rc('figure', figsize=(16,4))"
      ],
      "execution_count": 182,
      "outputs": []
    },
    {
      "cell_type": "code",
      "metadata": {
        "id": "QUiMfqMhOWCI"
      },
      "source": [
        "# CHANGE THIS to your Drexel username!!\n",
        "username = 'anonymous'"
      ],
      "execution_count": 4,
      "outputs": []
    },
    {
      "cell_type": "code",
      "metadata": {
        "id": "7f-OzFc_mN4w",
        "colab": {
          "base_uri": "https://localhost:8080/"
        },
        "outputId": "29b0b39f-1569-433b-d57e-b26a5d671686"
      },
      "source": [
        "from google.colab import drive\n",
        "drive.mount('/content/drive')"
      ],
      "execution_count": 5,
      "outputs": [
        {
          "output_type": "stream",
          "text": [
            "Mounted at /content/drive\n"
          ],
          "name": "stdout"
        }
      ]
    },
    {
      "cell_type": "markdown",
      "metadata": {
        "id": "70YbUklCYuue"
      },
      "source": [
        "# Custom plotting functions\n",
        "Because we're always plotting..."
      ]
    },
    {
      "cell_type": "markdown",
      "metadata": {
        "id": "oKE5IroW-PTp"
      },
      "source": [
        "## plotSpectrogram"
      ]
    },
    {
      "cell_type": "code",
      "metadata": {
        "id": "mGnf6L4cq-UI"
      },
      "source": [
        "def plotSpectrogram(sig, fs, win='hann', nseg=512, olap=256, fft_len=512):\n",
        "  \n",
        "  f1, t1, Sxx = signal.spectrogram(sig, fs, window=win, nperseg=nseg, noverlap=olap, nfft=fft_len)\n",
        "  fig = plt.figure(figsize=(16,6))\n",
        "  \n",
        "  plt.pcolormesh(t1, f1, 20*np.log10(np.abs(Sxx)))\n",
        "  plt.ylabel('Frequency (Hz)')\n",
        "  plt.xlabel('Time (sec)')\n",
        "  return plt"
      ],
      "execution_count": 6,
      "outputs": []
    },
    {
      "cell_type": "markdown",
      "metadata": {
        "id": "cDBQiEc8-UFH"
      },
      "source": [
        "## myPlot(): properly formats time domain plot of a signal"
      ]
    },
    {
      "cell_type": "code",
      "metadata": {
        "id": "f8v2wTLmIlZd"
      },
      "source": [
        "def myPlot(sig, fs=44100):\n",
        "  fig = plt.figure(figsize=(16,4))\n",
        "  t = np.arange(len(sig)) / fs\n",
        "  plt.plot(t, sig)\n",
        "  plt.xlabel('Time (sec)')\n",
        "  return fig, plt"
      ],
      "execution_count": 7,
      "outputs": []
    },
    {
      "cell_type": "markdown",
      "metadata": {
        "id": "mILGhvzF-hmU"
      },
      "source": [
        "## myPlotFFT(): properly formats frequency domain plot of a signal"
      ]
    },
    {
      "cell_type": "code",
      "metadata": {
        "id": "xTksRiMEIm3x"
      },
      "source": [
        "def myPlotFFT(sig, n_fft=0, x_lim=22050, fs=44100):\n",
        "  if n_fft==0:                 \n",
        "    n_fft = len(sig)                    # Default to length of input signal\n",
        "  S = np.fft.fft(sig, n_fft)\n",
        "  N = len(S)\n",
        "  f = np.arange(N) * fs / N\n",
        "  fig = plt.figure(figsize=(16,6))\n",
        "  plt.plot(f, 20*np.log10(np.abs(S)))\n",
        "  plt.xlim(0, x_lim)\n",
        "  plt.xlabel('Frequency (Hz)')\n",
        "  plt.ylabel('Magnitude (dB)')\n",
        "  return fig, plt  "
      ],
      "execution_count": 8,
      "outputs": []
    },
    {
      "cell_type": "markdown",
      "metadata": {
        "id": "H_C088pI1RLO"
      },
      "source": [
        "## myPlotFFTPhase"
      ]
    },
    {
      "cell_type": "code",
      "metadata": {
        "id": "utnJOZbi1YQW"
      },
      "source": [
        "def myPlotFFTPhase(sig, n_fft=0, x_lim=22050, fs=44100):\n",
        "  if n_fft==0:                 \n",
        "    n_fft = len(sig)                    # Default to length of input signal\n",
        "  S = np.fft.fft(sig, n_fft)\n",
        "  N = len(S)\n",
        "  f = np.arange(N) * fs / N\n",
        "  fig = plt.figure(figsize=(16,4))\n",
        "  plt.plot(f, np.unwrap(np.angle(S)))\n",
        "  plt.xlim(0, x_lim)\n",
        "  plt.xlabel('Frequency (Hz)')\n",
        "  plt.ylabel('Phase (radians)')\n",
        "  return fig, plt"
      ],
      "execution_count": 9,
      "outputs": []
    },
    {
      "cell_type": "markdown",
      "metadata": {
        "id": "4xLeOGxb-mOr"
      },
      "source": [
        "## Custom FFT animation functions"
      ]
    },
    {
      "cell_type": "code",
      "metadata": {
        "id": "bCcL0uLp-N9T"
      },
      "source": [
        "n_o = 0\n",
        "f_size = 2048\n",
        "n_hop = f_size / 2\n",
        "N_fft = 4096\n",
        "fs = 44100\n",
        "this_f = np.arange(N_fft) * fs / N_fft\n",
        "\n",
        "# First set up the figure, the axis, and the plot element we want to animate\n",
        "def setupAnimFFT(x_lim=(0,20000), y_lim=(-120,100)):\n",
        "  fig = plt.figure(figsize=(14,6))\n",
        "  ax = plt.axes(xlim=x_lim,ylim=y_lim)\n",
        "  plt.close()   # Don't output the final figure separately\n",
        "  line, = ax.plot([], [])\n",
        "  fig.tight_layout()\n",
        "  return fig, line\n",
        "\n",
        "# initialization function: plot the background of each frame\n",
        "def initAnimFFT():\n",
        "    line.set_data([], [])\n",
        "    return (line,)\n",
        "\n",
        "# animation function. This is called sequentially  \n",
        "def animateFFT(i, sig):\n",
        "    n1 = int(n_o + n_hop*i)\n",
        "    n2 = int(n_o + n_hop*i + f_size)\n",
        "\n",
        "    x_i = sig[n1:n2]\n",
        "    X_i = np.fft.fft(x_i * np.hanning(len(x_i)), n=N_fft)\n",
        "    X_mag = 20*np.log(np.abs(X_i))\n",
        "\n",
        "    line.set_data(this_f, X_mag)\n",
        "    return (line,)  \n",
        "\n",
        "# Usage:\n",
        "# fig, line = setupAnimFFT()\n",
        "# anim = animation.FuncAnimation(fig, animateFFT, init_func=initAnimFFT, frames=120, fargs=(signal,), interval=1000/30, blit=True)\n",
        "# anim"
      ],
      "execution_count": 10,
      "outputs": []
    },
    {
      "cell_type": "markdown",
      "metadata": {
        "id": "e7-jlroJMv4g"
      },
      "source": [
        "# Continuing with same sound file...\n",
        "Same as last class: *Need You Tonight* by INXS (1987)"
      ]
    },
    {
      "cell_type": "code",
      "metadata": {
        "id": "ixLydDz6Nb89"
      },
      "source": [
        "inxs_s, fs48 = sf.read(ClassPath + 'INXS-48kHz.wav')\n",
        "inxs = np.mean(inxs_s,axis=1)\n",
        "print(fs48)\n",
        "ipd.Audio(inxs,rate=fs48)"
      ],
      "execution_count": null,
      "outputs": []
    },
    {
      "cell_type": "markdown",
      "metadata": {
        "id": "2WUQC2sjcSUt"
      },
      "source": [
        "# Build a custom \"filter\" for STFT"
      ]
    },
    {
      "cell_type": "code",
      "metadata": {
        "colab": {
          "base_uri": "https://localhost:8080/"
        },
        "id": "9-KxGG2Vz9Fv",
        "outputId": "bee54241-5a09-4c8e-ab0c-dd72dec0b564"
      },
      "source": [
        "nFFT = 2048\n",
        "nHop = 512\n",
        "\n",
        "INXS = librosa.stft(inxs,n_fft=nFFT, hop_length=nHop) \n",
        "nBins, nFrames = np.shape(INXS)\n",
        "(nBins, nFrames)"
      ],
      "execution_count": 176,
      "outputs": [
        {
          "output_type": "execute_result",
          "data": {
            "text/plain": [
              "(1025, 2106)"
            ]
          },
          "metadata": {
            "tags": []
          },
          "execution_count": 176
        }
      ]
    },
    {
      "cell_type": "code",
      "metadata": {
        "id": "7lLYKdSFLWyN"
      },
      "source": [
        "# Create frequency and time axes\n",
        "f1 = np.arange(nBins)/(nFFT/2) * (fs48/2)\n",
        "t1 = np.arange(nFrames) * nHop / fs48\n",
        "\n",
        "plt.figure(figsize=(16,6))\n",
        "plt.pcolormesh(t1, f1, 20*np.log10(np.abs(INXS)))\n",
        "plt.xlabel('Time (sec)')\n",
        "plt.ylabel('Frequency (Hz)')\n",
        "\n",
        "# Adjust axis limits\n",
        "plt.ylim(0,2000)\n",
        "plt.xlim(0,5)"
      ],
      "execution_count": null,
      "outputs": []
    },
    {
      "cell_type": "markdown",
      "metadata": {
        "id": "r8f00a7vdlOL"
      },
      "source": [
        "## Specify your filter range"
      ]
    },
    {
      "cell_type": "code",
      "metadata": {
        "id": "-cECi8o4IoSx"
      },
      "source": [
        "plt.plot(f1)\n",
        "plt.ylim(250,1000)\n",
        "plt.xlim(10,44)\n",
        "f1[11:43]"
      ],
      "execution_count": null,
      "outputs": []
    },
    {
      "cell_type": "markdown",
      "metadata": {
        "id": "eelbHm-Md-tY"
      },
      "source": [
        "## Design an unevenly weighted triangle"
      ]
    },
    {
      "cell_type": "code",
      "metadata": {
        "id": "5OfwARikKBPK"
      },
      "source": [
        "tri_f = np.zeros(nBins)\n",
        "tri_f[11:22] = (f1[11:22] - 250)/250\n",
        "tri_f[22:43] = 1 - (f1[22:43]- 500)/500\n",
        "\n",
        "plt.plot(f1, tri_f)\n",
        "plt.xlim(0,4000)\n",
        "\n",
        "# Save the figure when ready\n",
        "plt.savefig(ClassPath + 'tri-filter/' + username + '.png')"
      ],
      "execution_count": null,
      "outputs": []
    },
    {
      "cell_type": "code",
      "metadata": {
        "id": "Nu7U4C5YMeqm",
        "colab": {
          "base_uri": "https://localhost:8080/"
        },
        "outputId": "9d05c18a-bffe-4802-f7fd-cc185f15b471"
      },
      "source": [
        "# Need this in order to tile it for the full STFT matrix\n",
        "tri_f.shape = (nBins,1)\n",
        "\n",
        "H = np.tile(tri_f, (1,nFrames)) \n",
        "np.shape(H)"
      ],
      "execution_count": 189,
      "outputs": [
        {
          "output_type": "execute_result",
          "data": {
            "text/plain": [
              "(1025, 2106)"
            ]
          },
          "metadata": {
            "tags": []
          },
          "execution_count": 189
        }
      ]
    },
    {
      "cell_type": "code",
      "metadata": {
        "id": "VJK1aqYSN8-S"
      },
      "source": [
        "plt.pcolormesh(t1,f1, H)\n",
        "plt.ylim(0,2000)"
      ],
      "execution_count": null,
      "outputs": []
    },
    {
      "cell_type": "markdown",
      "metadata": {
        "id": "_YwXnVr7fTiG"
      },
      "source": [
        "## Filter (multiply spectrogram) with the uneven triangle"
      ]
    },
    {
      "cell_type": "code",
      "metadata": {
        "id": "sqPuSjyhMxLh"
      },
      "source": [
        "INXS_H = INXS * H"
      ],
      "execution_count": 191,
      "outputs": []
    },
    {
      "cell_type": "code",
      "metadata": {
        "id": "804MoqmjONK1"
      },
      "source": [
        "fig = plt.figure(figsize=(16,6))\n",
        "plt.pcolormesh(t1, f1, 20*np.log10(np.abs(INXS_H)))\n",
        "plt.ylabel('Frequency (Hz)')\n",
        "plt.xlabel('Time (sec)')\n",
        "\n",
        "# Adjust this to show your filter range\n",
        "plt.ylim(0,2000)\n",
        "\n",
        "# When ready, save your figure\n",
        "# fig.savefig(ClassPath + 'filtered-spec/' + username + '.png')"
      ],
      "execution_count": null,
      "outputs": []
    },
    {
      "cell_type": "markdown",
      "metadata": {
        "id": "AO2hchFkfwLh"
      },
      "source": [
        "## Use Librosa *ISTFT* to resynthesize sound"
      ]
    },
    {
      "cell_type": "code",
      "metadata": {
        "id": "fYB2g0uOM-h-"
      },
      "source": [
        "inxs_h = librosa.istft(INXS_H)\n",
        "ipd.Audio(inxs_h, rate=fs48)\n",
        "\n",
        "# When you're ready, save the sound to a wav file\n",
        "# sf.write(ClassPath + 'filtered-sound/' + username + '-filtered.wav', inxs_h, fs48)"
      ],
      "execution_count": null,
      "outputs": []
    },
    {
      "cell_type": "markdown",
      "metadata": {
        "id": "zDWY02fCh6pw"
      },
      "source": [
        "## Identify some frequency peaks in your filtered band"
      ]
    },
    {
      "cell_type": "code",
      "metadata": {
        "id": "_saogwHx-Dwe"
      },
      "source": [
        "INXS_Hp = np.zeros((1025,2106) )\n",
        "\n",
        "nPeaks = 1\n",
        "\n",
        "for n in range(nFrames):\n",
        "  sort_idx = np.argsort( np.abs(INXS_H[:,n]) )\n",
        "  peak_idxs = sort_idx[-nPeaks:len(sort_idx)]\n",
        "  INXS_Hp[peak_idxs, n] = INXS_H[peak_idxs, n]\n",
        "\n",
        "plt.pcolormesh(t1, f1, 20*np.log10(np.abs(INXS_Hp)))\n",
        "plt.ylabel('Frequency (Hz)')\n",
        "plt.xlabel('Time (sec)')\n",
        "plt.ylim(0,2500)"
      ],
      "execution_count": null,
      "outputs": []
    },
    {
      "cell_type": "code",
      "metadata": {
        "id": "IdPWWBrvY0hV"
      },
      "source": [
        "inxs_hp = librosa.istft(INXS_Hp)\n",
        "plt.plot(inxs_hp)\n",
        "ipd.Audio(inxs_hp, rate=fs48)\n",
        "\n",
        "# my_inxs_maxf = ...\n",
        "# sf.write(ClassPath + 'peak-sound/' + username + '-%d.wav' % nPeaks, inxs_hp, fs48)"
      ],
      "execution_count": null,
      "outputs": []
    },
    {
      "cell_type": "markdown",
      "metadata": {
        "id": "48yXAaD3iQyg"
      },
      "source": [
        "# Compute the per frame energy in our filtered band"
      ]
    },
    {
      "cell_type": "code",
      "metadata": {
        "id": "XeZWn8UkG5bR"
      },
      "source": [
        "hn = np.sum(np.abs(INXS_H - INXS_Hp), axis=0) / 1000\n",
        "np.shape(hn)\n",
        "plt.plot(hn)"
      ],
      "execution_count": null,
      "outputs": []
    },
    {
      "cell_type": "markdown",
      "metadata": {
        "id": "flhdaJ9GjlVl"
      },
      "source": [
        "## Generate and filter white noise"
      ]
    },
    {
      "cell_type": "code",
      "metadata": {
        "id": "y5ZC6xINT_yH"
      },
      "source": [
        "noiz = 2*np.random.rand(len(inxs)) - 1"
      ],
      "execution_count": 74,
      "outputs": []
    },
    {
      "cell_type": "code",
      "metadata": {
        "id": "bnF599KWUYYi"
      },
      "source": [
        "NOIZ = librosa.stft(noiz)\n",
        "\n",
        "plt.pcolormesh(t1, f1, 20*np.log10(np.abs(NOIZ)))\n",
        "plt.ylabel('Frequency (Hz)')\n",
        "plt.xlabel('Time (sec)')"
      ],
      "execution_count": null,
      "outputs": []
    },
    {
      "cell_type": "markdown",
      "metadata": {
        "id": "nLxTYrtlRQXt"
      },
      "source": [
        "## Shape (multiply) the noise by the energy in our filter band"
      ]
    },
    {
      "cell_type": "code",
      "metadata": {
        "id": "2l1Lr3xQF066"
      },
      "source": [
        "hn.shape = (1,2106)\n",
        "HN = np.tile(hn, (1025,1))\n",
        "\n",
        "H_env = H * HN\n",
        "plt.pcolormesh(t1, f1, H_env)\n",
        "plt.ylabel('Frequency (Hz)')\n",
        "plt.xlabel('Time (sec)')\n",
        "\n",
        "plt.ylim(0,5000)\n"
      ],
      "execution_count": null,
      "outputs": []
    },
    {
      "cell_type": "code",
      "metadata": {
        "id": "7X5Jv98-U86M"
      },
      "source": [
        "INXS_HN_env = NOIZ * H_env\n",
        "plt.pcolormesh(t1, f1, 20*np.log10(np.abs(INXS_HN_env)))\n",
        "plt.ylabel('Frequency (Hz)')\n",
        "plt.xlabel('Time (sec)')\n",
        "\n",
        "# Adjust for your filter\n",
        "plt.ylim(0,5000)\n",
        "\n",
        "# Save plot, when you're ready\n",
        "# plt.savefig(ClassPath + 'noise-filter/' + username + '.png')"
      ],
      "execution_count": null,
      "outputs": []
    },
    {
      "cell_type": "code",
      "metadata": {
        "id": "1xxw6NqVVrZQ"
      },
      "source": [
        "inxs_noiz_env = librosa.istft(INXS_HN_env)\n",
        "plt.plot(inxs_noiz_env)\n",
        "ipd.Audio(inxs_noiz_env,rate=fs48)\n",
        "\n",
        "# When you're ready, save the sound to a wav file\n",
        "# sf.write(ClassPath + 'noise-sound/' + username + '.wav', inxs_noiz_env, fs48)"
      ],
      "execution_count": null,
      "outputs": []
    },
    {
      "cell_type": "markdown",
      "metadata": {
        "id": "wV12wR8vXnHN"
      },
      "source": [
        "# Add the shaped noise plus max frequency peak in the filtered band"
      ]
    },
    {
      "cell_type": "code",
      "metadata": {
        "id": "konHyupEZg7w"
      },
      "source": [
        "inxs_peaks_plus_noise = inxs_noiz_env + 2*inxs_hp\n",
        "plt.plot(inxs_peaks_plus_noise)\n",
        "ipd.Audio(inxs_peaks_plus_noise, rate=fs48)\n",
        "\n",
        "# When you're ready, save the sound to a wav file\n",
        "# sf.write(ClassPath + 'noise-sound/' + username + '-peaks+noise.wav', inxs_peaks_plus_noise, fs48)"
      ],
      "execution_count": null,
      "outputs": []
    },
    {
      "cell_type": "markdown",
      "metadata": {
        "id": "nvaLbBJbUORl"
      },
      "source": [
        "# Computing Compression"
      ]
    },
    {
      "cell_type": "code",
      "metadata": {
        "id": "jE0O9A2FUVpE",
        "colab": {
          "base_uri": "https://localhost:8080/"
        },
        "outputId": "97e12df5-d49d-4834-b0ef-f761e9795826"
      },
      "source": [
        "fs = 44100\n",
        "bits = 16\n",
        "channels = 2\n",
        "\n",
        "bitrate = fs * bits * channels\n",
        "bitrate"
      ],
      "execution_count": null,
      "outputs": [
        {
          "output_type": "execute_result",
          "data": {
            "text/plain": [
              "1411200"
            ]
          },
          "metadata": {
            "tags": []
          },
          "execution_count": 10
        }
      ]
    },
    {
      "cell_type": "markdown",
      "metadata": {
        "id": "301g6WkMSN6V"
      },
      "source": [
        "## Fourier Transform: Is it a bad deal?"
      ]
    },
    {
      "cell_type": "code",
      "metadata": {
        "colab": {
          "base_uri": "https://localhost:8080/"
        },
        "id": "RPxGtjnWXjX_",
        "outputId": "a4d21556-36f2-46fe-f9ec-5a46f58f2eb6"
      },
      "source": [
        "nSamples = 1024\n",
        "nBits = 16\n",
        "\n",
        "nSamples * nBits"
      ],
      "execution_count": 129,
      "outputs": [
        {
          "output_type": "execute_result",
          "data": {
            "text/plain": [
              "16384"
            ]
          },
          "metadata": {
            "tags": []
          },
          "execution_count": 129
        }
      ]
    },
    {
      "cell_type": "code",
      "metadata": {
        "colab": {
          "base_uri": "https://localhost:8080/"
        },
        "id": "omSLQqg_YIPm",
        "outputId": "478c0d17-4b8f-4882-c43f-8778930b75a4"
      },
      "source": [
        "type(inxs[0])"
      ],
      "execution_count": 130,
      "outputs": [
        {
          "output_type": "execute_result",
          "data": {
            "text/plain": [
              "numpy.float64"
            ]
          },
          "metadata": {
            "tags": []
          },
          "execution_count": 130
        }
      ]
    },
    {
      "cell_type": "code",
      "metadata": {
        "colab": {
          "base_uri": "https://localhost:8080/"
        },
        "id": "f6HUZjO4YNRx",
        "outputId": "bfe2dc78-f6f3-4f54-a985-80fbbe0b1e8b"
      },
      "source": [
        "type(INXS[0,0])"
      ],
      "execution_count": 131,
      "outputs": [
        {
          "output_type": "execute_result",
          "data": {
            "text/plain": [
              "numpy.complex128"
            ]
          },
          "metadata": {
            "tags": []
          },
          "execution_count": 131
        }
      ]
    },
    {
      "cell_type": "code",
      "metadata": {
        "id": "E2cpqTxtXtgo"
      },
      "source": [
        "nFFT = 1024\n",
        "nComplex = 2\n",
        "nBits = 16"
      ],
      "execution_count": null,
      "outputs": []
    },
    {
      "cell_type": "code",
      "metadata": {
        "id": "-B85LlbVdUKd"
      },
      "source": [
        "import pickle"
      ],
      "execution_count": 153,
      "outputs": []
    },
    {
      "cell_type": "code",
      "metadata": {
        "colab": {
          "base_uri": "https://localhost:8080/"
        },
        "id": "MZmZaBmodq3I",
        "outputId": "aed537e5-80a5-4796-821b-650f954249e3"
      },
      "source": [
        "# Size in bytes\n",
        "len(inxs)*2"
      ],
      "execution_count": 169,
      "outputs": [
        {
          "output_type": "execute_result",
          "data": {
            "text/plain": [
              "2156114"
            ]
          },
          "metadata": {
            "tags": []
          },
          "execution_count": 169
        }
      ]
    },
    {
      "cell_type": "code",
      "metadata": {
        "colab": {
          "base_uri": "https://localhost:8080/"
        },
        "id": "kCYn5YwfeQ1R",
        "outputId": "9a3e8e7f-4f91-4c48-d579-40b453d6a9fc"
      },
      "source": [
        "type(inxs[0])"
      ],
      "execution_count": 168,
      "outputs": [
        {
          "output_type": "execute_result",
          "data": {
            "text/plain": [
              "numpy.float64"
            ]
          },
          "metadata": {
            "tags": []
          },
          "execution_count": 168
        }
      ]
    },
    {
      "cell_type": "code",
      "metadata": {
        "colab": {
          "base_uri": "https://localhost:8080/"
        },
        "id": "IgEi_c4Bdgar",
        "outputId": "c112c11b-3f4f-46b8-df4c-17a305032248"
      },
      "source": [
        "P = pickle.dumps(np.int16(inxs))\n",
        "len(P)"
      ],
      "execution_count": 170,
      "outputs": [
        {
          "output_type": "execute_result",
          "data": {
            "text/plain": [
              "2156273"
            ]
          },
          "metadata": {
            "tags": []
          },
          "execution_count": 170
        }
      ]
    },
    {
      "cell_type": "code",
      "metadata": {
        "id": "ES772DdXae9s"
      },
      "source": [
        "INXS_64 = np.complex64(INXS)\n",
        "inxs_64 = librosa.istft(INXS_64)\n",
        "ipd.Audio(inxs_64, rate=fs48)"
      ],
      "execution_count": null,
      "outputs": []
    },
    {
      "cell_type": "code",
      "metadata": {
        "id": "0gAhKMekUa9Q"
      },
      "source": [
        "INXS_q8 = np.round(INXS*128/350)\n",
        "plt.plot(np.max(np.imag(INXS_q8), axis=0))\n",
        "INXS_q8[:10]"
      ],
      "execution_count": null,
      "outputs": []
    },
    {
      "cell_type": "code",
      "metadata": {
        "id": "e5JBxQfbWRt0"
      },
      "source": [
        "INXS[100:110]"
      ],
      "execution_count": null,
      "outputs": []
    },
    {
      "cell_type": "code",
      "metadata": {
        "id": "AgxM1h8QXPXX"
      },
      "source": [
        "inxs_q8 = librosa.istft(INXS_q8)\n",
        "ipd.Audio(inxs_q8, rate=fs48)"
      ],
      "execution_count": null,
      "outputs": []
    }
  ]
}