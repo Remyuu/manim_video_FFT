{
  "nbformat": 4,
  "nbformat_minor": 0,
  "metadata": {
    "colab": {
      "name": "Class 9.2 (2021-03-10).ipynb",
      "provenance": [],
      "collapsed_sections": [],
      "toc_visible": true,
      "include_colab_link": true
    },
    "kernelspec": {
      "display_name": "Python 3",
      "name": "python3"
    }
  },
  "cells": [
    {
      "cell_type": "markdown",
      "metadata": {
        "id": "view-in-github",
        "colab_type": "text"
      },
      "source": [
        "<a href=\"https://colab.research.google.com/github/youngmoo/ECES-434/blob/main/Class%209.2%20(2021-03-10).ipynb\" target=\"_parent\"><img src=\"https://colab.research.google.com/assets/colab-badge.svg\" alt=\"Open In Colab\"/></a>"
      ]
    },
    {
      "cell_type": "markdown",
      "metadata": {
        "id": "qHxN8R_ItyXz"
      },
      "source": [
        "# **ECES-434: Class 9.2 (2021-03-10)**\n",
        "Go Dragons!! 🏀🔥☄️\n",
        "\n"
      ]
    },
    {
      "cell_type": "code",
      "metadata": {
        "id": "eDaoDgqCs1mp"
      },
      "source": [
        "import numpy as np                      # NumPy, abbreviated as np\n",
        "import matplotlib.pyplot as plt         # MatplotLib PyPlot module, abbreviated as plt\n",
        "from matplotlib import animation, rc    # MatplotLib animation module\n",
        "%matplotlib inline\n",
        "from scipy import signal                # SciPy's signal module, for DSP functions\n",
        "import soundfile as sf                  # Switching to the soundfile module for reading and writing soundfiles\n",
        "import librosa\n",
        "\n",
        "import IPython.display as ipd           # Interactive Python display module, for playing sounds\n",
        "from IPython.display import HTML        # For displaying animations\n",
        "rc('animation', html='jshtml')          # Provides animation controls\n",
        "\n",
        "from IPython.display import Image\n",
        "\n",
        "ClassPath = '/content/drive/My Drive/ECES-434 Sessions/Class 9-2/'\n"
      ],
      "execution_count": null,
      "outputs": []
    },
    {
      "cell_type": "code",
      "metadata": {
        "id": "c7sMYwOh7lrE"
      },
      "source": [
        "rc('figure', figsize=(16,4))"
      ],
      "execution_count": null,
      "outputs": []
    },
    {
      "cell_type": "code",
      "metadata": {
        "id": "QUiMfqMhOWCI"
      },
      "source": [
        "# CHANGE THIS to your Drexel username!!\n",
        "username = 'anonymous'"
      ],
      "execution_count": null,
      "outputs": []
    },
    {
      "cell_type": "code",
      "metadata": {
        "id": "7f-OzFc_mN4w"
      },
      "source": [
        "from google.colab import drive\n",
        "drive.mount('/content/drive')"
      ],
      "execution_count": null,
      "outputs": []
    },
    {
      "cell_type": "code",
      "metadata": {
        "id": "Ulyu6nA2nOIq"
      },
      "source": [
        "Image(ClassPath + 'DrexelCAA.jpeg')"
      ],
      "execution_count": null,
      "outputs": []
    },
    {
      "cell_type": "markdown",
      "metadata": {
        "id": "OU760fFGoZKq"
      },
      "source": [
        "# **Thank You**\n",
        "The course this term has been an experiment.\n",
        "* We introduced the tools and methods used by some of the largest services in the world: Spotify, Pandora, etc.\n",
        "\n",
        "Our focus this term:\n",
        "* Non-real-time analysis and synthesis\n",
        "* Starting point for AI systems for music understanding (my research area)\n"
      ]
    },
    {
      "cell_type": "markdown",
      "metadata": {
        "id": "9woEIQTopRd9"
      },
      "source": [
        "# **Videos and Colab Notebooks**\n",
        "- Hope you liked the videos. I wish I could’ve done more of them (very time consuming to create)\n",
        "- I’ll keep adding them to the YouTube playlist (or follow me for updates):\n",
        "  - [ECES-434 Playlist](https://youtube.com/playlist?list=PL_QS1A2ZqaG7p50cd0AgLeG9Q3TN64vZJ)\n",
        "- Same with Colab notebooks:\n",
        "  - [ECES-434 GitHub repo](http://github.com/youngmoo/ECES-434)"
      ]
    },
    {
      "cell_type": "markdown",
      "metadata": {
        "id": "Jok3Fgmko9vk"
      },
      "source": [
        "# **Some things we didn't get to...**\n",
        "Basic AI / machine learning\n",
        "- Event detection / recognition\n",
        "\n",
        "IIR filter design: Useful for real-time (low-latency), low power systems\n",
        "- Noise cancelling headphones, watches\n",
        "- Arduinos\n",
        "\n",
        "Linearity & time-invariance: Foundational importance\n",
        "- Didn’t explicitly connect in our projects, but everything we do relies on LTI\n"
      ]
    },
    {
      "cell_type": "markdown",
      "metadata": {
        "id": "YYohKnE2nXpG"
      },
      "source": [
        "# **Course evaluation (optional)**\n",
        "Please take some time to do this (completely anonymous) survey.\n",
        "* I do read through all the feedback\n",
        "* Questions are pretty generic (sorry, I have no control over that).\n",
        "* Teamwork / group projects: No response\n",
        "* Textbook: Videos / Colab notebooks\n",
        "\n",
        "[Drexel Course Evaluation System (AEFIS)](http://drexel.goaefis.net/)"
      ]
    },
    {
      "cell_type": "markdown",
      "metadata": {
        "id": "03tFfRIWqbOy"
      },
      "source": [
        "# **Project Listening Evaluation (REQUIRED)**\n",
        "\n",
        "* [Google Survey Form](https://forms.gle/W8euvCdYpjkjpyAMA)\n"
      ]
    }
  ]
}