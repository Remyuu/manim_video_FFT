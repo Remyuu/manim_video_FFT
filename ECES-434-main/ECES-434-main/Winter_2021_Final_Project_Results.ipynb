{
  "cells": [
    {
      "cell_type": "markdown",
      "metadata": {
        "colab_type": "text",
        "id": "view-in-github"
      },
      "source": [
        "<a href=\"https://colab.research.google.com/github/youngmoo/ECES-434/blob/main/Winter_2021_Final_Project_Results.ipynb\" target=\"_parent\"><img src=\"https://colab.research.google.com/assets/colab-badge.svg\" alt=\"Open In Colab\"/></a>"
      ]
    },
    {
      "cell_type": "markdown",
      "metadata": {
        "id": "u64OQvFR6V9O"
      },
      "source": [
        "# **ECES-434 Winter 2021 Final Project Results**\n",
        "Audio Codec Project Competition"
      ]
    },
    {
      "cell_type": "markdown",
      "metadata": {
        "id": "a-ffZNIr6j3Y"
      },
      "source": [
        "# **Final Project Grading**\n",
        "\n",
        "*   25 points for code / implementation\n",
        "*   15 points for project writeup\n",
        "  * Abstract (short summary of your project)\n",
        "  * Help us understand your implementation\n",
        "      * Encoder: how does it work and what does it output?\n",
        "      * Decoder: how does it turn the coded data back into sound?\n",
        "  * Reflection\n",
        "      * How did you perform in the various categories, compared to the overall class?\n",
        "      * What could you do better / differently?\n",
        "  * Optional Extra Credit\n",
        "      * Submit an improved implementation\n",
        "\n",
        "  \n",
        "\n"
      ]
    },
    {
      "cell_type": "markdown",
      "metadata": {
        "id": "oy4F3UgO77pF"
      },
      "source": [
        "# **Project writeup due dates**\n",
        "\n",
        "* Normal submission\n",
        "  * Friday, March 19 (11:59pm)\n",
        "* Early grading (for P-NP deadline):\n",
        "  * Wednesday, March 17 (11:59pm)"
      ]
    },
    {
      "cell_type": "markdown",
      "metadata": {
        "id": "ybMPan3sZDDh"
      },
      "source": [
        "### Mount drive, import libraries"
      ]
    },
    {
      "cell_type": "code",
      "execution_count": null,
      "metadata": {
        "id": "FZeNUiPVWSrU"
      },
      "outputs": [],
      "source": [
        "from google.colab import drive\n",
        "drive.mount('/content/drive')"
      ]
    },
    {
      "cell_type": "code",
      "execution_count": null,
      "metadata": {
        "id": "IT9xhWY3WgFX"
      },
      "outputs": [],
      "source": [
        "import numpy as np\n",
        "import pandas as pd\n",
        "import matplotlib.pyplot as plt\n",
        "import scipy.stats as stats\n",
        "import soundfile as sf\n",
        "import IPython.display as ipd\n",
        "\n",
        "from matplotlib import rc\n",
        "rc('figure', figsize=(16,4))"
      ]
    },
    {
      "cell_type": "code",
      "execution_count": null,
      "metadata": {
        "id": "N4hhrP_jWs0d"
      },
      "outputs": [],
      "source": [
        "path = \"/content/drive/MyDrive/ECES-434 Sessions/Final project results/\"\n",
        "input_file = \"histogram_data.csv\""
      ]
    },
    {
      "cell_type": "markdown",
      "metadata": {
        "id": "-2yhd9SWAtz-"
      },
      "source": [
        "# **Category Histograms**"
      ]
    },
    {
      "cell_type": "markdown",
      "metadata": {
        "id": "8iBMo0w1ZJCb"
      },
      "source": [
        "### Load spreadsheet data as pd.DataFrame"
      ]
    },
    {
      "cell_type": "code",
      "execution_count": null,
      "metadata": {
        "id": "AlOvA2h5YGqf"
      },
      "outputs": [],
      "source": [
        "df = pd.read_csv(path + input_file)"
      ]
    },
    {
      "cell_type": "markdown",
      "metadata": {
        "id": "-pJ-y_SBfDFD"
      },
      "source": [
        "### Plotting functions"
      ]
    },
    {
      "cell_type": "code",
      "execution_count": null,
      "metadata": {
        "id": "Nx5dr8wsfV-3"
      },
      "outputs": [],
      "source": [
        "def plot_histogram(data, bins=12, title=\"Histogram\"):\n",
        "  # plt.figure(figsize=(10,5))\n",
        "  plt.hist(data, bins=bins, density=False, color=\"c\", alpha=1.0)\n",
        "  plt.title(title, fontdict = {'family':'normal', 'weight':'bold', 'size': 22});"
      ]
    },
    {
      "cell_type": "code",
      "execution_count": null,
      "metadata": {
        "id": "LgwvcdNrjyDm"
      },
      "outputs": [],
      "source": [
        "def plot_gaussian(data):\n",
        "  mean = np.mean(data)\n",
        "  std = np.std(data)\n",
        "  x_axis = np.linspace(mean - 3*std, p_mean + 3*std, 100)\n",
        "  gauss =  stats.norm.pdf(x_axis, mean, std)\n",
        "  plt.plot(x, gauss, color=\"k\", alpha=0.4)"
      ]
    },
    {
      "cell_type": "markdown",
      "metadata": {
        "id": "BJ0xn--gZQVO"
      },
      "source": [
        "## Perception histogram"
      ]
    },
    {
      "cell_type": "code",
      "execution_count": null,
      "metadata": {
        "id": "SOs1bRncYSm-"
      },
      "outputs": [],
      "source": [
        "p = df[\"Avg Perception\"]\n",
        "plot_histogram(p, title = \"Perception\")"
      ]
    },
    {
      "cell_type": "markdown",
      "metadata": {
        "id": "QCq6LaPWavkV"
      },
      "source": [
        "## Compression ratio histogram"
      ]
    },
    {
      "cell_type": "code",
      "execution_count": null,
      "metadata": {
        "id": "ZaSe9jBCavRl"
      },
      "outputs": [],
      "source": [
        "cr = df[\"Avg Compression Ratio\"]\n",
        "plot_histogram(cr, title=\"Compression Ratio\")"
      ]
    },
    {
      "cell_type": "markdown",
      "metadata": {
        "id": "Ld-x8A-2bI_q"
      },
      "source": [
        "## SNR histogram"
      ]
    },
    {
      "cell_type": "code",
      "execution_count": null,
      "metadata": {
        "id": "laxBoLmjaYyA"
      },
      "outputs": [],
      "source": [
        "snr = df[\"Avg Signal to Noise Ratio\"]\n",
        "plot_histogram(snr, title=\"Signal to Noise Ratio (dB)\")"
      ]
    },
    {
      "cell_type": "markdown",
      "metadata": {
        "id": "oe92YNKFbp0q"
      },
      "source": [
        "## Runtime histogram"
      ]
    },
    {
      "cell_type": "code",
      "execution_count": null,
      "metadata": {
        "id": "Jwy7TfpmbTLe"
      },
      "outputs": [],
      "source": [
        "rt = df[\"Avg Runtime\"]\n",
        "plot_histogram(rt, title=\"Runtime (seconds)\")"
      ]
    },
    {
      "cell_type": "markdown",
      "metadata": {
        "id": "xbCYD8aLU3yn"
      },
      "source": [
        "## Subplots of all histograms"
      ]
    },
    {
      "cell_type": "code",
      "execution_count": null,
      "metadata": {
        "id": "BKj6ekb9T7ul"
      },
      "outputs": [],
      "source": [
        "plt.figure(figsize=(20,12))\n",
        "\n",
        "plt.subplot(221)\n",
        "plot_histogram(p, title = \"Perception Survey Score\")\n",
        "\n",
        "plt.subplot(222)\n",
        "plot_histogram(cr, title=\"Compression Ratio\")\n",
        "\n",
        "plt.subplot(223)\n",
        "plot_histogram(snr, title = \"Signal to Noise Ratio\")\n",
        "\n",
        "plt.subplot(224)\n",
        "plot_histogram(rt, title = \"Runtime (Seconds)\")"
      ]
    },
    {
      "cell_type": "markdown",
      "metadata": {
        "id": "LcNPlVhnBj-L"
      },
      "source": [
        "# **Winners**"
      ]
    },
    {
      "cell_type": "markdown",
      "metadata": {
        "id": "DTHWAGsJB1WE"
      },
      "source": [
        "## Fastest Runtime\n",
        "* 0.251 seconds"
      ]
    },
    {
      "cell_type": "code",
      "execution_count": null,
      "metadata": {
        "id": "bw24iL2zWSSA"
      },
      "outputs": [],
      "source": [
        "runtime, fs = sf.read(path + 'Runtime-1.wav')\n",
        "ipd.Audio(runtime,rate=fs)"
      ]
    },
    {
      "cell_type": "markdown",
      "metadata": {
        "id": "ESfghAsbDkYI"
      },
      "source": [
        "## Best Signal to Noise Ratio\n",
        "With compression\n",
        "* 12.25 dB"
      ]
    },
    {
      "cell_type": "code",
      "execution_count": null,
      "metadata": {
        "id": "aDf0SbvKDqkX"
      },
      "outputs": [],
      "source": [
        "snr, fs = sf.read(path + 'SNR-1.wav')\n",
        "ipd.Audio(snr,rate=fs)"
      ]
    },
    {
      "cell_type": "markdown",
      "metadata": {
        "id": "Wg-o9W_oDwCQ"
      },
      "source": [
        "## Highest Compression Ratios\n",
        "With recognizable audio\n",
        "* 6.39:1\n",
        "* 8.1:1"
      ]
    },
    {
      "cell_type": "code",
      "execution_count": null,
      "metadata": {
        "id": "EEmz383wDvHS"
      },
      "outputs": [],
      "source": [
        "compression2, fs = sf.read(path + 'Compression-2.wav')\n",
        "ipd.Audio(compression2,rate=fs)"
      ]
    },
    {
      "cell_type": "code",
      "execution_count": null,
      "metadata": {
        "id": "qTGGrJMGD7Cj"
      },
      "outputs": [],
      "source": [
        "compression1, fs = sf.read(path + 'Compression-1.wav')\n",
        "ipd.Audio(compression1,rate=fs)"
      ]
    },
    {
      "cell_type": "markdown",
      "metadata": {
        "id": "C6VsLizmED4a"
      },
      "source": [
        "# Highest Perception Scores\n",
        "With some compression\n",
        "* 6.8\n",
        "* 7.75\n"
      ]
    },
    {
      "cell_type": "code",
      "execution_count": null,
      "metadata": {
        "id": "qrY31VRTEKU-"
      },
      "outputs": [],
      "source": [
        "perception2, fs = sf.read(path + 'Perception-2.wav')\n",
        "ipd.Audio(perception2,rate=fs)"
      ]
    },
    {
      "cell_type": "code",
      "execution_count": null,
      "metadata": {
        "id": "tI_H5lgFENaA"
      },
      "outputs": [],
      "source": [
        "perception1, fs = sf.read(path + 'Perception-1.wav')\n",
        "ipd.Audio(perception1,rate=fs)"
      ]
    },
    {
      "cell_type": "markdown",
      "metadata": {
        "id": "PLPoLVgMEllF"
      },
      "source": [
        "# Best Overall Codecs: Winners\n",
        "Third place\n",
        "* Runtime: 7\n",
        "* SNR: 19\n",
        "* Compression: 5\n",
        "* Perception: 19\n"
      ]
    },
    {
      "cell_type": "code",
      "execution_count": null,
      "metadata": {
        "id": "r00N2tI6FYNl"
      },
      "outputs": [],
      "source": [
        "overall3, fs = sf.read(path + 'Overall-3.wav')\n",
        "ipd.Audio(overall3,rate=fs)"
      ]
    },
    {
      "cell_type": "markdown",
      "metadata": {
        "id": "BErzMsfQE-vS"
      },
      "source": [
        "Second place\n",
        "* Runtime: 12\n",
        "* SNR: 11\n",
        "* Compression: 10\n",
        "* Perception: 5"
      ]
    },
    {
      "cell_type": "code",
      "execution_count": null,
      "metadata": {
        "id": "ptUQ5iJFFG77"
      },
      "outputs": [],
      "source": [
        "overall2, fs = sf.read(path + 'Overall-2.wav')\n",
        "ipd.Audio(overall2,rate=fs)"
      ]
    },
    {
      "cell_type": "markdown",
      "metadata": {
        "id": "ujYAUHW2FHoz"
      },
      "source": [
        "First place\n",
        "* Runtime: 18\n",
        "* SNR: 6\n",
        "* Compression: 7\n",
        "* Perception: 11"
      ]
    },
    {
      "cell_type": "code",
      "execution_count": null,
      "metadata": {
        "id": "jS5XD1NGFNgC"
      },
      "outputs": [],
      "source": [
        "overall1, fs = sf.read(path + 'Overall-1.wav')\n",
        "ipd.Audio(overall1,rate=fs)"
      ]
    }
  ],
  "metadata": {
    "colab": {
      "collapsed_sections": [],
      "include_colab_link": true,
      "name": "ECES-434 Final Project Results",
      "provenance": [],
      "toc_visible": true
    },
    "kernelspec": {
      "display_name": "Python 3.10.6 64-bit",
      "language": "python",
      "name": "python3"
    },
    "language_info": {
      "name": "python",
      "version": "3.10.6"
    },
    "vscode": {
      "interpreter": {
        "hash": "154caf89232b5129e03ae1a1f25f50066e14427028f4f806aecbd05984c43ebe"
      }
    }
  },
  "nbformat": 4,
  "nbformat_minor": 0
}
