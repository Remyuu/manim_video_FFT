{
  "nbformat": 4,
  "nbformat_minor": 0,
  "metadata": {
    "colab": {
      "name": "Class 6.2 (2021-02-17).ipynb",
      "provenance": [],
      "collapsed_sections": [
        "70YbUklCYuue",
        "cDBQiEc8-UFH"
      ],
      "toc_visible": true,
      "include_colab_link": true
    },
    "kernelspec": {
      "display_name": "Python 3",
      "name": "python3"
    }
  },
  "cells": [
    {
      "cell_type": "markdown",
      "metadata": {
        "id": "view-in-github",
        "colab_type": "text"
      },
      "source": [
        "<a href=\"https://colab.research.google.com/github/youngmoo/ECES-434/blob/main/Class%206.2%20(2021-02-17).ipynb\" target=\"_parent\"><img src=\"https://colab.research.google.com/assets/colab-badge.svg\" alt=\"Open In Colab\"/></a>"
      ]
    },
    {
      "cell_type": "markdown",
      "metadata": {
        "id": "qHxN8R_ItyXz"
      },
      "source": [
        "# **ECES-434: Class 6.2 (2021-02-17)**\n",
        "Week 6: Accelerating towards the final project!"
      ]
    },
    {
      "cell_type": "code",
      "metadata": {
        "id": "eDaoDgqCs1mp"
      },
      "source": [
        "import numpy as np                      # NumPy, abbreviated as np\n",
        "import matplotlib.pyplot as plt         # MatplotLib PyPlot module, abbreviated as plt\n",
        "from matplotlib import animation, rc    # MatplotLib animation module\n",
        "%matplotlib inline\n",
        "from scipy import signal                # SciPy's signal module, for DSP functions\n",
        "import soundfile as sf                  # Switching to the soundfile module for reading and writing soundfiles\n",
        "\n",
        "import IPython.display as ipd           # Interactive Python display module, for playing sounds\n",
        "from IPython.display import HTML        # For displaying animations\n",
        "rc('animation', html='jshtml')          # Provides animation controls\n",
        "\n",
        "ClassPath = '/content/drive/My Drive/ECES-434 Sessions/Class 6-2/'"
      ],
      "execution_count": null,
      "outputs": []
    },
    {
      "cell_type": "code",
      "metadata": {
        "id": "QUiMfqMhOWCI"
      },
      "source": [
        "# CHANGE THIS to your Drexel username!!\n",
        "username = 'anonymous'"
      ],
      "execution_count": null,
      "outputs": []
    },
    {
      "cell_type": "code",
      "metadata": {
        "id": "7f-OzFc_mN4w"
      },
      "source": [
        "from google.colab import drive\n",
        "drive.mount('/content/drive')"
      ],
      "execution_count": null,
      "outputs": []
    },
    {
      "cell_type": "markdown",
      "metadata": {
        "id": "70YbUklCYuue"
      },
      "source": [
        "# Custom plotting functions\n",
        "Because we're always plotting..."
      ]
    },
    {
      "cell_type": "markdown",
      "metadata": {
        "id": "oKE5IroW-PTp"
      },
      "source": [
        "## plotSpectrogram"
      ]
    },
    {
      "cell_type": "code",
      "metadata": {
        "id": "mGnf6L4cq-UI"
      },
      "source": [
        "def plotSpectrogram(sig, fs, win='hann', nseg=512, olap=256, fft_len=512):\n",
        "  \n",
        "  f1, t1, Sxx = signal.spectrogram(sig, fs, window=win, nperseg=nseg, noverlap=olap, nfft=fft_len)\n",
        "  fig = plt.figure(figsize=(16,6))\n",
        "  \n",
        "  plt.pcolormesh(t1, f1, 20*np.log10(np.abs(Sxx)))\n",
        "  plt.ylabel('Frequency (Hz)')\n",
        "  plt.xlabel('Time (sec)')\n",
        "  return plt"
      ],
      "execution_count": null,
      "outputs": []
    },
    {
      "cell_type": "markdown",
      "metadata": {
        "id": "cDBQiEc8-UFH"
      },
      "source": [
        "## myPlot(): properly formats time domain plot of a signal"
      ]
    },
    {
      "cell_type": "code",
      "metadata": {
        "id": "f8v2wTLmIlZd"
      },
      "source": [
        "def myPlot(sig, fs=44100):\n",
        "  fig = plt.figure(figsize=(16,4))\n",
        "  t = np.arange(len(sig)) / fs\n",
        "  plt.plot(t, sig)\n",
        "  plt.xlabel('Time (sec)')\n",
        "  return fig, plt"
      ],
      "execution_count": null,
      "outputs": []
    },
    {
      "cell_type": "markdown",
      "metadata": {
        "id": "mILGhvzF-hmU"
      },
      "source": [
        "## myPlotFFT(): properly formats frequency domain plot of a signal"
      ]
    },
    {
      "cell_type": "code",
      "metadata": {
        "id": "xTksRiMEIm3x"
      },
      "source": [
        "def myPlotFFT(sig, n_fft=0, x_lim=22050, fs=44100):\n",
        "  if n_fft==0:                 \n",
        "    n_fft = len(sig)                    # Default to length of input signal\n",
        "  S = np.fft.fft(sig, n_fft)\n",
        "  N = len(S)\n",
        "  f = np.arange(N) * fs / N\n",
        "  fig = plt.figure(figsize=(16,6))\n",
        "  plt.plot(f, 20*np.log10(np.abs(S)))\n",
        "  plt.xlim(0, x_lim)\n",
        "  plt.xlabel('Frequency (Hz)')\n",
        "  plt.ylabel('Magnitude (dB)')\n",
        "  return fig, plt  "
      ],
      "execution_count": null,
      "outputs": []
    },
    {
      "cell_type": "markdown",
      "metadata": {
        "id": "H_C088pI1RLO"
      },
      "source": [
        "## myPlotFFTPhase"
      ]
    },
    {
      "cell_type": "code",
      "metadata": {
        "id": "utnJOZbi1YQW"
      },
      "source": [
        "def myPlotFFTPhase(sig, n_fft=0, x_lim=22050, fs=44100):\n",
        "  if n_fft==0:                 \n",
        "    n_fft = len(sig)                    # Default to length of input signal\n",
        "  S = np.fft.fft(sig, n_fft)\n",
        "  N = len(S)\n",
        "  f = np.arange(N) * fs / N\n",
        "  fig = plt.figure(figsize=(16,4))\n",
        "  plt.plot(f, np.unwrap(np.angle(S)))\n",
        "  plt.xlim(0, x_lim)\n",
        "  plt.xlabel('Frequency (Hz)')\n",
        "  plt.ylabel('Phase (radians)')\n",
        "  return fig, plt"
      ],
      "execution_count": null,
      "outputs": []
    },
    {
      "cell_type": "markdown",
      "metadata": {
        "id": "4xLeOGxb-mOr"
      },
      "source": [
        "## Custom FFT animation functions"
      ]
    },
    {
      "cell_type": "code",
      "metadata": {
        "id": "bCcL0uLp-N9T"
      },
      "source": [
        "n_o = 0\n",
        "f_size = 2048\n",
        "n_hop = f_size / 2\n",
        "N_fft = 4096\n",
        "fs = 44100\n",
        "f = np.arange(N_fft) * fs / N_fft\n",
        "\n",
        "# First set up the figure, the axis, and the plot element we want to animate\n",
        "def setupAnimFFT(x_lim=(0,20000), y_lim=(-120,100)):\n",
        "  fig = plt.figure(figsize=(14,6))\n",
        "  ax = plt.axes(xlim=x_lim,ylim=y_lim)\n",
        "  plt.close()   # Don't output the final figure separately\n",
        "  line, = ax.plot([], [])\n",
        "  return fig, line\n",
        "\n",
        "# initialization function: plot the background of each frame\n",
        "def initAnimFFT():\n",
        "    line.set_data([], [])\n",
        "    return (line,)\n",
        "\n",
        "# animation function. This is called sequentially  \n",
        "def animateFFT(i, sig):\n",
        "    n1 = int(n_o + n_hop*i)\n",
        "    n2 = int(n_o + n_hop*i + f_size)\n",
        "\n",
        "    x_i = sig[n1:n2]\n",
        "    X_i = np.fft.fft(x_i * np.hanning(len(x_i)), n=N_fft)\n",
        "    X_mag = 20*np.log(np.abs(X_i))\n",
        "\n",
        "    line.set_data(f, X_mag)\n",
        "    return (line,)  \n",
        "\n",
        "# Usage:\n",
        "# fig, line = setupAnimFFT()\n",
        "# anim = animation.FuncAnimation(fig, animateFFT, init_func=initAnimFFT, frames=120, fargs=(signal,), interval=1000/30, blit=True)\n",
        "# anim"
      ],
      "execution_count": null,
      "outputs": []
    },
    {
      "cell_type": "markdown",
      "metadata": {
        "id": "e7-jlroJMv4g"
      },
      "source": [
        "# Today's sound file"
      ]
    },
    {
      "cell_type": "code",
      "metadata": {
        "id": "ixLydDz6Nb89"
      },
      "source": [
        "inxs_s, fs44 = sf.read(ClassPath + 'INXS-44kHz.wav')\n",
        "inxs = np.mean(inxs_s,axis=1)\n",
        "ipd.Audio(inxs,rate=fs44)"
      ],
      "execution_count": null,
      "outputs": []
    },
    {
      "cell_type": "markdown",
      "metadata": {
        "id": "nvaLbBJbUORl"
      },
      "source": [
        "# Final Project: Compression"
      ]
    },
    {
      "cell_type": "code",
      "metadata": {
        "id": "jE0O9A2FUVpE"
      },
      "source": [
        "fs = 44100\n",
        "bits = 16\n",
        "channels = 2\n",
        "\n",
        "bitrate = fs * bits * channels\n",
        "bitrate"
      ],
      "execution_count": null,
      "outputs": []
    },
    {
      "cell_type": "markdown",
      "metadata": {
        "id": "dWrTM94UU9W7"
      },
      "source": [
        "## Quantization"
      ]
    },
    {
      "cell_type": "code",
      "metadata": {
        "id": "SGB92fu6Uaul"
      },
      "source": [
        "n_bits = 8\n",
        "inxs_q = np.floor(inxs * 2**(n_bits-1))\n",
        "myPlot(inxs_q)\n",
        "ipd.Audio(inxs_q, rate=fs44)"
      ],
      "execution_count": null,
      "outputs": []
    },
    {
      "cell_type": "markdown",
      "metadata": {
        "id": "Tr2LWsQzVsA0"
      },
      "source": [
        "# Project: Perceptual audio coding"
      ]
    },
    {
      "cell_type": "code",
      "metadata": {
        "id": "RVXelF8DVvvo"
      },
      "source": [
        "fs = 22050\n",
        "f0 = 5000\n",
        "t = np.arange(fs) / fs\n",
        "s = np.sin(2*np.pi*f0*t)\n",
        "ipd.Audio(s,rate=fs)"
      ],
      "execution_count": null,
      "outputs": []
    },
    {
      "cell_type": "code",
      "metadata": {
        "id": "4za0LMiFV0MD"
      },
      "source": [
        "f_delta = 5\n",
        "\n",
        "s_mod = np.sin(2*np.pi*f0*t + 5*np.sin(2*np.pi*f_delta*t))\n",
        "ipd.Audio(s_mod,rate=fs)"
      ],
      "execution_count": null,
      "outputs": []
    },
    {
      "cell_type": "code",
      "metadata": {
        "id": "vi3n42y3Rxk9"
      },
      "source": [
        "dur = 5\n",
        "fs22 = 22050\n",
        "f1 = 100\n",
        "f2 = 1500\n",
        "\n",
        "chirps = []\n",
        "t = np.arange(fs22 * dur) / fs22\n",
        "f_up = (f2 - f1)/dur;\n",
        "\n",
        "chirp = np.sin(np.pi*f_up*t*t + 2*np.pi*f1*t);\n",
        "ipd.Audio(chirp, rate=fs22)"
      ],
      "execution_count": null,
      "outputs": []
    },
    {
      "cell_type": "code",
      "metadata": {
        "id": "aVZP-tcDSA5H"
      },
      "source": [
        "f_c = 950\n",
        "t2 = np.arange(np.ceil(fs22/4)) / fs22\n",
        "tone = np.sin(2*np.pi * f_c * t2) * np.hanning(len(t2))\n",
        "tone = np.append(tone, np.zeros(int(fs22/4)))\n",
        "tones = np.tile(tone,2*dur)\n",
        "plt.plot(tones)\n",
        "plt.xlim(0,22050)\n",
        "ipd.Audio(tones,rate=fs22)"
      ],
      "execution_count": null,
      "outputs": []
    },
    {
      "cell_type": "code",
      "metadata": {
        "id": "krs9rlyWTDL6"
      },
      "source": [
        "test = chirp + 0.01*tones\n",
        "ipd.Audio(test,rate=22050)"
      ],
      "execution_count": null,
      "outputs": []
    },
    {
      "cell_type": "code",
      "metadata": {
        "id": "Nn7d2y9wUB-A"
      },
      "source": [
        "splot = plotSpectrogram(test, 22050, nseg=2048, olap=1920, fft_len=4096)\n",
        "splot.ylim(0,2000)"
      ],
      "execution_count": null,
      "outputs": []
    },
    {
      "cell_type": "code",
      "metadata": {
        "id": "KoGmqSCoVomY"
      },
      "source": [
        "f_p = 1000    # Frequency of peak (masking tone)\n",
        "f_m = 900     # Frequency of masked tone \n",
        "a_m = 0.01    # Amplitde of masked tone\n",
        "\n",
        "tt = np.arange(fs22)/fs22 # One second of samples\n",
        "\n",
        "peak_tone = np.sin(2*np.pi * f_p * tt)\n",
        "mask_tone = a_m * np.sin(2*np.pi * f_m * tt)\n",
        "\n",
        "test_tone = peak_tone + mask_tone\n",
        "\n",
        "#fade = np.hanning(2048)\n",
        "#fade_in = fade[:1024]\n",
        "#fade_out = fade[1024:2048]\n",
        "\n",
        "#test_tone[:1024] *= fade_in\n",
        "#test_tone[len(test_tone)-1024:len(test_tone)] *= fade_out\n",
        "\n",
        "plt.plot(test_tone)\n",
        "ipd.Audio(test_tone, rate=fs22)"
      ],
      "execution_count": null,
      "outputs": []
    },
    {
      "cell_type": "code",
      "metadata": {
        "id": "5x5QRC_zdP4q"
      },
      "source": [
        "sf.write(ClassPath+'sounds/' + username + '-%d-%0.4f.wav' %(f_m, a_m),test_tone,22050)"
      ],
      "execution_count": null,
      "outputs": []
    },
    {
      "cell_type": "code",
      "metadata": {
        "id": "0e_AoWpIZ9fT"
      },
      "source": [
        "myPlotFFT(test_tone / sum(np.abs(test_tone)), fs=22050, x_lim=2000)\n",
        "#plt.savefig(ClassPath + 'figs/' + username + '-%d-%0.4f.png' %(f_m, a_m))"
      ],
      "execution_count": null,
      "outputs": []
    },
    {
      "cell_type": "markdown",
      "metadata": {
        "id": "Y3QvC8CCTLYZ"
      },
      "source": [
        "# Convolution via FFT and inverse FFT..."
      ]
    },
    {
      "cell_type": "code",
      "metadata": {
        "id": "1-o4BYAZJzhQ"
      },
      "source": [
        "f_start = 250000\n",
        "f_size = 2048\n",
        "nFFT = 2048\n",
        "L = 64\n",
        "win = np.ones(f_size) # np.hanning(f_size)\n",
        "\n",
        "sig = inxs[f_start:f_start+f_size]\n",
        "S = np.fft.fft(sig * win, nFFT)\n",
        "H = np.append(np.ones(L), np.zeros(int(nFFT/2)-L))\n",
        "H = np.append(H, np.flipud(H))\n",
        "h = np.real( np.fft.ifft(H) )\n",
        "\n",
        "S_f = S * H\n",
        "s_f = np.real( np.fft.ifft((S_f)) )\n",
        "fig = plt.figure(figsize=(16,6))\n",
        "plt.subplot(311)\n",
        "plt.plot(sig * win)\n",
        "plt.subplot(312)\n",
        "plt.plot(s_f)\n",
        "plt.subplot(313)\n",
        "s_f2 = signal.lfilter(h, 1, sig*win)\n",
        "plt.plot(s_f2)"
      ],
      "execution_count": null,
      "outputs": []
    },
    {
      "cell_type": "code",
      "metadata": {
        "id": "aLY6F_h8opD3"
      },
      "source": [
        "plt.figure(figsize=(16,4))\n",
        "plt.plot(h)"
      ],
      "execution_count": null,
      "outputs": []
    },
    {
      "cell_type": "code",
      "metadata": {
        "id": "JSaefX7qQmMu"
      },
      "source": [
        "fig = plt.figure(figsize=(16,6))\n",
        "plt.subplot(211)\n",
        "plt.plot(s_f - s_f2)\n",
        "plt.subplot(212)\n",
        "plt.plot(np.arange(f_size),s_f, np.arange(f_size),s_f2)\n",
        "plt.xlim(0,200)"
      ],
      "execution_count": null,
      "outputs": []
    },
    {
      "cell_type": "code",
      "metadata": {
        "id": "3nJ2JclRq3Oj"
      },
      "source": [
        "fig = plt.figure(figsize=(16,6))\n",
        "s_f3 = signal.lfilter(h, 1, np.append(sig, np.zeros(f_size)))\n",
        "plt.subplot(211)\n",
        "plt.plot(s_f3)\n",
        "plt.subplot(212)\n",
        "plt.plot(range(f_size*2),np.append(s_f, s_f - s_f2))"
      ],
      "execution_count": null,
      "outputs": []
    },
    {
      "cell_type": "code",
      "metadata": {
        "id": "n6CjuAWDsQuk"
      },
      "source": [
        "fig = plt.figure(figsize=(16,6))\n",
        "h2 = np.fft.fftshift(h)\n",
        "s_f4 = signal.convolve(h2,sig)\n",
        "plt.subplot(211)\n",
        "plt.plot(s_f4)\n",
        "plt.subplot(212)\n",
        "plt.plot(range(f_size*2),np.append(s_f, s_f - s_f2))"
      ],
      "execution_count": null,
      "outputs": []
    },
    {
      "cell_type": "markdown",
      "metadata": {
        "id": "o6j5bg24oRQ6"
      },
      "source": [
        "## What's going on... ?"
      ]
    }
  ]
}