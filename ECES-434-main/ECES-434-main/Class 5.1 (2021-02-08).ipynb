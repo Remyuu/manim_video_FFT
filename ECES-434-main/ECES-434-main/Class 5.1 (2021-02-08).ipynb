{
  "nbformat": 4,
  "nbformat_minor": 0,
  "metadata": {
    "colab": {
      "name": "Class 5.1 (2021-02-08).ipynb",
      "provenance": [],
      "collapsed_sections": [
        "70YbUklCYuue",
        "oKE5IroW-PTp",
        "cDBQiEc8-UFH",
        "4xLeOGxb-mOr"
      ],
      "toc_visible": true,
      "include_colab_link": true
    },
    "kernelspec": {
      "display_name": "Python 3",
      "name": "python3"
    }
  },
  "cells": [
    {
      "cell_type": "markdown",
      "metadata": {
        "id": "view-in-github",
        "colab_type": "text"
      },
      "source": [
        "<a href=\"https://colab.research.google.com/github/youngmoo/ECES-434/blob/main/Class%205.1%20(2021-02-08).ipynb\" target=\"_parent\"><img src=\"https://colab.research.google.com/assets/colab-badge.svg\" alt=\"Open In Colab\"/></a>"
      ]
    },
    {
      "cell_type": "markdown",
      "metadata": {
        "id": "qHxN8R_ItyXz"
      },
      "source": [
        "# **ECES-434: Class 5.1 (2021-02-08)**\n",
        "Week 5: Halfway there!\n"
      ]
    },
    {
      "cell_type": "code",
      "metadata": {
        "id": "eDaoDgqCs1mp"
      },
      "source": [
        "import numpy as np                      # NumPy, abbreviated as np\n",
        "import matplotlib.pyplot as plt         # MatplotLib PyPlot module, abbreviated as plt\n",
        "from matplotlib import animation, rc    # MatplotLib animation module\n",
        "%matplotlib inline\n",
        "from scipy import signal                # SciPy's signal module, for DSP functions\n",
        "import soundfile as sf                  # Switching to the soundfile module for reading and writing soundfiles\n",
        "\n",
        "import IPython.display as ipd           # Interactive Python display module, for playing sounds\n",
        "from IPython.display import HTML        # For displaying animations\n",
        "rc('animation', html='jshtml')          # Provides animation controls\n",
        "\n",
        "ClassPath = '/content/drive/My Drive/ECES-434 Sessions/Class 5-1/'"
      ],
      "execution_count": 2,
      "outputs": []
    },
    {
      "cell_type": "code",
      "metadata": {
        "id": "QUiMfqMhOWCI"
      },
      "source": [
        "# CHANGE THIS to your Drexel username!!\n",
        "username = 'anonymous'"
      ],
      "execution_count": null,
      "outputs": []
    },
    {
      "cell_type": "code",
      "metadata": {
        "id": "7f-OzFc_mN4w",
        "colab": {
          "base_uri": "https://localhost:8080/"
        },
        "outputId": "67a35385-b572-4167-c0da-e6bf92dfc398"
      },
      "source": [
        "from google.colab import drive\n",
        "drive.mount('/content/drive')"
      ],
      "execution_count": null,
      "outputs": [
        {
          "output_type": "stream",
          "text": [
            "Mounted at /content/drive\n"
          ],
          "name": "stdout"
        }
      ]
    },
    {
      "cell_type": "markdown",
      "metadata": {
        "id": "70YbUklCYuue"
      },
      "source": [
        "# Custom plotting functions\n",
        "Because we're always plotting..."
      ]
    },
    {
      "cell_type": "markdown",
      "metadata": {
        "id": "oKE5IroW-PTp"
      },
      "source": [
        "## plotSpectrogram"
      ]
    },
    {
      "cell_type": "code",
      "metadata": {
        "id": "mGnf6L4cq-UI"
      },
      "source": [
        "def plotSpectrogram(sig, fs, win='hann', nseg=512, olap=256, fft_len=512):\n",
        "  f1, t1, Sxx = signal.spectrogram(sig, fs, window=win, nperseg=nseg, noverlap=olap, nfft=fft_len)\n",
        "\n",
        "  fig = plt.figure(figsize=(16,6))\n",
        "\n",
        "  plt.pcolormesh(t1, f1, 20*np.log10(np.abs(Sxx)))\n",
        "  plt.ylabel('Frequency (Hz)')\n",
        "  plt.xlabel('Time (sec)')\n",
        "  return fig, plt"
      ],
      "execution_count": 4,
      "outputs": []
    },
    {
      "cell_type": "markdown",
      "metadata": {
        "id": "cDBQiEc8-UFH"
      },
      "source": [
        "## myPlot(): properly formats time domain plot of a signal"
      ]
    },
    {
      "cell_type": "code",
      "metadata": {
        "id": "f8v2wTLmIlZd"
      },
      "source": [
        "def myPlot(sig, fs=44100):\n",
        "  fig = plt.figure(figsize=(16,4))\n",
        "  t = np.arange(len(sig)) / fs\n",
        "  plt.plot(t, sig)\n",
        "  plt.xlabel('Time (sec)')\n",
        "  return fig, plt"
      ],
      "execution_count": 5,
      "outputs": []
    },
    {
      "cell_type": "markdown",
      "metadata": {
        "id": "mILGhvzF-hmU"
      },
      "source": [
        "## myPlotFFT(): properly formats frequency domain plot of a signal"
      ]
    },
    {
      "cell_type": "code",
      "metadata": {
        "id": "xTksRiMEIm3x"
      },
      "source": [
        "def myPlotFFT(sig, n_fft=0, x_lim=22050, fs=44100):\n",
        "  if n_fft==0:                 \n",
        "    n_fft = len(sig)                    # Default to length of input signal\n",
        "  S = np.fft.fft(sig, n_fft)\n",
        "  N = len(S)\n",
        "  f = np.arange(N) * fs / N\n",
        "  fig = plt.figure(figsize=(16,4))\n",
        "  plt.plot(f, 20*np.log10(np.abs(S)))\n",
        "  plt.xlim(0, x_lim)\n",
        "  return fig, plt  "
      ],
      "execution_count": 6,
      "outputs": []
    },
    {
      "cell_type": "markdown",
      "metadata": {
        "id": "H_C088pI1RLO"
      },
      "source": [
        "## myPlotFFTPhase"
      ]
    },
    {
      "cell_type": "code",
      "metadata": {
        "id": "utnJOZbi1YQW"
      },
      "source": [
        "def myPlotFFTPhase(sig, n_fft=0, x_lim=22050, fs=44100):\n",
        "  if n_fft==0:                 \n",
        "    n_fft = len(sig)                    # Default to length of input signal\n",
        "  S = np.fft.fft(sig, n_fft)\n",
        "  N = len(S)\n",
        "  f = np.arange(N) * fs / N\n",
        "  fig = plt.figure(figsize=(16,4))\n",
        "  plt.plot(f, np.unwrap(np.angle(S)))\n",
        "  plt.xlim(0, x_lim)\n",
        "  plt.xlabel('Frequency (Hz)')\n",
        "  plt.ylabel('Phase (radians)')\n",
        "  return fig, plt"
      ],
      "execution_count": 7,
      "outputs": []
    },
    {
      "cell_type": "markdown",
      "metadata": {
        "id": "4xLeOGxb-mOr"
      },
      "source": [
        "## Custom FFT animation functions"
      ]
    },
    {
      "cell_type": "code",
      "metadata": {
        "id": "bCcL0uLp-N9T"
      },
      "source": [
        "n_o = 0\n",
        "f_size = 2048\n",
        "n_hop = f_size / 2\n",
        "N_fft = 4096\n",
        "fs = 44100\n",
        "f = np.arange(N_fft) * fs / N_fft\n",
        "\n",
        "# First set up the figure, the axis, and the plot element we want to animate\n",
        "def setupAnimFFT(x_lim=(0,20000), y_lim=(-120,100)):\n",
        "  fig = plt.figure(figsize=(14,6))\n",
        "  ax = plt.axes(xlim=x_lim,ylim=y_lim)\n",
        "  plt.close()   # Don't output the final figure separately\n",
        "  line, = ax.plot([], [])\n",
        "  return fig, line\n",
        "\n",
        "# initialization function: plot the background of each frame\n",
        "def initAnimFFT():\n",
        "    line.set_data([], [])\n",
        "    return (line,)\n",
        "\n",
        "# animation function. This is called sequentially  \n",
        "def animateFFT(i, sig):\n",
        "    n1 = int(n_o + n_hop*i)\n",
        "    n2 = int(n_o + n_hop*i + f_size)\n",
        "\n",
        "    x_i = sig[n1:n2]\n",
        "    X_i = np.fft.fft(x_i * np.hanning(len(x_i)), n=N_fft)\n",
        "    X_mag = 20*np.log(np.abs(X_i))\n",
        "\n",
        "    line.set_data(f, X_mag)\n",
        "    return (line,)  \n",
        "\n",
        "# Usage:\n",
        "# fig, line = setupAnimFFT()\n",
        "# anim = animation.FuncAnimation(fig, animateFFT, init_func=initAnimFFT, frames=120, fargs=(signal,), interval=1000/30, blit=True)\n",
        "# anim"
      ],
      "execution_count": 8,
      "outputs": []
    },
    {
      "cell_type": "markdown",
      "metadata": {
        "id": "e7-jlroJMv4g"
      },
      "source": [
        "# Load today's sound files"
      ]
    },
    {
      "cell_type": "code",
      "metadata": {
        "id": "ixLydDz6Nb89"
      },
      "source": [
        "s11, fs11 = sf.read(ClassPath + 'sounds/Sinatra-11kHz-mono.wav')\n",
        "ipd.Audio(s11,rate=fs11)"
      ],
      "execution_count": null,
      "outputs": []
    },
    {
      "cell_type": "markdown",
      "metadata": {
        "id": "4_KAollqEvc9"
      },
      "source": [
        "# Resampling, again... (sorry)\n",
        "Let's briefly return to our 7/5 upsampling/downsampling ratio (11025 Hz >> 15435 Hz)"
      ]
    },
    {
      "cell_type": "code",
      "metadata": {
        "id": "F43an_RzugoF"
      },
      "source": [
        "s77 = ...\n"
      ],
      "execution_count": null,
      "outputs": []
    },
    {
      "cell_type": "markdown",
      "metadata": {
        "id": "uKd2TQ36FE8s"
      },
      "source": [
        "## FIR filter based on a Hann window"
      ]
    },
    {
      "cell_type": "code",
      "metadata": {
        "id": "BsRA_G-AvI5b"
      },
      "source": [
        "h_fir = np.hanning(28)\n",
        "h_fir = h_fir / np.sum(h_fir)"
      ],
      "execution_count": 3,
      "outputs": []
    },
    {
      "cell_type": "markdown",
      "metadata": {
        "id": "vn0D-woeIl1Z"
      },
      "source": [
        "Plot the frequency response"
      ]
    },
    {
      "cell_type": "code",
      "metadata": {
        "id": "H-DrCeu-Faq7"
      },
      "source": [
        "# What's the frequency respose?\n",
        "myPlotFFT(..."
      ],
      "execution_count": null,
      "outputs": []
    },
    {
      "cell_type": "markdown",
      "metadata": {
        "id": "oqSeG6pLIpFJ"
      },
      "source": [
        "Downsample audio and plot"
      ]
    },
    {
      "cell_type": "code",
      "metadata": {
        "id": "kQxtjMDIveiQ"
      },
      "source": [
        "s15 = ...\n",
        "myPlot(s15[:200], ...\n",
        "ipd.Audio(s15, ..."
      ],
      "execution_count": null,
      "outputs": []
    },
    {
      "cell_type": "markdown",
      "metadata": {
        "id": "BJHym-uuJBJY"
      },
      "source": [
        "# Signal to Noise Ratio (SNR)"
      ]
    },
    {
      "cell_type": "code",
      "metadata": {
        "id": "MqHVXPqHwpRs"
      },
      "source": [
        "s15_target, fs15 = sf.read(ClassPath + 'sounds/Sinatra-15435Hz.wav')\n",
        "len(s15_target)"
      ],
      "execution_count": null,
      "outputs": []
    },
    {
      "cell_type": "markdown",
      "metadata": {
        "id": "XBmX-QqLJiiG"
      },
      "source": [
        "Plot the beginning (100 samples) of the target signal vs. your resampled signal"
      ]
    },
    {
      "cell_type": "code",
      "metadata": {
        "id": "ORhBaiBpJhJi"
      },
      "source": [
        "t = len(s15) / fs15\n",
        "plt.plot(t[:100],s15_target[:100], ..."
      ],
      "execution_count": null,
      "outputs": []
    },
    {
      "cell_type": "markdown",
      "metadata": {
        "id": "V1UslsD1J25U"
      },
      "source": [
        "Compute the signal to noise ratio between the target signal and your resampled signal"
      ]
    },
    {
      "cell_type": "code",
      "metadata": {
        "id": "ArffPN0gJ1PE"
      },
      "source": [
        "sig_pow = ...\n",
        "sq_err = ...\n",
        "snr = ...\n",
        "snr_dB = ..."
      ],
      "execution_count": null,
      "outputs": []
    },
    {
      "cell_type": "markdown",
      "metadata": {
        "id": "LtdY3_xDLMwa"
      },
      "source": [
        "Plot a sample-by-sample SNR"
      ]
    },
    {
      "cell_type": "code",
      "metadata": {
        "id": "KmAEQuJ6LPTv"
      },
      "source": [
        "# Plot sample-by-sample SNR in dB\n",
        "plt.plot()"
      ],
      "execution_count": null,
      "outputs": []
    },
    {
      "cell_type": "markdown",
      "metadata": {
        "id": "wG7QODECTi3F"
      },
      "source": [
        "# What about an IIR filter?\n"
      ]
    },
    {
      "cell_type": "code",
      "metadata": {
        "id": "AeGpGvfMxzYV"
      },
      "source": [
        "b,a = signal.butter(11, 1/7)       # IIR filter design using the Butterworth prototype\n",
        "h_iir = ...\n"
      ],
      "execution_count": null,
      "outputs": []
    },
    {
      "cell_type": "markdown",
      "metadata": {
        "id": "ljlUNWsEKaL7"
      },
      "source": [
        "Plot the phase of the IIR filter"
      ]
    },
    {
      "cell_type": "code",
      "metadata": {
        "id": "gpNmELdB0-T5"
      },
      "source": [
        "myPlotFFTPhase(h_iir, x_lim=35000, fs=fs11*7)"
      ],
      "execution_count": null,
      "outputs": []
    },
    {
      "cell_type": "markdown",
      "metadata": {
        "id": "QAuv9WEpKeby"
      },
      "source": [
        "Filter, downsample, and plot the resampled signal"
      ]
    },
    {
      "cell_type": "code",
      "metadata": {
        "id": "kr3tQqfU0RHF"
      },
      "source": [
        "s77_iir = signal.lfilter(b, a, s77)\n",
        "s15_iir = ...\n",
        "myPlot( ..."
      ],
      "execution_count": null,
      "outputs": []
    },
    {
      "cell_type": "markdown",
      "metadata": {
        "id": "bRWmmaRdK4GZ"
      },
      "source": [
        "Plot first 100 samples of target signal and the IIR resampled signal."
      ]
    },
    {
      "cell_type": "code",
      "metadata": {
        "id": "L2nBWY7-2FIi"
      },
      "source": [
        "plt.plot(t[:100],s15_target[:100], ...\n",
        "#plt.ylim(-0.005,0.005)\n",
        "#plt.xlim(0.15,0.18)"
      ],
      "execution_count": null,
      "outputs": []
    },
    {
      "cell_type": "markdown",
      "metadata": {
        "id": "gXHDUs28Lbmg"
      },
      "source": [
        "Compute the SNR between target signal and the IIR resampled signal"
      ]
    },
    {
      "cell_type": "code",
      "metadata": {
        "id": "IdofBdRcLebE"
      },
      "source": [
        "sq_err_iir = ...\n",
        "snr_iir = ...\n",
        "snr_dB_iir = ..."
      ],
      "execution_count": null,
      "outputs": []
    },
    {
      "cell_type": "markdown",
      "metadata": {
        "id": "zhEUKNYqLk9x"
      },
      "source": [
        "Plot the sample-by-sample SNR between the target signal and the IIR resampled signal"
      ]
    },
    {
      "cell_type": "code",
      "metadata": {
        "id": "aeoVhzNu7pUQ"
      },
      "source": [
        ""
      ],
      "execution_count": null,
      "outputs": []
    },
    {
      "cell_type": "markdown",
      "metadata": {
        "id": "d4UozrUBW-tu"
      },
      "source": [
        "# What is the optimal or ideal FIR low-pass filter?\n",
        "\n"
      ]
    },
    {
      "cell_type": "code",
      "metadata": {
        "id": "PihsUqm9vi2f"
      },
      "source": [
        "fs = fs11*7\n",
        "N = 1024\n",
        "L = 32\n",
        "H_ideal = n...\n",
        "\n",
        "fig = plt.figure(figsize=(16,4))\n",
        "f = np.arange(N) * fs / N\n",
        "plt.plot(f, H_ideal)"
      ],
      "execution_count": null,
      "outputs": []
    },
    {
      "cell_type": "markdown",
      "metadata": {
        "id": "P0CH853BecUE"
      },
      "source": [
        "## Is there an *inverse* Fourier Transform?\n",
        "We haven't learned this yet, but let's try it..."
      ]
    },
    {
      "cell_type": "code",
      "metadata": {
        "id": "U382FkdDbzBz"
      },
      "source": [
        "h_ideal = np.fft.ifft(H_ideal)\n",
        "myPlot(np.real(h_ideal), fs=fs11*7)"
      ],
      "execution_count": null,
      "outputs": []
    },
    {
      "cell_type": "code",
      "metadata": {
        "id": "EP5QWpqscXjD"
      },
      "source": [
        "# Plot the imaginary part of the inverse FT"
      ],
      "execution_count": null,
      "outputs": []
    },
    {
      "cell_type": "code",
      "metadata": {
        "id": "ofbDYz51clsL"
      },
      "source": [
        "# Filter needs to be symmetric\n",
        "H_ideal_sym = ...\n",
        "\n",
        "fig = plt.figure(figsize=(16,4))\n",
        "f = np.arange(len(H_ideal_sym)) * fs / len(H_ideal_sym)\n",
        "plt.plot(f, H_ideal_sym)"
      ],
      "execution_count": null,
      "outputs": []
    },
    {
      "cell_type": "code",
      "metadata": {
        "id": "NnmT9qUBcyR8"
      },
      "source": [
        "h_ideal_sym = np.fft.ifft(H_ideal_sym)\n",
        "myPlot(np.real(h_ideal_sym))"
      ],
      "execution_count": null,
      "outputs": []
    },
    {
      "cell_type": "code",
      "metadata": {
        "id": "P-nHnClVdl0q"
      },
      "source": [
        "h_ideal_shift = np.fft.fftshift(h_ideal_sym)\n",
        "myPlot(np.real(h_ideal_shift))"
      ],
      "execution_count": null,
      "outputs": []
    }
  ]
}