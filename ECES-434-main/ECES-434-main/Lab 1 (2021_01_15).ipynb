{
  "nbformat": 4,
  "nbformat_minor": 0,
  "metadata": {
    "colab": {
      "name": "Lab 1 (2021_01_15).ipynb",
      "provenance": [],
      "collapsed_sections": []
    },
    "kernelspec": {
      "name": "python3",
      "display_name": "Python 3"
    }
  },
  "cells": [
    {
      "cell_type": "markdown",
      "metadata": {
        "id": "ZFEN5oEhP6Lp"
      },
      "source": [
        "# Lab 1 - Audio in Python\n",
        "\n",
        "___\n",
        "\n",
        "***Lab Overview***\n",
        "\n",
        "In this lab, you will load and export audio, plot audio signals, and comment on their features.\n",
        "___\n"
      ]
    },
    {
      "cell_type": "markdown",
      "metadata": {
        "id": "cpqKFcHET_bw"
      },
      "source": [
        "**1.** First, mount google drive so that you can access your files. *(You may want to check the notebooks from lecture for a reminder of how this is done.)*"
      ]
    },
    {
      "cell_type": "code",
      "metadata": {
        "id": "krAYLNWtUfkn"
      },
      "source": [
        "# your code here\n"
      ],
      "execution_count": null,
      "outputs": []
    },
    {
      "cell_type": "markdown",
      "metadata": {
        "id": "omldoilDSXgF"
      },
      "source": [
        "**2.** Import the libraries you'll be using: \n",
        "- librosa for audio signal processing\n",
        "- IPython.display (as ipd) for audio playback\n",
        "- matplotlib.pyplot (as plt) for plotting\n",
        "- librosa.display for some audio-specific plotting tools\n",
        "- numpy (as np) for some math functions"
      ]
    },
    {
      "cell_type": "code",
      "metadata": {
        "id": "gT3XONGTP0gF"
      },
      "source": [
        "# your code here\n"
      ],
      "execution_count": null,
      "outputs": []
    },
    {
      "cell_type": "markdown",
      "metadata": {
        "id": "epqNm05HUzD5"
      },
      "source": [
        "**Tip:** To quickly view documentation for a function, you can use the help function. See below."
      ]
    },
    {
      "cell_type": "code",
      "metadata": {
        "id": "B8GGjuVmU6uY"
      },
      "source": [
        "help(librosa.load)"
      ],
      "execution_count": null,
      "outputs": []
    },
    {
      "cell_type": "markdown",
      "metadata": {
        "id": "g3huJxgnSlDL"
      },
      "source": [
        "**3.** Acquire an audio file of a song and upload it to Google Drive. Hopefully, you have some .wav or .mp3 file already on your computer. If not, you may use a tool such as [Youtube To Mp3](https://youtube-to-mp3.org/) to download audio from Youtube.\n",
        "\n",
        "  Using librosa's load function, load the audio signal as an array. When typing the file path, you may find it helpful to browse for the file using Colab's files tab (folder icon on the left). Load will return the audio and its sample rate. (Make sure you load the audio with its original sample rate.)\n",
        "\n",
        "  *Note: If your audio is a .wav file, it is already stored as an array of signal values. If your audio is .mp3, the data has been compressed. Librosa decodes the .mp3 into a .wav file and loads it.*"
      ]
    },
    {
      "cell_type": "code",
      "metadata": {
        "id": "DyuQYRDMgS-m"
      },
      "source": [
        "# your code here\n"
      ],
      "execution_count": null,
      "outputs": []
    },
    {
      "cell_type": "markdown",
      "metadata": {
        "id": "iNJkIDZlRKuV"
      },
      "source": [
        "**4.** Use the ipd.Audio function to listen to your audio."
      ]
    },
    {
      "cell_type": "code",
      "metadata": {
        "id": "LkTcPAzgQgRs"
      },
      "source": [
        "# your code here\n"
      ],
      "execution_count": null,
      "outputs": []
    },
    {
      "cell_type": "markdown",
      "metadata": {
        "id": "vpP9PlbgpbzC"
      },
      "source": [
        "**5.** Answer the following questions.\n",
        "\n",
        "**a.** What is the sampling rate of your audio file?\n",
        "\n",
        "**b.** How many samples long is your audio? (Hint: use the len function)\n",
        "\n",
        "**c.** How long is it in seconds?\n"
      ]
    },
    {
      "cell_type": "markdown",
      "metadata": {
        "id": "ipDKsFrKp5Eu"
      },
      "source": [
        "*Your response here:*\n",
        "\n",
        "**a.**\n",
        "\n",
        "**b.**\n",
        "\n",
        "**c.**\n"
      ]
    },
    {
      "cell_type": "code",
      "metadata": {
        "id": "4tTGzQTNeYfu"
      },
      "source": [
        "# paste your seconds value below and run this cell to print the duration in hours:minutes:seconds format\n",
        "seconds = \n",
        "import datetime\n",
        "print(datetime.timedelta(seconds=seconds))"
      ],
      "execution_count": null,
      "outputs": []
    },
    {
      "cell_type": "markdown",
      "metadata": {
        "id": "jM7j-j8kNmej"
      },
      "source": [
        "**6.** Create a new audio array that contains just the first 5 seconds of your original signal. Listen to the cropped audio and make sure it is the first 5 seconds. \n",
        "\n",
        "*Hint: Use square brackets for array slicing.*"
      ]
    },
    {
      "cell_type": "code",
      "metadata": {
        "id": "hC3jn2HTOp7o"
      },
      "source": [
        "# your code here\n"
      ],
      "execution_count": null,
      "outputs": []
    },
    {
      "cell_type": "markdown",
      "metadata": {
        "id": "ykV9e4DVPn0-"
      },
      "source": [
        "**7.** Using the librosa.output.write_wav function, write your 5 second clip to a wav file. The file should be named [your drexel username].wav. It should be saved in the provided path for the shared class drive.  "
      ]
    },
    {
      "cell_type": "code",
      "metadata": {
        "id": "U6wavq0hUE4H"
      },
      "source": [
        "GDrivePath = '/content/drive/MyDrive/ECES-434 Sessions/Lab 1/'\n",
        "\n",
        "# your code here\n"
      ],
      "execution_count": null,
      "outputs": []
    },
    {
      "cell_type": "markdown",
      "metadata": {
        "id": "OxhqXkWBV9Do"
      },
      "source": [
        "**Now that you've saved the 5 second clip, you will use the full audio for the remainder of this lab.**"
      ]
    },
    {
      "cell_type": "markdown",
      "metadata": {
        "id": "f7osIOihmkKi"
      },
      "source": [
        "**8.**  Use the librosa.display.waveplot function to display the time domain waveform. As arguments you will need to provide the audio array, as well as the sampling rate, which also is returned by the load function. "
      ]
    },
    {
      "cell_type": "code",
      "metadata": {
        "id": "aBgg5nfsiiqx"
      },
      "source": [
        "# your code here\n"
      ],
      "execution_count": null,
      "outputs": []
    },
    {
      "cell_type": "markdown",
      "metadata": {
        "id": "25b3_AxUg2hd"
      },
      "source": [
        "**9.** What information can you gain by viewing this representation?"
      ]
    },
    {
      "cell_type": "markdown",
      "metadata": {
        "id": "GJQhBM0RiVdG"
      },
      "source": [
        "*Your response here*\n",
        "\n"
      ]
    },
    {
      "cell_type": "markdown",
      "metadata": {
        "id": "-WVx5UiHlUkn"
      },
      "source": [
        "**10.** Use the function librosa.stft to compute what is called the Short-Time Fourier Transform (STFT) of the signal. (Just plug in your signal and leave all the other arguments as the default.)\n",
        "\n",
        "The STFT is a complex-valued array: Use np.abs to obtain its absolute value (magnitude). "
      ]
    },
    {
      "cell_type": "code",
      "metadata": {
        "id": "f8OC_pb2ppHD"
      },
      "source": [
        "# your code here\n"
      ],
      "execution_count": null,
      "outputs": []
    },
    {
      "cell_type": "markdown",
      "metadata": {
        "id": "81az32i_dVCd"
      },
      "source": [
        "This magnitude of the STFT is called a **spectrogram**. Paste the name of your spectrogram array into the variable S below, and run the code to produce a figure."
      ]
    },
    {
      "cell_type": "code",
      "metadata": {
        "id": "7iqXvM1Vl29Y"
      },
      "source": [
        "# paste the variable names for your spectrogram and the sampling rate below, then run this cell\n",
        "S = \n",
        "sr = \n",
        "\n",
        "fig, ax = plt.subplots()\n",
        "img = librosa.display.specshow(librosa.amplitude_to_db(S, ref=np.max), x_axis='time', y_axis=\"log\", ax=ax, sr=sr)\n",
        "ax.set_title('Power spectrogram')\n",
        "\n",
        "#your code for problem 12 here\n"
      ],
      "execution_count": null,
      "outputs": []
    },
    {
      "cell_type": "markdown",
      "metadata": {
        "id": "-fK81d4O5rxS"
      },
      "source": [
        "**11.** The spectrogram has time along the x axis and frequencies up the y axis. What information can you gain from this view of the signal?"
      ]
    },
    {
      "cell_type": "markdown",
      "metadata": {
        "id": "RTGy0ljHevrC"
      },
      "source": [
        "*Your response here*\n",
        "\n"
      ]
    },
    {
      "cell_type": "markdown",
      "metadata": {
        "id": "kpUGPnOTfNGd"
      },
      "source": [
        "**12.** Finally, save this spectrogram figure to google drive, using the path for the same shared folder as before. Add your code for this to the bottom of the code box where the figure is produced.\n",
        "\n",
        "You should use the plt.savefig function. Your filename should be [username].png."
      ]
    },
    {
      "cell_type": "markdown",
      "metadata": {
        "id": "2Lyzo002sYmG"
      },
      "source": [
        "___\n",
        "END OF LAB"
      ]
    }
  ]
}