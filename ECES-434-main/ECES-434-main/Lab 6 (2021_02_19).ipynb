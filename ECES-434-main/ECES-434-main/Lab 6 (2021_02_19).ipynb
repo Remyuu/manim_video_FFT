{
  "nbformat": 4,
  "nbformat_minor": 0,
  "metadata": {
    "colab": {
      "name": "Lab 6",
      "provenance": [],
      "collapsed_sections": []
    },
    "kernelspec": {
      "name": "python3",
      "display_name": "Python 3"
    }
  },
  "cells": [
    {
      "cell_type": "markdown",
      "metadata": {
        "id": "HN408Gx2Cq81"
      },
      "source": [
        "# Lab 6 - **Simple Decoder**\n",
        "\n",
        "___\n",
        "\n",
        "**Lab Overview**\n",
        "\n",
        "In this lab you will decode the encoded audio from the previous lab. You will listen to the results and comment on improvements that could be made.\n",
        "___"
      ]
    },
    {
      "cell_type": "markdown",
      "metadata": {
        "id": "OdkjLu-kDScS"
      },
      "source": [
        "**1.** First, run this code to mount google drive so that you can access the class files."
      ]
    },
    {
      "cell_type": "code",
      "metadata": {
        "id": "qaKb0TJdClwu"
      },
      "source": [
        "from google.colab import drive\n",
        "drive.mount('/content/drive')"
      ],
      "execution_count": null,
      "outputs": []
    },
    {
      "cell_type": "markdown",
      "metadata": {
        "id": "nzTG_n9lDbF-"
      },
      "source": [
        "Next, run this code to import the libraries you'll be using."
      ]
    },
    {
      "cell_type": "code",
      "metadata": {
        "id": "AocR22QwDetd"
      },
      "source": [
        "import librosa\n",
        "import IPython.display as ipd\n",
        "import numpy as np"
      ],
      "execution_count": null,
      "outputs": []
    },
    {
      "cell_type": "markdown",
      "metadata": {
        "id": "RBVMLRp5DiCV"
      },
      "source": [
        "Run the code below which loads the original audio excerpt from the previous lab, as well as the compressed version we made. Take another listen to the original audio."
      ]
    },
    {
      "cell_type": "code",
      "metadata": {
        "id": "QSLKR1v-Eeie"
      },
      "source": [
        "load_path = \"/content/drive/MyDrive/ECES-434 Sessions/Lab 6/audio/\"\n",
        "y_original, fs = librosa.load(load_path + \"y_original.wav\", sr=None)\n",
        "y_compressed = np.load(load_path + \"y_compressed.npy\")\n",
        "\n",
        "ipd.Audio(y_original, rate=fs)"
      ],
      "execution_count": null,
      "outputs": []
    },
    {
      "cell_type": "markdown",
      "metadata": {
        "id": "wQCyJHtQuYEe"
      },
      "source": [
        "**2.** Now you will decode the encoded signal in y_compressed. Remember that the encoding was made by keeping only the magnitude/frequency pairs for the top 20 frequencies at each time bin.\n",
        "\n",
        "To reconstruct the original signal, you can create an empty array the shape of the STFT and populate it with the frequencies/magnitudes from the encoding. Then you can do an inverse short-time Fourier transform (ISTFT) to get back to time domain audio. \n",
        "\n",
        "Run the code below which creates an empty array for your STFT."
      ]
    },
    {
      "cell_type": "code",
      "metadata": {
        "id": "E8-FxV4oukXy"
      },
      "source": [
        "S = np.zeros((1025, 1292)) # 1025 freq bins x 1292 time bins"
      ],
      "execution_count": null,
      "outputs": []
    },
    {
      "cell_type": "markdown",
      "metadata": {
        "id": "l7DpPlP7yjcN"
      },
      "source": [
        "Your task is to populate S with all of the values from the y_compressed array.\n",
        "\n",
        "As a reminder, the y_compressed array has a shape of: (1292, 2, 20)\n",
        "- 1292 time bins\n",
        "- 2 for magnitude, frequency\n",
        "- 20 for each of the 20 magnitude/frequency pairs you saved.\n",
        "\n",
        "You should loop through the time bins and for each time bin, loop through the 20 mag/freq pairs. Use each pair to populate the appropriate slot in array S. The frequency value will be used to calculate the freq bin index and the magnitude is the value that will be stored.\n",
        "\n",
        "Hint: Remember that the frequency axis is linearly spaced from 0 to the Nyquist frequency. To serve as indices, you need frequency bins within [0, 1024]."
      ]
    },
    {
      "cell_type": "code",
      "metadata": {
        "id": "XxpBoqA3wyh3"
      },
      "source": [
        "# your code here"
      ],
      "execution_count": null,
      "outputs": []
    },
    {
      "cell_type": "markdown",
      "metadata": {
        "id": "IYduFpjq9ety"
      },
      "source": [
        "**3.** Now run the code below to perform an ISTFT on your array S. The output audio is stored in the y_decoded array. Listen to the decoded audio. The song should at least be recognizable. If it's not, you probably have an error in your code, and you should revise your answer to problem 2."
      ]
    },
    {
      "cell_type": "code",
      "metadata": {
        "id": "T9a9fEiAmNYA"
      },
      "source": [
        "y_decoded = librosa.istft(S, length=len(y_original))\n",
        "ipd.Audio(y_decoded, rate=fs)"
      ],
      "execution_count": null,
      "outputs": []
    },
    {
      "cell_type": "markdown",
      "metadata": {
        "id": "YSMBAupZvvyp"
      },
      "source": [
        "Compare this decoded signal to the original. Name and explain 2 ways you could impove this encoder/decoder system to produce better sounding audio. Be specific. What would be a potential drawback of each of these improvements?"
      ]
    },
    {
      "cell_type": "markdown",
      "metadata": {
        "id": "J1gzRWTRBfZf"
      },
      "source": [
        "*Your response here*"
      ]
    },
    {
      "cell_type": "markdown",
      "metadata": {
        "id": "HOUkp18CHysR"
      },
      "source": [
        "**4. To Submit:** Use the file menu in Colab to locate this notebook file in \n",
        "your Google Drive. Right click the file name and click share. Share it with wiggins@excitecenter.org. Check with the TA to make sure the submission is received."
      ]
    },
    {
      "cell_type": "markdown",
      "metadata": {
        "id": "VbA7MhKcMXVD"
      },
      "source": [
        "___\n",
        "\n",
        "END OF LAB"
      ]
    }
  ]
}